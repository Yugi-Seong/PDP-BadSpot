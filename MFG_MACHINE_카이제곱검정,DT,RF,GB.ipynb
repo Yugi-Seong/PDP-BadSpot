{
 "cells": [
  {
   "cell_type": "code",
   "execution_count": 1,
   "metadata": {},
   "outputs": [],
   "source": [
    "# 데이터 구성 패키지 DataFrame\n",
    "import pandas as pd\n",
    "\n",
    "# 행렬 연산 패키지\n",
    "import numpy as np\n",
    "\n",
    "# 시각화, subpackage pyplot\n",
    "import matplotlib\n",
    "import matplotlib.pyplot as plt\n",
    "\n",
    "# 통계적 시각화 추세 패키지\n",
    "import seaborn as sns\n",
    "\n",
    "# 통계 분석 패키지\n",
    "import scipy.stats\n",
    "from scipy import stats\n",
    "import statsmodels.api as sm\n",
    "from statsmodels.stats.proportion import proportions_ztest # 비율 검정\n",
    "\n",
    "from statsmodels.formula.api import ols\n",
    "import statsmodels.formula.api as smf\n",
    "from statsmodels.stats.anova import anova_lm\n",
    "\n",
    "#export_graphviz: 나무구조 생성및 저장\n",
    "from sklearn.tree import export_graphviz\n",
    "import graphviz\n",
    "from sklearn.model_selection import train_test_split\n",
    "from sklearn.tree import DecisionTreeClassifier as DTC\n",
    "from sklearn.model_selection import GridSearchCV\n",
    "\n",
    "from sklearn.metrics import confusion_matrix\n",
    "\n",
    "matplotlib.rc('font', family = 'NanumSquare')\n",
    "plt.rc('font', family = 'NanumSquare')\n",
    "\n",
    "# jupyter notebook 내 그래프를 바로 그리기 위한 설정\n",
    "%matplotlib inline"
   ]
  },
  {
   "cell_type": "code",
   "execution_count": 2,
   "metadata": {},
   "outputs": [
    {
     "name": "stdout",
     "output_type": "stream",
     "text": [
      "Requirement already satisfied: graphviz in /home/piai/anaconda3/lib/python3.8/site-packages (0.15)\r\n"
     ]
    }
   ],
   "source": [
    "! pip install graphviz"
   ]
  },
  {
   "cell_type": "code",
   "execution_count": 3,
   "metadata": {},
   "outputs": [
    {
     "data": {
      "text/html": [
       "<div>\n",
       "<style scoped>\n",
       "    .dataframe tbody tr th:only-of-type {\n",
       "        vertical-align: middle;\n",
       "    }\n",
       "\n",
       "    .dataframe tbody tr th {\n",
       "        vertical-align: top;\n",
       "    }\n",
       "\n",
       "    .dataframe thead th {\n",
       "        text-align: right;\n",
       "    }\n",
       "</style>\n",
       "<table border=\"1\" class=\"dataframe\">\n",
       "  <thead>\n",
       "    <tr style=\"text-align: right;\">\n",
       "      <th></th>\n",
       "      <th>JUDGE</th>\n",
       "      <th>LOT_ID</th>\n",
       "      <th>PANEL_ID</th>\n",
       "      <th>DATE_1BLACK</th>\n",
       "      <th>TIME_1BLACK</th>\n",
       "      <th>TIME_2AG</th>\n",
       "      <th>TIME_3BUS</th>\n",
       "      <th>TIME_4DIELEC</th>\n",
       "      <th>TIME_5MGO</th>\n",
       "      <th>TIME_6PHOS</th>\n",
       "      <th>...</th>\n",
       "      <th>MC_4DIELEC_1FIRE</th>\n",
       "      <th>MC_5MGO</th>\n",
       "      <th>MC_6PHOS_1R_1DISPENSER</th>\n",
       "      <th>MC_6PHOS_1R_2DRY</th>\n",
       "      <th>MC_6PHOS_2G_1DISPENSER</th>\n",
       "      <th>MC_6PHOS_2G_2DRY</th>\n",
       "      <th>MC_6PHOS_3B_1DISPENSER</th>\n",
       "      <th>MC_6PHOS_4FIRE</th>\n",
       "      <th>MC_7PASTE</th>\n",
       "      <th>MC_8AGING</th>\n",
       "    </tr>\n",
       "  </thead>\n",
       "  <tbody>\n",
       "    <tr>\n",
       "      <th>0</th>\n",
       "      <td>양품</td>\n",
       "      <td>LOT-101</td>\n",
       "      <td>PNL-01</td>\n",
       "      <td>2019-04-01</td>\n",
       "      <td>2019-04-01 0:01</td>\n",
       "      <td>2019-04-01 5:21</td>\n",
       "      <td>2019-04-01 11:01</td>\n",
       "      <td>2019-04-06 13:41</td>\n",
       "      <td>2019-04-11 3:41</td>\n",
       "      <td>2019-04-03 20:20</td>\n",
       "      <td>...</td>\n",
       "      <td>3호기</td>\n",
       "      <td>1호기</td>\n",
       "      <td>1호기</td>\n",
       "      <td>2호기</td>\n",
       "      <td>2호기</td>\n",
       "      <td>2호기</td>\n",
       "      <td>1호기</td>\n",
       "      <td>3호기</td>\n",
       "      <td>1호기</td>\n",
       "      <td>2호기</td>\n",
       "    </tr>\n",
       "    <tr>\n",
       "      <th>1</th>\n",
       "      <td>양품</td>\n",
       "      <td>LOT-101</td>\n",
       "      <td>PNL-02</td>\n",
       "      <td>2019-04-01</td>\n",
       "      <td>2019-04-01 0:45</td>\n",
       "      <td>2019-04-01 6:05</td>\n",
       "      <td>2019-04-01 11:45</td>\n",
       "      <td>2019-04-06 14:25</td>\n",
       "      <td>2019-04-11 4:25</td>\n",
       "      <td>2019-04-03 21:04</td>\n",
       "      <td>...</td>\n",
       "      <td>3호기</td>\n",
       "      <td>1호기</td>\n",
       "      <td>1호기</td>\n",
       "      <td>2호기</td>\n",
       "      <td>2호기</td>\n",
       "      <td>2호기</td>\n",
       "      <td>1호기</td>\n",
       "      <td>3호기</td>\n",
       "      <td>1호기</td>\n",
       "      <td>2호기</td>\n",
       "    </tr>\n",
       "    <tr>\n",
       "      <th>2</th>\n",
       "      <td>양품</td>\n",
       "      <td>LOT-101</td>\n",
       "      <td>PNL-03</td>\n",
       "      <td>2019-04-01</td>\n",
       "      <td>2019-04-01 1:29</td>\n",
       "      <td>2019-04-01 6:49</td>\n",
       "      <td>2019-04-01 12:29</td>\n",
       "      <td>2019-04-06 15:09</td>\n",
       "      <td>2019-04-11 5:09</td>\n",
       "      <td>2019-04-03 21:48</td>\n",
       "      <td>...</td>\n",
       "      <td>3호기</td>\n",
       "      <td>1호기</td>\n",
       "      <td>1호기</td>\n",
       "      <td>2호기</td>\n",
       "      <td>2호기</td>\n",
       "      <td>2호기</td>\n",
       "      <td>1호기</td>\n",
       "      <td>3호기</td>\n",
       "      <td>1호기</td>\n",
       "      <td>2호기</td>\n",
       "    </tr>\n",
       "    <tr>\n",
       "      <th>3</th>\n",
       "      <td>양품</td>\n",
       "      <td>LOT-101</td>\n",
       "      <td>PNL-04</td>\n",
       "      <td>2019-04-01</td>\n",
       "      <td>2019-04-01 2:13</td>\n",
       "      <td>2019-04-01 7:33</td>\n",
       "      <td>2019-04-01 13:13</td>\n",
       "      <td>2019-04-06 15:53</td>\n",
       "      <td>2019-04-11 5:53</td>\n",
       "      <td>2019-04-03 22:32</td>\n",
       "      <td>...</td>\n",
       "      <td>3호기</td>\n",
       "      <td>1호기</td>\n",
       "      <td>1호기</td>\n",
       "      <td>2호기</td>\n",
       "      <td>2호기</td>\n",
       "      <td>2호기</td>\n",
       "      <td>1호기</td>\n",
       "      <td>3호기</td>\n",
       "      <td>1호기</td>\n",
       "      <td>2호기</td>\n",
       "    </tr>\n",
       "    <tr>\n",
       "      <th>4</th>\n",
       "      <td>양품</td>\n",
       "      <td>LOT-101</td>\n",
       "      <td>PNL-05</td>\n",
       "      <td>2019-04-01</td>\n",
       "      <td>2019-04-01 2:58</td>\n",
       "      <td>2019-04-01 8:18</td>\n",
       "      <td>2019-04-01 13:58</td>\n",
       "      <td>2019-04-06 16:38</td>\n",
       "      <td>2019-04-11 6:38</td>\n",
       "      <td>2019-04-03 23:17</td>\n",
       "      <td>...</td>\n",
       "      <td>3호기</td>\n",
       "      <td>1호기</td>\n",
       "      <td>1호기</td>\n",
       "      <td>2호기</td>\n",
       "      <td>2호기</td>\n",
       "      <td>2호기</td>\n",
       "      <td>1호기</td>\n",
       "      <td>3호기</td>\n",
       "      <td>1호기</td>\n",
       "      <td>2호기</td>\n",
       "    </tr>\n",
       "  </tbody>\n",
       "</table>\n",
       "<p>5 rows × 29 columns</p>\n",
       "</div>"
      ],
      "text/plain": [
       "  JUDGE   LOT_ID PANEL_ID DATE_1BLACK      TIME_1BLACK         TIME_2AG  \\\n",
       "0    양품  LOT-101   PNL-01  2019-04-01  2019-04-01 0:01  2019-04-01 5:21   \n",
       "1    양품  LOT-101   PNL-02  2019-04-01  2019-04-01 0:45  2019-04-01 6:05   \n",
       "2    양품  LOT-101   PNL-03  2019-04-01  2019-04-01 1:29  2019-04-01 6:49   \n",
       "3    양품  LOT-101   PNL-04  2019-04-01  2019-04-01 2:13  2019-04-01 7:33   \n",
       "4    양품  LOT-101   PNL-05  2019-04-01  2019-04-01 2:58  2019-04-01 8:18   \n",
       "\n",
       "          TIME_3BUS      TIME_4DIELEC        TIME_5MGO        TIME_6PHOS  ...  \\\n",
       "0  2019-04-01 11:01  2019-04-06 13:41  2019-04-11 3:41  2019-04-03 20:20  ...   \n",
       "1  2019-04-01 11:45  2019-04-06 14:25  2019-04-11 4:25  2019-04-03 21:04  ...   \n",
       "2  2019-04-01 12:29  2019-04-06 15:09  2019-04-11 5:09  2019-04-03 21:48  ...   \n",
       "3  2019-04-01 13:13  2019-04-06 15:53  2019-04-11 5:53  2019-04-03 22:32  ...   \n",
       "4  2019-04-01 13:58  2019-04-06 16:38  2019-04-11 6:38  2019-04-03 23:17  ...   \n",
       "\n",
       "  MC_4DIELEC_1FIRE MC_5MGO MC_6PHOS_1R_1DISPENSER MC_6PHOS_1R_2DRY  \\\n",
       "0              3호기     1호기                    1호기              2호기   \n",
       "1              3호기     1호기                    1호기              2호기   \n",
       "2              3호기     1호기                    1호기              2호기   \n",
       "3              3호기     1호기                    1호기              2호기   \n",
       "4              3호기     1호기                    1호기              2호기   \n",
       "\n",
       "  MC_6PHOS_2G_1DISPENSER MC_6PHOS_2G_2DRY MC_6PHOS_3B_1DISPENSER  \\\n",
       "0                    2호기              2호기                    1호기   \n",
       "1                    2호기              2호기                    1호기   \n",
       "2                    2호기              2호기                    1호기   \n",
       "3                    2호기              2호기                    1호기   \n",
       "4                    2호기              2호기                    1호기   \n",
       "\n",
       "  MC_6PHOS_4FIRE MC_7PASTE MC_8AGING  \n",
       "0            3호기       1호기       2호기  \n",
       "1            3호기       1호기       2호기  \n",
       "2            3호기       1호기       2호기  \n",
       "3            3호기       1호기       2호기  \n",
       "4            3호기       1호기       2호기  \n",
       "\n",
       "[5 rows x 29 columns]"
      ]
     },
     "execution_count": 3,
     "metadata": {},
     "output_type": "execute_result"
    }
   ],
   "source": [
    "df = pd.read_csv(\"data/MFG_MACHINE.csv\", engine=\"python\",encoding=\"cp949\")\n",
    "df.head()"
   ]
  },
  {
   "cell_type": "code",
   "execution_count": 4,
   "metadata": {},
   "outputs": [
    {
     "data": {
      "text/plain": [
       "(4000, 29)"
      ]
     },
     "execution_count": 4,
     "metadata": {},
     "output_type": "execute_result"
    }
   ],
   "source": [
    "df.shape"
   ]
  },
  {
   "cell_type": "code",
   "execution_count": 5,
   "metadata": {},
   "outputs": [
    {
     "name": "stdout",
     "output_type": "stream",
     "text": [
      "<class 'pandas.core.frame.DataFrame'>\n",
      "RangeIndex: 4000 entries, 0 to 3999\n",
      "Data columns (total 29 columns):\n",
      " #   Column                  Non-Null Count  Dtype \n",
      "---  ------                  --------------  ----- \n",
      " 0   JUDGE                   4000 non-null   object\n",
      " 1   LOT_ID                  4000 non-null   object\n",
      " 2   PANEL_ID                4000 non-null   object\n",
      " 3   DATE_1BLACK             4000 non-null   object\n",
      " 4   TIME_1BLACK             4000 non-null   object\n",
      " 5   TIME_2AG                4000 non-null   object\n",
      " 6   TIME_3BUS               4000 non-null   object\n",
      " 7   TIME_4DIELEC            4000 non-null   object\n",
      " 8   TIME_5MGO               4000 non-null   object\n",
      " 9   TIME_6PHOS              4000 non-null   object\n",
      " 10  TIME_7PASTE             4000 non-null   object\n",
      " 11  TIME_8AGING             4000 non-null   object\n",
      " 12  MC_1BLACK_1PRINT        4000 non-null   object\n",
      " 13  MC_1BLACK_2RTD          4000 non-null   object\n",
      " 14  MC_2AG_1PRINT           4000 non-null   object\n",
      " 15  MC_2AG_2RTD             4000 non-null   object\n",
      " 16  MC_2AG_3EXPOSURE        4000 non-null   object\n",
      " 17  MC_3BUS_1DEVELOP        4000 non-null   object\n",
      " 18  MC_3BUS_2FIRE           4000 non-null   object\n",
      " 19  MC_4DIELEC_1FIRE        4000 non-null   object\n",
      " 20  MC_5MGO                 4000 non-null   object\n",
      " 21  MC_6PHOS_1R_1DISPENSER  4000 non-null   object\n",
      " 22  MC_6PHOS_1R_2DRY        4000 non-null   object\n",
      " 23  MC_6PHOS_2G_1DISPENSER  4000 non-null   object\n",
      " 24  MC_6PHOS_2G_2DRY        4000 non-null   object\n",
      " 25  MC_6PHOS_3B_1DISPENSER  4000 non-null   object\n",
      " 26  MC_6PHOS_4FIRE          4000 non-null   object\n",
      " 27  MC_7PASTE               4000 non-null   object\n",
      " 28  MC_8AGING               4000 non-null   object\n",
      "dtypes: object(29)\n",
      "memory usage: 906.4+ KB\n"
     ]
    }
   ],
   "source": [
    "df.info()"
   ]
  },
  {
   "cell_type": "code",
   "execution_count": 6,
   "metadata": {},
   "outputs": [
    {
     "data": {
      "text/plain": [
       "JUDGE                     0\n",
       "LOT_ID                    0\n",
       "PANEL_ID                  0\n",
       "DATE_1BLACK               0\n",
       "TIME_1BLACK               0\n",
       "TIME_2AG                  0\n",
       "TIME_3BUS                 0\n",
       "TIME_4DIELEC              0\n",
       "TIME_5MGO                 0\n",
       "TIME_6PHOS                0\n",
       "TIME_7PASTE               0\n",
       "TIME_8AGING               0\n",
       "MC_1BLACK_1PRINT          0\n",
       "MC_1BLACK_2RTD            0\n",
       "MC_2AG_1PRINT             0\n",
       "MC_2AG_2RTD               0\n",
       "MC_2AG_3EXPOSURE          0\n",
       "MC_3BUS_1DEVELOP          0\n",
       "MC_3BUS_2FIRE             0\n",
       "MC_4DIELEC_1FIRE          0\n",
       "MC_5MGO                   0\n",
       "MC_6PHOS_1R_1DISPENSER    0\n",
       "MC_6PHOS_1R_2DRY          0\n",
       "MC_6PHOS_2G_1DISPENSER    0\n",
       "MC_6PHOS_2G_2DRY          0\n",
       "MC_6PHOS_3B_1DISPENSER    0\n",
       "MC_6PHOS_4FIRE            0\n",
       "MC_7PASTE                 0\n",
       "MC_8AGING                 0\n",
       "dtype: int64"
      ]
     },
     "execution_count": 6,
     "metadata": {},
     "output_type": "execute_result"
    }
   ],
   "source": [
    "df.isnull().sum()"
   ]
  },
  {
   "cell_type": "markdown",
   "metadata": {},
   "source": [
    "결측치 존재하지 않음 "
   ]
  },
  {
   "cell_type": "markdown",
   "metadata": {},
   "source": [
    "MACHINE의 설명변수의 형태는 object 이므로 이상치 제거 작업 필요없음"
   ]
  },
  {
   "cell_type": "code",
   "execution_count": null,
   "metadata": {},
   "outputs": [],
   "source": []
  },
  {
   "cell_type": "markdown",
   "metadata": {},
   "source": [
    "## crosstab_설명변수(범주)와 목표변수(범주)의 관계 파악"
   ]
  },
  {
   "cell_type": "code",
   "execution_count": 7,
   "metadata": {},
   "outputs": [],
   "source": [
    "def fun_print_crosstab(data, var):\n",
    "    print(pd.crosstab(index = data[\"JUDGE\"], columns = data[var]))\n",
    "    print()\n",
    "    print(pd.crosstab(index = data[\"JUDGE\"],columns = data[var], \n",
    "                      normalize =\"columns\").round(3))"
   ]
  },
  {
   "cell_type": "code",
   "execution_count": 8,
   "metadata": {},
   "outputs": [
    {
     "name": "stdout",
     "output_type": "stream",
     "text": [
      "LOT_ID  LOT-101  LOT-102  LOT-103  LOT-104  LOT-105  LOT-106  LOT-107  \\\n",
      "JUDGE                                                                   \n",
      "명점            2        1        3        0        2        0        1   \n",
      "양품           18       19       17       20       18       20       19   \n",
      "\n",
      "LOT_ID  LOT-108  LOT-109  LOT-110  ...  LOT-291  LOT-292  LOT-293  LOT-294  \\\n",
      "JUDGE                              ...                                       \n",
      "명점            0        1        2  ...        5        0        3        2   \n",
      "양품           20       19       18  ...       15       20       17       18   \n",
      "\n",
      "LOT_ID  LOT-295  LOT-296  LOT-297  LOT-298  LOT-299  LOT-300  \n",
      "JUDGE                                                         \n",
      "명점            1        3        2        4        4        3  \n",
      "양품           19       17       18       16       16       17  \n",
      "\n",
      "[2 rows x 200 columns]\n",
      "\n",
      "LOT_ID  LOT-101  LOT-102  LOT-103  LOT-104  LOT-105  LOT-106  LOT-107  \\\n",
      "JUDGE                                                                   \n",
      "명점          0.1     0.05     0.15      0.0      0.1      0.0     0.05   \n",
      "양품          0.9     0.95     0.85      1.0      0.9      1.0     0.95   \n",
      "\n",
      "LOT_ID  LOT-108  LOT-109  LOT-110  ...  LOT-291  LOT-292  LOT-293  LOT-294  \\\n",
      "JUDGE                              ...                                       \n",
      "명점          0.0     0.05      0.1  ...     0.25      0.0     0.15      0.1   \n",
      "양품          1.0     0.95      0.9  ...     0.75      1.0     0.85      0.9   \n",
      "\n",
      "LOT_ID  LOT-295  LOT-296  LOT-297  LOT-298  LOT-299  LOT-300  \n",
      "JUDGE                                                         \n",
      "명점         0.05     0.15      0.1      0.2      0.2     0.15  \n",
      "양품         0.95     0.85      0.9      0.8      0.8     0.85  \n",
      "\n",
      "[2 rows x 200 columns]\n"
     ]
    }
   ],
   "source": [
    "# 가열로 호기\n",
    "fun_print_crosstab(df, \"LOT_ID\")"
   ]
  },
  {
   "cell_type": "code",
   "execution_count": 9,
   "metadata": {},
   "outputs": [
    {
     "name": "stdout",
     "output_type": "stream",
     "text": [
      "PANEL_ID  PNL-01  PNL-02  PNL-03  PNL-04  PNL-05  PNL-06  PNL-07  PNL-08  \\\n",
      "JUDGE                                                                      \n",
      "명점            25      25      18      18      24      24      21      27   \n",
      "양품           175     175     182     182     176     176     179     173   \n",
      "\n",
      "PANEL_ID  PNL-09  PNL-10  PNL-11  PNL-12  PNL-13  PNL-14  PNL-15  PNL-16  \\\n",
      "JUDGE                                                                      \n",
      "명점            21      20      24      22      25      17      21      17   \n",
      "양품           179     180     176     178     175     183     179     183   \n",
      "\n",
      "PANEL_ID  PNL-17  PNL-18  PNL-19  PNL-20  \n",
      "JUDGE                                     \n",
      "명점            16      24      14      24  \n",
      "양품           184     176     186     176  \n",
      "\n",
      "PANEL_ID  PNL-01  PNL-02  PNL-03  PNL-04  PNL-05  PNL-06  PNL-07  PNL-08  \\\n",
      "JUDGE                                                                      \n",
      "명점         0.125   0.125    0.09    0.09    0.12    0.12   0.105   0.135   \n",
      "양품         0.875   0.875    0.91    0.91    0.88    0.88   0.895   0.865   \n",
      "\n",
      "PANEL_ID  PNL-09  PNL-10  PNL-11  PNL-12  PNL-13  PNL-14  PNL-15  PNL-16  \\\n",
      "JUDGE                                                                      \n",
      "명점         0.105     0.1    0.12    0.11   0.125   0.085   0.105   0.085   \n",
      "양품         0.895     0.9    0.88    0.89   0.875   0.915   0.895   0.915   \n",
      "\n",
      "PANEL_ID  PNL-17  PNL-18  PNL-19  PNL-20  \n",
      "JUDGE                                     \n",
      "명점          0.08    0.12    0.07    0.12  \n",
      "양품          0.92    0.88    0.93    0.88  \n"
     ]
    }
   ],
   "source": [
    "fun_print_crosstab(df, \"PANEL_ID\")"
   ]
  },
  {
   "cell_type": "code",
   "execution_count": 10,
   "metadata": {
    "scrolled": false
   },
   "outputs": [
    {
     "name": "stdout",
     "output_type": "stream",
     "text": [
      "DATE_1BLACK  2019-04-01  2019-04-02  2019-04-03  2019-04-04  2019-04-05  \\\n",
      "JUDGE                                                                     \n",
      "명점                    3           3           1           2           0   \n",
      "양품                   30          29          32          31          32   \n",
      "\n",
      "DATE_1BLACK  2019-04-06  2019-04-07  2019-04-08  2019-04-09  2019-04-10  ...  \\\n",
      "JUDGE                                                                    ...   \n",
      "명점                    3           2           1           2           0  ...   \n",
      "양품                   30          30          32          30          33  ...   \n",
      "\n",
      "DATE_1BLACK  2019-07-24  2019-07-25  2019-07-26  2019-07-27  2019-07-28  \\\n",
      "JUDGE                                                                     \n",
      "명점                    7           4           5           5           5   \n",
      "양품                   26          28          28          27          28   \n",
      "\n",
      "DATE_1BLACK  2019-07-29  2019-07-30  2019-07-31  2019-08-01  2019-08-02  \n",
      "JUDGE                                                                    \n",
      "명점                    1           4           7           5           0  \n",
      "양품                   31          29          25          28           1  \n",
      "\n",
      "[2 rows x 124 columns]\n",
      "\n",
      "DATE_1BLACK  2019-04-01  2019-04-02  2019-04-03  2019-04-04  2019-04-05  \\\n",
      "JUDGE                                                                     \n",
      "명점                0.091       0.094        0.03       0.061         0.0   \n",
      "양품                0.909       0.906        0.97       0.939         1.0   \n",
      "\n",
      "DATE_1BLACK  2019-04-06  2019-04-07  2019-04-08  2019-04-09  2019-04-10  ...  \\\n",
      "JUDGE                                                                    ...   \n",
      "명점                0.091       0.062        0.03       0.062         0.0  ...   \n",
      "양품                0.909       0.938        0.97       0.938         1.0  ...   \n",
      "\n",
      "DATE_1BLACK  2019-07-24  2019-07-25  2019-07-26  2019-07-27  2019-07-28  \\\n",
      "JUDGE                                                                     \n",
      "명점                0.212       0.125       0.152       0.156       0.152   \n",
      "양품                0.788       0.875       0.848       0.844       0.848   \n",
      "\n",
      "DATE_1BLACK  2019-07-29  2019-07-30  2019-07-31  2019-08-01  2019-08-02  \n",
      "JUDGE                                                                    \n",
      "명점                0.031       0.121       0.219       0.152         0.0  \n",
      "양품                0.969       0.879       0.781       0.848         1.0  \n",
      "\n",
      "[2 rows x 124 columns]\n"
     ]
    }
   ],
   "source": [
    "fun_print_crosstab(df, \"DATE_1BLACK\") "
   ]
  },
  {
   "cell_type": "markdown",
   "metadata": {},
   "source": [
    "시간에 관련된 설명변수는 crosstab 의미 없음 "
   ]
  },
  {
   "cell_type": "markdown",
   "metadata": {},
   "source": []
  },
  {
   "cell_type": "code",
   "execution_count": 11,
   "metadata": {},
   "outputs": [
    {
     "name": "stdout",
     "output_type": "stream",
     "text": [
      "MC_1BLACK_1PRINT   1호기   2호기\n",
      "JUDGE                       \n",
      "명점                 227   200\n",
      "양품                1933  1640\n",
      "\n",
      "MC_1BLACK_1PRINT    1호기    2호기\n",
      "JUDGE                         \n",
      "명점                0.105  0.109\n",
      "양품                0.895  0.891\n"
     ]
    }
   ],
   "source": [
    "fun_print_crosstab(df, \"MC_1BLACK_1PRINT\") "
   ]
  },
  {
   "cell_type": "code",
   "execution_count": 12,
   "metadata": {},
   "outputs": [
    {
     "name": "stdout",
     "output_type": "stream",
     "text": [
      "MC_1BLACK_2RTD   1호기   2호기\n",
      "JUDGE                     \n",
      "명점               226   201\n",
      "양품              1954  1619\n",
      "\n",
      "MC_1BLACK_2RTD    1호기   2호기\n",
      "JUDGE                      \n",
      "명점              0.104  0.11\n",
      "양품              0.896  0.89\n"
     ]
    }
   ],
   "source": [
    "fun_print_crosstab(df, \"MC_1BLACK_2RTD\") "
   ]
  },
  {
   "cell_type": "code",
   "execution_count": 13,
   "metadata": {},
   "outputs": [
    {
     "name": "stdout",
     "output_type": "stream",
     "text": [
      "MC_2AG_1PRINT   1호기   2호기\n",
      "JUDGE                    \n",
      "명점              220   207\n",
      "양품             1800  1773\n",
      "\n",
      "MC_2AG_1PRINT    1호기    2호기\n",
      "JUDGE                      \n",
      "명점             0.109  0.105\n",
      "양품             0.891  0.895\n"
     ]
    }
   ],
   "source": [
    "fun_print_crosstab(df, \"MC_2AG_1PRINT\") "
   ]
  },
  {
   "cell_type": "code",
   "execution_count": 14,
   "metadata": {},
   "outputs": [
    {
     "name": "stdout",
     "output_type": "stream",
     "text": [
      "MC_2AG_2RTD   1호기   2호기\n",
      "JUDGE                  \n",
      "명점            255   172\n",
      "양품           1925  1648\n",
      "\n",
      "MC_2AG_2RTD    1호기    2호기\n",
      "JUDGE                    \n",
      "명점           0.117  0.095\n",
      "양품           0.883  0.905\n"
     ]
    }
   ],
   "source": [
    "fun_print_crosstab(df, \"MC_2AG_2RTD\")"
   ]
  },
  {
   "cell_type": "code",
   "execution_count": 15,
   "metadata": {},
   "outputs": [
    {
     "name": "stdout",
     "output_type": "stream",
     "text": [
      "MC_2AG_3EXPOSURE   1호기   2호기\n",
      "JUDGE                       \n",
      "명점                 219   208\n",
      "양품                1801  1772\n",
      "\n",
      "MC_2AG_3EXPOSURE    1호기    2호기\n",
      "JUDGE                         \n",
      "명점                0.108  0.105\n",
      "양품                0.892  0.895\n"
     ]
    }
   ],
   "source": [
    "fun_print_crosstab(df, \"MC_2AG_3EXPOSURE\")"
   ]
  },
  {
   "cell_type": "code",
   "execution_count": 16,
   "metadata": {},
   "outputs": [
    {
     "name": "stdout",
     "output_type": "stream",
     "text": [
      "MC_3BUS_1DEVELOP   1호기   2호기\n",
      "JUDGE                       \n",
      "명점                 228   199\n",
      "양품                1732  1841\n",
      "\n",
      "MC_3BUS_1DEVELOP    1호기    2호기\n",
      "JUDGE                         \n",
      "명점                0.116  0.098\n",
      "양품                0.884  0.902\n"
     ]
    }
   ],
   "source": [
    "fun_print_crosstab(df, \"MC_3BUS_1DEVELOP\")"
   ]
  },
  {
   "cell_type": "code",
   "execution_count": 17,
   "metadata": {},
   "outputs": [
    {
     "name": "stdout",
     "output_type": "stream",
     "text": [
      "MC_3BUS_2FIRE   1호기   2호기\n",
      "JUDGE                    \n",
      "명점              223   204\n",
      "양품             1957  1616\n",
      "\n",
      "MC_3BUS_2FIRE    1호기    2호기\n",
      "JUDGE                      \n",
      "명점             0.102  0.112\n",
      "양품             0.898  0.888\n"
     ]
    }
   ],
   "source": [
    "fun_print_crosstab(df, \"MC_3BUS_2FIRE\") "
   ]
  },
  {
   "cell_type": "code",
   "execution_count": 18,
   "metadata": {},
   "outputs": [
    {
     "name": "stdout",
     "output_type": "stream",
     "text": [
      "MC_4DIELEC_1FIRE   1호기   2호기   3호기\n",
      "JUDGE                             \n",
      "명점                 146   162   119\n",
      "양품                1194  1118  1261\n",
      "\n",
      "MC_4DIELEC_1FIRE    1호기    2호기    3호기\n",
      "JUDGE                                \n",
      "명점                0.109  0.127  0.086\n",
      "양품                0.891  0.873  0.914\n"
     ]
    }
   ],
   "source": [
    "fun_print_crosstab(df, \"MC_4DIELEC_1FIRE\") "
   ]
  },
  {
   "cell_type": "code",
   "execution_count": 19,
   "metadata": {},
   "outputs": [
    {
     "name": "stdout",
     "output_type": "stream",
     "text": [
      "MC_5MGO   1호기   2호기\n",
      "JUDGE              \n",
      "명점        198   229\n",
      "양품       1762  1811\n",
      "\n",
      "MC_5MGO    1호기    2호기\n",
      "JUDGE                \n",
      "명점       0.101  0.112\n",
      "양품       0.899  0.888\n"
     ]
    }
   ],
   "source": [
    "fun_print_crosstab(df, \"MC_5MGO\")  "
   ]
  },
  {
   "cell_type": "code",
   "execution_count": 20,
   "metadata": {},
   "outputs": [
    {
     "name": "stdout",
     "output_type": "stream",
     "text": [
      "MC_6PHOS_1R_1DISPENSER   1호기   2호기\n",
      "JUDGE                             \n",
      "명점                       242   185\n",
      "양품                      1998  1575\n",
      "\n",
      "MC_6PHOS_1R_1DISPENSER    1호기    2호기\n",
      "JUDGE                               \n",
      "명점                      0.108  0.105\n",
      "양품                      0.892  0.895\n"
     ]
    }
   ],
   "source": [
    "fun_print_crosstab(df, \"MC_6PHOS_1R_1DISPENSER\")  "
   ]
  },
  {
   "cell_type": "code",
   "execution_count": 21,
   "metadata": {},
   "outputs": [
    {
     "name": "stdout",
     "output_type": "stream",
     "text": [
      "MC_6PHOS_1R_2DRY   1호기   2호기\n",
      "JUDGE                       \n",
      "명점                 209   218\n",
      "양품                1651  1922\n",
      "\n",
      "MC_6PHOS_1R_2DRY    1호기    2호기\n",
      "JUDGE                         \n",
      "명점                0.112  0.102\n",
      "양품                0.888  0.898\n"
     ]
    }
   ],
   "source": [
    "fun_print_crosstab(df, \"MC_6PHOS_1R_2DRY\")  "
   ]
  },
  {
   "cell_type": "code",
   "execution_count": 22,
   "metadata": {},
   "outputs": [
    {
     "name": "stdout",
     "output_type": "stream",
     "text": [
      "MC_6PHOS_2G_1DISPENSER   1호기   2호기\n",
      "JUDGE                             \n",
      "명점                       236   191\n",
      "양품                      1884  1689\n",
      "\n",
      "MC_6PHOS_2G_1DISPENSER    1호기    2호기\n",
      "JUDGE                               \n",
      "명점                      0.111  0.102\n",
      "양품                      0.889  0.898\n"
     ]
    }
   ],
   "source": [
    "fun_print_crosstab(df, \"MC_6PHOS_2G_1DISPENSER\")  "
   ]
  },
  {
   "cell_type": "code",
   "execution_count": 23,
   "metadata": {},
   "outputs": [
    {
     "name": "stdout",
     "output_type": "stream",
     "text": [
      "MC_6PHOS_2G_2DRY   1호기   2호기\n",
      "JUDGE                       \n",
      "명점                 223   204\n",
      "양품                2037  1536\n",
      "\n",
      "MC_6PHOS_2G_2DRY    1호기    2호기\n",
      "JUDGE                         \n",
      "명점                0.099  0.117\n",
      "양품                0.901  0.883\n"
     ]
    }
   ],
   "source": [
    "fun_print_crosstab(df, \"MC_6PHOS_2G_2DRY\")  "
   ]
  },
  {
   "cell_type": "code",
   "execution_count": 24,
   "metadata": {},
   "outputs": [
    {
     "name": "stdout",
     "output_type": "stream",
     "text": [
      "MC_6PHOS_3B_1DISPENSER   1호기   2호기\n",
      "JUDGE                             \n",
      "명점                       217   210\n",
      "양품                      1883  1690\n",
      "\n",
      "MC_6PHOS_3B_1DISPENSER    1호기    2호기\n",
      "JUDGE                               \n",
      "명점                      0.103  0.111\n",
      "양품                      0.897  0.889\n"
     ]
    }
   ],
   "source": [
    "fun_print_crosstab(df, \"MC_6PHOS_3B_1DISPENSER\")  "
   ]
  },
  {
   "cell_type": "code",
   "execution_count": 25,
   "metadata": {},
   "outputs": [
    {
     "name": "stdout",
     "output_type": "stream",
     "text": [
      "MC_6PHOS_4FIRE   1호기   2호기   3호기\n",
      "JUDGE                           \n",
      "명점               104   156   167\n",
      "양품              1056  1264  1253\n",
      "\n",
      "MC_6PHOS_4FIRE   1호기   2호기    3호기\n",
      "JUDGE                            \n",
      "명점              0.09  0.11  0.118\n",
      "양품              0.91  0.89  0.882\n"
     ]
    }
   ],
   "source": [
    "fun_print_crosstab(df, \"MC_6PHOS_4FIRE\")  "
   ]
  },
  {
   "cell_type": "code",
   "execution_count": 26,
   "metadata": {},
   "outputs": [
    {
     "name": "stdout",
     "output_type": "stream",
     "text": [
      "MC_7PASTE   1호기   2호기\n",
      "JUDGE                \n",
      "명점          231   196\n",
      "양품         1969  1604\n",
      "\n",
      "MC_7PASTE    1호기    2호기\n",
      "JUDGE                  \n",
      "명점         0.105  0.109\n",
      "양품         0.895  0.891\n"
     ]
    }
   ],
   "source": [
    "fun_print_crosstab(df, \"MC_7PASTE\")  "
   ]
  },
  {
   "cell_type": "code",
   "execution_count": 27,
   "metadata": {},
   "outputs": [
    {
     "name": "stdout",
     "output_type": "stream",
     "text": [
      "MC_8AGING   1호기   2호기\n",
      "JUDGE                \n",
      "명점          242   185\n",
      "양품         1958  1615\n",
      "\n",
      "MC_8AGING   1호기    2호기\n",
      "JUDGE                 \n",
      "명점         0.11  0.103\n",
      "양품         0.89  0.897\n"
     ]
    }
   ],
   "source": [
    "fun_print_crosstab(df, \"MC_8AGING\")  "
   ]
  },
  {
   "cell_type": "markdown",
   "metadata": {},
   "source": [
    "호기관련 설명변수는 호기별로 불량률 특별한 차이가 없음 "
   ]
  },
  {
   "cell_type": "markdown",
   "metadata": {},
   "source": [
    "## 카이제곱"
   ]
  },
  {
   "cell_type": "code",
   "execution_count": 28,
   "metadata": {
    "scrolled": true
   },
   "outputs": [
    {
     "data": {
      "text/html": [
       "<div>\n",
       "<style scoped>\n",
       "    .dataframe tbody tr th:only-of-type {\n",
       "        vertical-align: middle;\n",
       "    }\n",
       "\n",
       "    .dataframe tbody tr th {\n",
       "        vertical-align: top;\n",
       "    }\n",
       "\n",
       "    .dataframe thead th {\n",
       "        text-align: right;\n",
       "    }\n",
       "</style>\n",
       "<table border=\"1\" class=\"dataframe\">\n",
       "  <thead>\n",
       "    <tr style=\"text-align: right;\">\n",
       "      <th>JUDGE</th>\n",
       "      <th>명점</th>\n",
       "      <th>양품</th>\n",
       "    </tr>\n",
       "    <tr>\n",
       "      <th>MC_1BLACK_1PRINT</th>\n",
       "      <th></th>\n",
       "      <th></th>\n",
       "    </tr>\n",
       "  </thead>\n",
       "  <tbody>\n",
       "    <tr>\n",
       "      <th>1호기</th>\n",
       "      <td>227</td>\n",
       "      <td>1933</td>\n",
       "    </tr>\n",
       "    <tr>\n",
       "      <th>2호기</th>\n",
       "      <td>200</td>\n",
       "      <td>1640</td>\n",
       "    </tr>\n",
       "  </tbody>\n",
       "</table>\n",
       "</div>"
      ],
      "text/plain": [
       "JUDGE              명점    양품\n",
       "MC_1BLACK_1PRINT           \n",
       "1호기               227  1933\n",
       "2호기               200  1640"
      ]
     },
     "execution_count": 28,
     "metadata": {},
     "output_type": "execute_result"
    }
   ],
   "source": [
    "result = pd.crosstab(df.MC_1BLACK_1PRINT,df.JUDGE)\n",
    "result"
   ]
  },
  {
   "cell_type": "code",
   "execution_count": 29,
   "metadata": {},
   "outputs": [],
   "source": [
    "from scipy.stats import chi2_contingency"
   ]
  },
  {
   "cell_type": "code",
   "execution_count": 30,
   "metadata": {},
   "outputs": [],
   "source": [
    "chi2, pval, dof, expected = chi2_contingency(result)"
   ]
  },
  {
   "cell_type": "code",
   "execution_count": 31,
   "metadata": {
    "scrolled": true
   },
   "outputs": [
    {
     "data": {
      "text/plain": [
       "(0.1001264783903205,\n",
       " 0.7516779078099791,\n",
       " 1,\n",
       " array([[ 230.58, 1929.42],\n",
       "        [ 196.42, 1643.58]]))"
      ]
     },
     "execution_count": 31,
     "metadata": {},
     "output_type": "execute_result"
    }
   ],
   "source": [
    "stats.chi2_contingency(observed = result)"
   ]
  },
  {
   "cell_type": "markdown",
   "metadata": {},
   "source": [
    "귀무가설 : MC_1BLACK_1PRINT 의 1호기와 2호기의 양품과 명점의 차이가 없다.   \n",
    "대립가설 : MC_1BLACK_1PRINT 의 1호기와 2호기의 양품과 명점의 차이가 있다.  \n",
    "\n",
    "결론 : Pvalue값이 0.05이상으로 MC_1BLACK_1PRINT의 1호기와 2호기의 양품과 명점의 차이가 없다."
   ]
  },
  {
   "cell_type": "code",
   "execution_count": null,
   "metadata": {},
   "outputs": [],
   "source": []
  },
  {
   "cell_type": "code",
   "execution_count": 32,
   "metadata": {
    "scrolled": true
   },
   "outputs": [
    {
     "data": {
      "text/html": [
       "<div>\n",
       "<style scoped>\n",
       "    .dataframe tbody tr th:only-of-type {\n",
       "        vertical-align: middle;\n",
       "    }\n",
       "\n",
       "    .dataframe tbody tr th {\n",
       "        vertical-align: top;\n",
       "    }\n",
       "\n",
       "    .dataframe thead th {\n",
       "        text-align: right;\n",
       "    }\n",
       "</style>\n",
       "<table border=\"1\" class=\"dataframe\">\n",
       "  <thead>\n",
       "    <tr style=\"text-align: right;\">\n",
       "      <th>JUDGE</th>\n",
       "      <th>명점</th>\n",
       "      <th>양품</th>\n",
       "    </tr>\n",
       "    <tr>\n",
       "      <th>MC_1BLACK_2RTD</th>\n",
       "      <th></th>\n",
       "      <th></th>\n",
       "    </tr>\n",
       "  </thead>\n",
       "  <tbody>\n",
       "    <tr>\n",
       "      <th>1호기</th>\n",
       "      <td>226</td>\n",
       "      <td>1954</td>\n",
       "    </tr>\n",
       "    <tr>\n",
       "      <th>2호기</th>\n",
       "      <td>201</td>\n",
       "      <td>1619</td>\n",
       "    </tr>\n",
       "  </tbody>\n",
       "</table>\n",
       "</div>"
      ],
      "text/plain": [
       "JUDGE            명점    양품\n",
       "MC_1BLACK_2RTD           \n",
       "1호기             226  1954\n",
       "2호기             201  1619"
      ]
     },
     "execution_count": 32,
     "metadata": {},
     "output_type": "execute_result"
    }
   ],
   "source": [
    "result = pd.crosstab(df.MC_1BLACK_2RTD,df.JUDGE)\n",
    "result"
   ]
  },
  {
   "cell_type": "code",
   "execution_count": 33,
   "metadata": {},
   "outputs": [],
   "source": [
    "chi2, pval, dof, expected = chi2_contingency(result)"
   ]
  },
  {
   "cell_type": "code",
   "execution_count": 34,
   "metadata": {},
   "outputs": [
    {
     "data": {
      "text/plain": [
       "(0.4083884652385775,\n",
       " 0.5227885920529354,\n",
       " 1,\n",
       " array([[ 232.715, 1947.285],\n",
       "        [ 194.285, 1625.715]]))"
      ]
     },
     "execution_count": 34,
     "metadata": {},
     "output_type": "execute_result"
    }
   ],
   "source": [
    "stats.chi2_contingency(observed = result)"
   ]
  },
  {
   "cell_type": "code",
   "execution_count": 35,
   "metadata": {},
   "outputs": [
    {
     "data": {
      "text/plain": [
       "(0.4083884652385775,\n",
       " 0.5227885920529354,\n",
       " 1,\n",
       " array([[ 232.715, 1947.285],\n",
       "        [ 194.285, 1625.715]]))"
      ]
     },
     "execution_count": 35,
     "metadata": {},
     "output_type": "execute_result"
    }
   ],
   "source": [
    "stats.chi2_contingency(observed = result)"
   ]
  },
  {
   "cell_type": "markdown",
   "metadata": {},
   "source": [
    "귀무가설 : MC_1BLACK_2RTD의 1호기와 2호기의 양품과 명점의 차이가 없다.   \n",
    "대립가설 : MC_1BLACK_2RTD의 1호기와 2호기의 양품과 명점의 차이가 있다.  \n",
    "\n",
    "결론 : Pvalue값이 0.05이상으로 MC_1BLACK_2RTD의 1호기와 2호기의 양품과 명점의 차이가 없다."
   ]
  },
  {
   "cell_type": "code",
   "execution_count": null,
   "metadata": {},
   "outputs": [],
   "source": []
  },
  {
   "cell_type": "code",
   "execution_count": 36,
   "metadata": {},
   "outputs": [
    {
     "data": {
      "text/html": [
       "<div>\n",
       "<style scoped>\n",
       "    .dataframe tbody tr th:only-of-type {\n",
       "        vertical-align: middle;\n",
       "    }\n",
       "\n",
       "    .dataframe tbody tr th {\n",
       "        vertical-align: top;\n",
       "    }\n",
       "\n",
       "    .dataframe thead th {\n",
       "        text-align: right;\n",
       "    }\n",
       "</style>\n",
       "<table border=\"1\" class=\"dataframe\">\n",
       "  <thead>\n",
       "    <tr style=\"text-align: right;\">\n",
       "      <th>JUDGE</th>\n",
       "      <th>명점</th>\n",
       "      <th>양품</th>\n",
       "    </tr>\n",
       "    <tr>\n",
       "      <th>MC_2AG_1PRINT</th>\n",
       "      <th></th>\n",
       "      <th></th>\n",
       "    </tr>\n",
       "  </thead>\n",
       "  <tbody>\n",
       "    <tr>\n",
       "      <th>1호기</th>\n",
       "      <td>220</td>\n",
       "      <td>1800</td>\n",
       "    </tr>\n",
       "    <tr>\n",
       "      <th>2호기</th>\n",
       "      <td>207</td>\n",
       "      <td>1773</td>\n",
       "    </tr>\n",
       "  </tbody>\n",
       "</table>\n",
       "</div>"
      ],
      "text/plain": [
       "JUDGE           명점    양품\n",
       "MC_2AG_1PRINT           \n",
       "1호기            220  1800\n",
       "2호기            207  1773"
      ]
     },
     "execution_count": 36,
     "metadata": {},
     "output_type": "execute_result"
    }
   ],
   "source": [
    "result = pd.crosstab(df.MC_2AG_1PRINT,df.JUDGE)\n",
    "result"
   ]
  },
  {
   "cell_type": "code",
   "execution_count": 37,
   "metadata": {
    "scrolled": true
   },
   "outputs": [
    {
     "data": {
      "text/plain": [
       "(0.15667565520374716,\n",
       " 0.6922357871871667,\n",
       " 1,\n",
       " array([[ 215.635, 1804.365],\n",
       "        [ 211.365, 1768.635]]))"
      ]
     },
     "execution_count": 37,
     "metadata": {},
     "output_type": "execute_result"
    }
   ],
   "source": [
    "stats.chi2_contingency(observed = result)"
   ]
  },
  {
   "cell_type": "markdown",
   "metadata": {},
   "source": [
    "귀무가설 : MC_2AG_1PRINT의 1호기와 2호기의 양품과 명점의 차이가 없다.   \n",
    "대립가설 : MC_2AG_1PRINT의 1호기와 2호기의 양품과 명점의 차이가 있다.  \n",
    "\n",
    "결론 : Pvalue값이 0.05이상으로 MC_2AG_1PRINT의 1호기와 2호기의 양품과 명점의 차이가 없다."
   ]
  },
  {
   "cell_type": "code",
   "execution_count": 38,
   "metadata": {},
   "outputs": [
    {
     "data": {
      "text/html": [
       "<div>\n",
       "<style scoped>\n",
       "    .dataframe tbody tr th:only-of-type {\n",
       "        vertical-align: middle;\n",
       "    }\n",
       "\n",
       "    .dataframe tbody tr th {\n",
       "        vertical-align: top;\n",
       "    }\n",
       "\n",
       "    .dataframe thead th {\n",
       "        text-align: right;\n",
       "    }\n",
       "</style>\n",
       "<table border=\"1\" class=\"dataframe\">\n",
       "  <thead>\n",
       "    <tr style=\"text-align: right;\">\n",
       "      <th>JUDGE</th>\n",
       "      <th>명점</th>\n",
       "      <th>양품</th>\n",
       "    </tr>\n",
       "    <tr>\n",
       "      <th>MC_2AG_2RTD</th>\n",
       "      <th></th>\n",
       "      <th></th>\n",
       "    </tr>\n",
       "  </thead>\n",
       "  <tbody>\n",
       "    <tr>\n",
       "      <th>1호기</th>\n",
       "      <td>255</td>\n",
       "      <td>1925</td>\n",
       "    </tr>\n",
       "    <tr>\n",
       "      <th>2호기</th>\n",
       "      <td>172</td>\n",
       "      <td>1648</td>\n",
       "    </tr>\n",
       "  </tbody>\n",
       "</table>\n",
       "</div>"
      ],
      "text/plain": [
       "JUDGE         명점    양품\n",
       "MC_2AG_2RTD           \n",
       "1호기          255  1925\n",
       "2호기          172  1648"
      ]
     },
     "execution_count": 38,
     "metadata": {},
     "output_type": "execute_result"
    }
   ],
   "source": [
    "result = pd.crosstab(df.MC_2AG_2RTD,df.JUDGE)\n",
    "result"
   ]
  },
  {
   "cell_type": "code",
   "execution_count": 39,
   "metadata": {
    "scrolled": true
   },
   "outputs": [
    {
     "data": {
      "text/plain": [
       "(5.017718921564835,\n",
       " 0.025089199618344136,\n",
       " 1,\n",
       " array([[ 232.715, 1947.285],\n",
       "        [ 194.285, 1625.715]]))"
      ]
     },
     "execution_count": 39,
     "metadata": {},
     "output_type": "execute_result"
    }
   ],
   "source": [
    "stats.chi2_contingency(observed = result)"
   ]
  },
  {
   "cell_type": "markdown",
   "metadata": {},
   "source": [
    "귀무가설 : MC_2AG_2RTD의 1호기와 2호기의 양품과 명점의 차이가 없다.   \n",
    "대립가설 : MC_2AG_2RTD의 1호기와 2호기의 양품과 명점의 차이가 있다.  \n",
    "\n",
    "결론 : Pvalue값이 0.05이하로 MC_2AG_1PRINT의 1호기와 2호기의 양품과 명점의 차이가 있다."
   ]
  },
  {
   "cell_type": "code",
   "execution_count": 40,
   "metadata": {},
   "outputs": [
    {
     "data": {
      "text/html": [
       "<div>\n",
       "<style scoped>\n",
       "    .dataframe tbody tr th:only-of-type {\n",
       "        vertical-align: middle;\n",
       "    }\n",
       "\n",
       "    .dataframe tbody tr th {\n",
       "        vertical-align: top;\n",
       "    }\n",
       "\n",
       "    .dataframe thead th {\n",
       "        text-align: right;\n",
       "    }\n",
       "</style>\n",
       "<table border=\"1\" class=\"dataframe\">\n",
       "  <thead>\n",
       "    <tr style=\"text-align: right;\">\n",
       "      <th>JUDGE</th>\n",
       "      <th>명점</th>\n",
       "      <th>양품</th>\n",
       "    </tr>\n",
       "    <tr>\n",
       "      <th>MC_2AG_3EXPOSURE</th>\n",
       "      <th></th>\n",
       "      <th></th>\n",
       "    </tr>\n",
       "  </thead>\n",
       "  <tbody>\n",
       "    <tr>\n",
       "      <th>1호기</th>\n",
       "      <td>219</td>\n",
       "      <td>1801</td>\n",
       "    </tr>\n",
       "    <tr>\n",
       "      <th>2호기</th>\n",
       "      <td>208</td>\n",
       "      <td>1772</td>\n",
       "    </tr>\n",
       "  </tbody>\n",
       "</table>\n",
       "</div>"
      ],
      "text/plain": [
       "JUDGE              명점    양품\n",
       "MC_2AG_3EXPOSURE           \n",
       "1호기               219  1801\n",
       "2호기               208  1772"
      ]
     },
     "execution_count": 40,
     "metadata": {},
     "output_type": "execute_result"
    }
   ],
   "source": [
    "result = pd.crosstab(df.MC_2AG_3EXPOSURE,df.JUDGE)\n",
    "result"
   ]
  },
  {
   "cell_type": "code",
   "execution_count": 41,
   "metadata": {},
   "outputs": [
    {
     "data": {
      "text/plain": [
       "(0.08608981521799142,\n",
       " 0.7692082785753981,\n",
       " 1,\n",
       " array([[ 215.635, 1804.365],\n",
       "        [ 211.365, 1768.635]]))"
      ]
     },
     "execution_count": 41,
     "metadata": {},
     "output_type": "execute_result"
    }
   ],
   "source": [
    "stats.chi2_contingency(observed = result)"
   ]
  },
  {
   "cell_type": "markdown",
   "metadata": {},
   "source": [
    "귀무가설 : MC_2AG_3EXPOSURE의 1호기와 2호기의 양품과 명점의 차이가 없다.   \n",
    "대립가설 : MC_2AG_3EXPOSURE의 1호기와 2호기의 양품과 명점의 차이가 있다.  \n",
    "\n",
    "결론 : Pvalue값이 0.05이상으로 MC_2AG_3EXPOSURE의 1호기와 2호기의 양품과 명점의 차이가 없다."
   ]
  },
  {
   "cell_type": "code",
   "execution_count": 42,
   "metadata": {},
   "outputs": [
    {
     "data": {
      "text/html": [
       "<div>\n",
       "<style scoped>\n",
       "    .dataframe tbody tr th:only-of-type {\n",
       "        vertical-align: middle;\n",
       "    }\n",
       "\n",
       "    .dataframe tbody tr th {\n",
       "        vertical-align: top;\n",
       "    }\n",
       "\n",
       "    .dataframe thead th {\n",
       "        text-align: right;\n",
       "    }\n",
       "</style>\n",
       "<table border=\"1\" class=\"dataframe\">\n",
       "  <thead>\n",
       "    <tr style=\"text-align: right;\">\n",
       "      <th>JUDGE</th>\n",
       "      <th>명점</th>\n",
       "      <th>양품</th>\n",
       "    </tr>\n",
       "    <tr>\n",
       "      <th>MC_3BUS_1DEVELOP</th>\n",
       "      <th></th>\n",
       "      <th></th>\n",
       "    </tr>\n",
       "  </thead>\n",
       "  <tbody>\n",
       "    <tr>\n",
       "      <th>1호기</th>\n",
       "      <td>228</td>\n",
       "      <td>1732</td>\n",
       "    </tr>\n",
       "    <tr>\n",
       "      <th>2호기</th>\n",
       "      <td>199</td>\n",
       "      <td>1841</td>\n",
       "    </tr>\n",
       "  </tbody>\n",
       "</table>\n",
       "</div>"
      ],
      "text/plain": [
       "JUDGE              명점    양품\n",
       "MC_3BUS_1DEVELOP           \n",
       "1호기               228  1732\n",
       "2호기               199  1841"
      ]
     },
     "execution_count": 42,
     "metadata": {},
     "output_type": "execute_result"
    }
   ],
   "source": [
    "result = pd.crosstab(df.MC_3BUS_1DEVELOP,df.JUDGE)\n",
    "result"
   ]
  },
  {
   "cell_type": "code",
   "execution_count": 43,
   "metadata": {},
   "outputs": [
    {
     "data": {
      "text/plain": [
       "(3.501949980966912,\n",
       " 0.06129661555446475,\n",
       " 1,\n",
       " array([[ 209.23, 1750.77],\n",
       "        [ 217.77, 1822.23]]))"
      ]
     },
     "execution_count": 43,
     "metadata": {},
     "output_type": "execute_result"
    }
   ],
   "source": [
    "stats.chi2_contingency(observed = result)"
   ]
  },
  {
   "cell_type": "markdown",
   "metadata": {},
   "source": [
    "귀무가설 : MC_3BUS_1DEVELOP의 1호기와 2호기의 양품과 명점의 차이가 없다.   \n",
    "대립가설 : MC_3BUS_1DEVELOP의 1호기와 2호기의 양품과 명점의 차이가 있다.  \n",
    "\n",
    "결론 : Pvalue값이 0.05이상으로 MC_3BUS_1DEVELOP의 1호기와 2호기의 양품과 명점의 차이가 없다."
   ]
  },
  {
   "cell_type": "code",
   "execution_count": 44,
   "metadata": {},
   "outputs": [
    {
     "data": {
      "text/html": [
       "<div>\n",
       "<style scoped>\n",
       "    .dataframe tbody tr th:only-of-type {\n",
       "        vertical-align: middle;\n",
       "    }\n",
       "\n",
       "    .dataframe tbody tr th {\n",
       "        vertical-align: top;\n",
       "    }\n",
       "\n",
       "    .dataframe thead th {\n",
       "        text-align: right;\n",
       "    }\n",
       "</style>\n",
       "<table border=\"1\" class=\"dataframe\">\n",
       "  <thead>\n",
       "    <tr style=\"text-align: right;\">\n",
       "      <th>JUDGE</th>\n",
       "      <th>명점</th>\n",
       "      <th>양품</th>\n",
       "    </tr>\n",
       "    <tr>\n",
       "      <th>MC_3BUS_2FIRE</th>\n",
       "      <th></th>\n",
       "      <th></th>\n",
       "    </tr>\n",
       "  </thead>\n",
       "  <tbody>\n",
       "    <tr>\n",
       "      <th>1호기</th>\n",
       "      <td>223</td>\n",
       "      <td>1957</td>\n",
       "    </tr>\n",
       "    <tr>\n",
       "      <th>2호기</th>\n",
       "      <td>204</td>\n",
       "      <td>1616</td>\n",
       "    </tr>\n",
       "  </tbody>\n",
       "</table>\n",
       "</div>"
      ],
      "text/plain": [
       "JUDGE           명점    양품\n",
       "MC_3BUS_2FIRE           \n",
       "1호기            223  1957\n",
       "2호기            204  1616"
      ]
     },
     "execution_count": 44,
     "metadata": {},
     "output_type": "execute_result"
    }
   ],
   "source": [
    "result = pd.crosstab(df.MC_3BUS_2FIRE,df.JUDGE)\n",
    "result"
   ]
  },
  {
   "cell_type": "code",
   "execution_count": 45,
   "metadata": {},
   "outputs": [
    {
     "data": {
      "text/plain": [
       "(0.8978047117367476,\n",
       " 0.34337103137403047,\n",
       " 1,\n",
       " array([[ 232.715, 1947.285],\n",
       "        [ 194.285, 1625.715]]))"
      ]
     },
     "execution_count": 45,
     "metadata": {},
     "output_type": "execute_result"
    }
   ],
   "source": [
    "stats.chi2_contingency(observed = result)"
   ]
  },
  {
   "cell_type": "markdown",
   "metadata": {},
   "source": [
    "귀무가설 : MC_3BUS_1DEVELOP의 1호기와 2호기의 양품과 명점의 차이가 없다.   \n",
    "대립가설 : MC_3BUS_1DEVELOP의 1호기와 2호기의 양품과 명점의 차이가 있다.  \n",
    "\n",
    "결론 : Pvalue값이 0.05이상으로 MC_3BUS_1DEVELOP의 1호기와 2호기의 양품과 명점의 차이가 없다."
   ]
  },
  {
   "cell_type": "code",
   "execution_count": 46,
   "metadata": {},
   "outputs": [
    {
     "data": {
      "text/html": [
       "<div>\n",
       "<style scoped>\n",
       "    .dataframe tbody tr th:only-of-type {\n",
       "        vertical-align: middle;\n",
       "    }\n",
       "\n",
       "    .dataframe tbody tr th {\n",
       "        vertical-align: top;\n",
       "    }\n",
       "\n",
       "    .dataframe thead th {\n",
       "        text-align: right;\n",
       "    }\n",
       "</style>\n",
       "<table border=\"1\" class=\"dataframe\">\n",
       "  <thead>\n",
       "    <tr style=\"text-align: right;\">\n",
       "      <th>JUDGE</th>\n",
       "      <th>명점</th>\n",
       "      <th>양품</th>\n",
       "    </tr>\n",
       "    <tr>\n",
       "      <th>MC_4DIELEC_1FIRE</th>\n",
       "      <th></th>\n",
       "      <th></th>\n",
       "    </tr>\n",
       "  </thead>\n",
       "  <tbody>\n",
       "    <tr>\n",
       "      <th>1호기</th>\n",
       "      <td>146</td>\n",
       "      <td>1194</td>\n",
       "    </tr>\n",
       "    <tr>\n",
       "      <th>2호기</th>\n",
       "      <td>162</td>\n",
       "      <td>1118</td>\n",
       "    </tr>\n",
       "    <tr>\n",
       "      <th>3호기</th>\n",
       "      <td>119</td>\n",
       "      <td>1261</td>\n",
       "    </tr>\n",
       "  </tbody>\n",
       "</table>\n",
       "</div>"
      ],
      "text/plain": [
       "JUDGE              명점    양품\n",
       "MC_4DIELEC_1FIRE           \n",
       "1호기               146  1194\n",
       "2호기               162  1118\n",
       "3호기               119  1261"
      ]
     },
     "execution_count": 46,
     "metadata": {},
     "output_type": "execute_result"
    }
   ],
   "source": [
    "result = pd.crosstab(df.MC_4DIELEC_1FIRE,df.JUDGE)\n",
    "result"
   ]
  },
  {
   "cell_type": "code",
   "execution_count": 47,
   "metadata": {},
   "outputs": [
    {
     "data": {
      "text/plain": [
       "(11.4303216299264,\n",
       " 0.003295620493948868,\n",
       " 2,\n",
       " array([[ 143.045, 1196.955],\n",
       "        [ 136.64 , 1143.36 ],\n",
       "        [ 147.315, 1232.685]]))"
      ]
     },
     "execution_count": 47,
     "metadata": {},
     "output_type": "execute_result"
    }
   ],
   "source": [
    "stats.chi2_contingency(observed = result)"
   ]
  },
  {
   "cell_type": "markdown",
   "metadata": {},
   "source": [
    "귀무가설 : MC_4DIELEC_1FIRE의 1호기와 2호기와 3호기의 양품과 명점의 차이가 없다.   \n",
    "대립가설 : 적어도 MC_4DIELEC_1FIRE의 1호기와 2호기와 3호기의 양품과 명점의 차이가 하나는 있다.  \n",
    "\n",
    "결론 : Pvalue값이 0.05이하로 적어도 MC_4DIELEC_1FIRE의 1호기와 2호기와 3호기의 양품과 명점의 차이가 하나는 있다. "
   ]
  },
  {
   "cell_type": "code",
   "execution_count": 48,
   "metadata": {},
   "outputs": [
    {
     "data": {
      "text/html": [
       "<div>\n",
       "<style scoped>\n",
       "    .dataframe tbody tr th:only-of-type {\n",
       "        vertical-align: middle;\n",
       "    }\n",
       "\n",
       "    .dataframe tbody tr th {\n",
       "        vertical-align: top;\n",
       "    }\n",
       "\n",
       "    .dataframe thead th {\n",
       "        text-align: right;\n",
       "    }\n",
       "</style>\n",
       "<table border=\"1\" class=\"dataframe\">\n",
       "  <thead>\n",
       "    <tr style=\"text-align: right;\">\n",
       "      <th>JUDGE</th>\n",
       "      <th>명점</th>\n",
       "      <th>양품</th>\n",
       "    </tr>\n",
       "    <tr>\n",
       "      <th>MC_5MGO</th>\n",
       "      <th></th>\n",
       "      <th></th>\n",
       "    </tr>\n",
       "  </thead>\n",
       "  <tbody>\n",
       "    <tr>\n",
       "      <th>1호기</th>\n",
       "      <td>198</td>\n",
       "      <td>1762</td>\n",
       "    </tr>\n",
       "    <tr>\n",
       "      <th>2호기</th>\n",
       "      <td>229</td>\n",
       "      <td>1811</td>\n",
       "    </tr>\n",
       "  </tbody>\n",
       "</table>\n",
       "</div>"
      ],
      "text/plain": [
       "JUDGE     명점    양품\n",
       "MC_5MGO           \n",
       "1호기      198  1762\n",
       "2호기      229  1811"
      ]
     },
     "execution_count": 48,
     "metadata": {},
     "output_type": "execute_result"
    }
   ],
   "source": [
    "result = pd.crosstab(df.MC_5MGO,df.JUDGE)\n",
    "result"
   ]
  },
  {
   "cell_type": "code",
   "execution_count": 49,
   "metadata": {},
   "outputs": [
    {
     "data": {
      "text/plain": [
       "(1.2079036341505902,\n",
       " 0.271747699547607,\n",
       " 1,\n",
       " array([[ 209.23, 1750.77],\n",
       "        [ 217.77, 1822.23]]))"
      ]
     },
     "execution_count": 49,
     "metadata": {},
     "output_type": "execute_result"
    }
   ],
   "source": [
    "stats.chi2_contingency(observed = result)"
   ]
  },
  {
   "cell_type": "markdown",
   "metadata": {},
   "source": [
    "귀무가설 : MC_5MGO의 1호기와 2호기의 차이가 없다.   \n",
    "대립가설 : MC_5MGO의 1호기와 2호기의 차이가 있다.  \n",
    "\n",
    "결론 : Pvalue값이 0.05이상으로 적어도 MC_5MGO의 1호기와 2호기의 양품과 명점의 차이가 없다. "
   ]
  },
  {
   "cell_type": "code",
   "execution_count": 50,
   "metadata": {},
   "outputs": [
    {
     "data": {
      "text/html": [
       "<div>\n",
       "<style scoped>\n",
       "    .dataframe tbody tr th:only-of-type {\n",
       "        vertical-align: middle;\n",
       "    }\n",
       "\n",
       "    .dataframe tbody tr th {\n",
       "        vertical-align: top;\n",
       "    }\n",
       "\n",
       "    .dataframe thead th {\n",
       "        text-align: right;\n",
       "    }\n",
       "</style>\n",
       "<table border=\"1\" class=\"dataframe\">\n",
       "  <thead>\n",
       "    <tr style=\"text-align: right;\">\n",
       "      <th>JUDGE</th>\n",
       "      <th>명점</th>\n",
       "      <th>양품</th>\n",
       "    </tr>\n",
       "    <tr>\n",
       "      <th>MC_6PHOS_1R_1DISPENSER</th>\n",
       "      <th></th>\n",
       "      <th></th>\n",
       "    </tr>\n",
       "  </thead>\n",
       "  <tbody>\n",
       "    <tr>\n",
       "      <th>1호기</th>\n",
       "      <td>242</td>\n",
       "      <td>1998</td>\n",
       "    </tr>\n",
       "    <tr>\n",
       "      <th>2호기</th>\n",
       "      <td>185</td>\n",
       "      <td>1575</td>\n",
       "    </tr>\n",
       "  </tbody>\n",
       "</table>\n",
       "</div>"
      ],
      "text/plain": [
       "JUDGE                    명점    양품\n",
       "MC_6PHOS_1R_1DISPENSER           \n",
       "1호기                     242  1998\n",
       "2호기                     185  1575"
      ]
     },
     "execution_count": 50,
     "metadata": {},
     "output_type": "execute_result"
    }
   ],
   "source": [
    "result = pd.crosstab(df.MC_6PHOS_1R_1DISPENSER,df.JUDGE)\n",
    "result"
   ]
  },
  {
   "cell_type": "code",
   "execution_count": 51,
   "metadata": {
    "scrolled": true
   },
   "outputs": [
    {
     "data": {
      "text/plain": [
       "(0.06027154311417471,\n",
       " 0.8060672692273391,\n",
       " 1,\n",
       " array([[ 239.12, 2000.88],\n",
       "        [ 187.88, 1572.12]]))"
      ]
     },
     "execution_count": 51,
     "metadata": {},
     "output_type": "execute_result"
    }
   ],
   "source": [
    "stats.chi2_contingency(observed = result)"
   ]
  },
  {
   "cell_type": "markdown",
   "metadata": {},
   "source": [
    "귀무가설 : MC_6PHOS_1R_1DISPENSER 1호기와 2호기의 차이가 없다.   \n",
    "대립가설 : MC_6PHOS_1R_1DISPENSER 1호기와 2호기의 차이가 있다.  \n",
    "\n",
    "결론 : Pvalue값이 0.05이상으로 적어도 MC_6PHOS_1R_1DISPENSER 1호기와 2호기의 양품과 명점의 차이가 없다. "
   ]
  },
  {
   "cell_type": "code",
   "execution_count": 52,
   "metadata": {},
   "outputs": [
    {
     "data": {
      "text/html": [
       "<div>\n",
       "<style scoped>\n",
       "    .dataframe tbody tr th:only-of-type {\n",
       "        vertical-align: middle;\n",
       "    }\n",
       "\n",
       "    .dataframe tbody tr th {\n",
       "        vertical-align: top;\n",
       "    }\n",
       "\n",
       "    .dataframe thead th {\n",
       "        text-align: right;\n",
       "    }\n",
       "</style>\n",
       "<table border=\"1\" class=\"dataframe\">\n",
       "  <thead>\n",
       "    <tr style=\"text-align: right;\">\n",
       "      <th>JUDGE</th>\n",
       "      <th>명점</th>\n",
       "      <th>양품</th>\n",
       "    </tr>\n",
       "    <tr>\n",
       "      <th>MC_6PHOS_1R_2DRY</th>\n",
       "      <th></th>\n",
       "      <th></th>\n",
       "    </tr>\n",
       "  </thead>\n",
       "  <tbody>\n",
       "    <tr>\n",
       "      <th>1호기</th>\n",
       "      <td>209</td>\n",
       "      <td>1651</td>\n",
       "    </tr>\n",
       "    <tr>\n",
       "      <th>2호기</th>\n",
       "      <td>218</td>\n",
       "      <td>1922</td>\n",
       "    </tr>\n",
       "  </tbody>\n",
       "</table>\n",
       "</div>"
      ],
      "text/plain": [
       "JUDGE              명점    양품\n",
       "MC_6PHOS_1R_2DRY           \n",
       "1호기               209  1651\n",
       "2호기               218  1922"
      ]
     },
     "execution_count": 52,
     "metadata": {},
     "output_type": "execute_result"
    }
   ],
   "source": [
    "result = pd.crosstab(df.MC_6PHOS_1R_2DRY,df.JUDGE)\n",
    "result"
   ]
  },
  {
   "cell_type": "code",
   "execution_count": 53,
   "metadata": {},
   "outputs": [
    {
     "data": {
      "text/plain": [
       "(1.04232208571592,\n",
       " 0.30728203053984415,\n",
       " 1,\n",
       " array([[ 198.555, 1661.445],\n",
       "        [ 228.445, 1911.555]]))"
      ]
     },
     "execution_count": 53,
     "metadata": {},
     "output_type": "execute_result"
    }
   ],
   "source": [
    "stats.chi2_contingency(observed = result)"
   ]
  },
  {
   "cell_type": "code",
   "execution_count": null,
   "metadata": {},
   "outputs": [],
   "source": []
  },
  {
   "cell_type": "code",
   "execution_count": 54,
   "metadata": {},
   "outputs": [
    {
     "data": {
      "text/html": [
       "<div>\n",
       "<style scoped>\n",
       "    .dataframe tbody tr th:only-of-type {\n",
       "        vertical-align: middle;\n",
       "    }\n",
       "\n",
       "    .dataframe tbody tr th {\n",
       "        vertical-align: top;\n",
       "    }\n",
       "\n",
       "    .dataframe thead th {\n",
       "        text-align: right;\n",
       "    }\n",
       "</style>\n",
       "<table border=\"1\" class=\"dataframe\">\n",
       "  <thead>\n",
       "    <tr style=\"text-align: right;\">\n",
       "      <th>JUDGE</th>\n",
       "      <th>명점</th>\n",
       "      <th>양품</th>\n",
       "    </tr>\n",
       "    <tr>\n",
       "      <th>MC_6PHOS_2G_1DISPENSER</th>\n",
       "      <th></th>\n",
       "      <th></th>\n",
       "    </tr>\n",
       "  </thead>\n",
       "  <tbody>\n",
       "    <tr>\n",
       "      <th>1호기</th>\n",
       "      <td>236</td>\n",
       "      <td>1884</td>\n",
       "    </tr>\n",
       "    <tr>\n",
       "      <th>2호기</th>\n",
       "      <td>191</td>\n",
       "      <td>1689</td>\n",
       "    </tr>\n",
       "  </tbody>\n",
       "</table>\n",
       "</div>"
      ],
      "text/plain": [
       "JUDGE                    명점    양품\n",
       "MC_6PHOS_2G_1DISPENSER           \n",
       "1호기                     236  1884\n",
       "2호기                     191  1689"
      ]
     },
     "execution_count": 54,
     "metadata": {},
     "output_type": "execute_result"
    }
   ],
   "source": [
    "result = pd.crosstab(df.MC_6PHOS_2G_1DISPENSER,df.JUDGE)\n",
    "result"
   ]
  },
  {
   "cell_type": "code",
   "execution_count": 55,
   "metadata": {},
   "outputs": [
    {
     "data": {
      "text/plain": [
       "(0.8889071414812396,\n",
       " 0.3457736340797285,\n",
       " 1,\n",
       " array([[ 226.31, 1893.69],\n",
       "        [ 200.69, 1679.31]]))"
      ]
     },
     "execution_count": 55,
     "metadata": {},
     "output_type": "execute_result"
    }
   ],
   "source": [
    "stats.chi2_contingency(observed = result)"
   ]
  },
  {
   "cell_type": "code",
   "execution_count": null,
   "metadata": {},
   "outputs": [],
   "source": []
  },
  {
   "cell_type": "code",
   "execution_count": 56,
   "metadata": {},
   "outputs": [
    {
     "data": {
      "text/html": [
       "<div>\n",
       "<style scoped>\n",
       "    .dataframe tbody tr th:only-of-type {\n",
       "        vertical-align: middle;\n",
       "    }\n",
       "\n",
       "    .dataframe tbody tr th {\n",
       "        vertical-align: top;\n",
       "    }\n",
       "\n",
       "    .dataframe thead th {\n",
       "        text-align: right;\n",
       "    }\n",
       "</style>\n",
       "<table border=\"1\" class=\"dataframe\">\n",
       "  <thead>\n",
       "    <tr style=\"text-align: right;\">\n",
       "      <th>JUDGE</th>\n",
       "      <th>명점</th>\n",
       "      <th>양품</th>\n",
       "    </tr>\n",
       "    <tr>\n",
       "      <th>MC_6PHOS_2G_2DRY</th>\n",
       "      <th></th>\n",
       "      <th></th>\n",
       "    </tr>\n",
       "  </thead>\n",
       "  <tbody>\n",
       "    <tr>\n",
       "      <th>1호기</th>\n",
       "      <td>223</td>\n",
       "      <td>2037</td>\n",
       "    </tr>\n",
       "    <tr>\n",
       "      <th>2호기</th>\n",
       "      <td>204</td>\n",
       "      <td>1536</td>\n",
       "    </tr>\n",
       "  </tbody>\n",
       "</table>\n",
       "</div>"
      ],
      "text/plain": [
       "JUDGE              명점    양품\n",
       "MC_6PHOS_2G_2DRY           \n",
       "1호기               223  2037\n",
       "2호기               204  1536"
      ]
     },
     "execution_count": 56,
     "metadata": {},
     "output_type": "execute_result"
    }
   ],
   "source": [
    "result = pd.crosstab(df.MC_6PHOS_2G_2DRY,df.JUDGE)\n",
    "result"
   ]
  },
  {
   "cell_type": "code",
   "execution_count": 57,
   "metadata": {},
   "outputs": [
    {
     "data": {
      "text/plain": [
       "(3.362813239673125,\n",
       " 0.06668406025463536,\n",
       " 1,\n",
       " array([[ 241.255, 2018.745],\n",
       "        [ 185.745, 1554.255]]))"
      ]
     },
     "execution_count": 57,
     "metadata": {},
     "output_type": "execute_result"
    }
   ],
   "source": [
    "stats.chi2_contingency(observed = result)"
   ]
  },
  {
   "cell_type": "code",
   "execution_count": null,
   "metadata": {},
   "outputs": [],
   "source": []
  },
  {
   "cell_type": "code",
   "execution_count": 58,
   "metadata": {},
   "outputs": [
    {
     "data": {
      "text/html": [
       "<div>\n",
       "<style scoped>\n",
       "    .dataframe tbody tr th:only-of-type {\n",
       "        vertical-align: middle;\n",
       "    }\n",
       "\n",
       "    .dataframe tbody tr th {\n",
       "        vertical-align: top;\n",
       "    }\n",
       "\n",
       "    .dataframe thead th {\n",
       "        text-align: right;\n",
       "    }\n",
       "</style>\n",
       "<table border=\"1\" class=\"dataframe\">\n",
       "  <thead>\n",
       "    <tr style=\"text-align: right;\">\n",
       "      <th>JUDGE</th>\n",
       "      <th>명점</th>\n",
       "      <th>양품</th>\n",
       "    </tr>\n",
       "    <tr>\n",
       "      <th>MC_6PHOS_3B_1DISPENSER</th>\n",
       "      <th></th>\n",
       "      <th></th>\n",
       "    </tr>\n",
       "  </thead>\n",
       "  <tbody>\n",
       "    <tr>\n",
       "      <th>1호기</th>\n",
       "      <td>217</td>\n",
       "      <td>1883</td>\n",
       "    </tr>\n",
       "    <tr>\n",
       "      <th>2호기</th>\n",
       "      <td>210</td>\n",
       "      <td>1690</td>\n",
       "    </tr>\n",
       "  </tbody>\n",
       "</table>\n",
       "</div>"
      ],
      "text/plain": [
       "JUDGE                    명점    양품\n",
       "MC_6PHOS_3B_1DISPENSER           \n",
       "1호기                     217  1883\n",
       "2호기                     210  1690"
      ]
     },
     "execution_count": 58,
     "metadata": {},
     "output_type": "execute_result"
    }
   ],
   "source": [
    "result = pd.crosstab(df.MC_6PHOS_3B_1DISPENSER,df.JUDGE)\n",
    "result"
   ]
  },
  {
   "cell_type": "code",
   "execution_count": 59,
   "metadata": {},
   "outputs": [
    {
     "data": {
      "text/plain": [
       "(0.4684343424823074,\n",
       " 0.4937083273003766,\n",
       " 1,\n",
       " array([[ 224.175, 1875.825],\n",
       "        [ 202.825, 1697.175]]))"
      ]
     },
     "execution_count": 59,
     "metadata": {},
     "output_type": "execute_result"
    }
   ],
   "source": [
    "stats.chi2_contingency(observed = result)"
   ]
  },
  {
   "cell_type": "code",
   "execution_count": null,
   "metadata": {},
   "outputs": [],
   "source": []
  },
  {
   "cell_type": "code",
   "execution_count": 60,
   "metadata": {},
   "outputs": [
    {
     "data": {
      "text/html": [
       "<div>\n",
       "<style scoped>\n",
       "    .dataframe tbody tr th:only-of-type {\n",
       "        vertical-align: middle;\n",
       "    }\n",
       "\n",
       "    .dataframe tbody tr th {\n",
       "        vertical-align: top;\n",
       "    }\n",
       "\n",
       "    .dataframe thead th {\n",
       "        text-align: right;\n",
       "    }\n",
       "</style>\n",
       "<table border=\"1\" class=\"dataframe\">\n",
       "  <thead>\n",
       "    <tr style=\"text-align: right;\">\n",
       "      <th>JUDGE</th>\n",
       "      <th>명점</th>\n",
       "      <th>양품</th>\n",
       "    </tr>\n",
       "    <tr>\n",
       "      <th>MC_6PHOS_4FIRE</th>\n",
       "      <th></th>\n",
       "      <th></th>\n",
       "    </tr>\n",
       "  </thead>\n",
       "  <tbody>\n",
       "    <tr>\n",
       "      <th>1호기</th>\n",
       "      <td>104</td>\n",
       "      <td>1056</td>\n",
       "    </tr>\n",
       "    <tr>\n",
       "      <th>2호기</th>\n",
       "      <td>156</td>\n",
       "      <td>1264</td>\n",
       "    </tr>\n",
       "    <tr>\n",
       "      <th>3호기</th>\n",
       "      <td>167</td>\n",
       "      <td>1253</td>\n",
       "    </tr>\n",
       "  </tbody>\n",
       "</table>\n",
       "</div>"
      ],
      "text/plain": [
       "JUDGE            명점    양품\n",
       "MC_6PHOS_4FIRE           \n",
       "1호기             104  1056\n",
       "2호기             156  1264\n",
       "3호기             167  1253"
      ]
     },
     "execution_count": 60,
     "metadata": {},
     "output_type": "execute_result"
    }
   ],
   "source": [
    "result = pd.crosstab(df.MC_6PHOS_4FIRE,df.JUDGE)\n",
    "result"
   ]
  },
  {
   "cell_type": "code",
   "execution_count": 61,
   "metadata": {},
   "outputs": [
    {
     "data": {
      "text/plain": [
       "(5.453935430314811,\n",
       " 0.06541735327250357,\n",
       " 2,\n",
       " array([[ 123.83 , 1036.17 ],\n",
       "        [ 151.585, 1268.415],\n",
       "        [ 151.585, 1268.415]]))"
      ]
     },
     "execution_count": 61,
     "metadata": {},
     "output_type": "execute_result"
    }
   ],
   "source": [
    "stats.chi2_contingency(observed = result)"
   ]
  },
  {
   "cell_type": "code",
   "execution_count": null,
   "metadata": {},
   "outputs": [],
   "source": []
  },
  {
   "cell_type": "code",
   "execution_count": 62,
   "metadata": {},
   "outputs": [
    {
     "data": {
      "text/html": [
       "<div>\n",
       "<style scoped>\n",
       "    .dataframe tbody tr th:only-of-type {\n",
       "        vertical-align: middle;\n",
       "    }\n",
       "\n",
       "    .dataframe tbody tr th {\n",
       "        vertical-align: top;\n",
       "    }\n",
       "\n",
       "    .dataframe thead th {\n",
       "        text-align: right;\n",
       "    }\n",
       "</style>\n",
       "<table border=\"1\" class=\"dataframe\">\n",
       "  <thead>\n",
       "    <tr style=\"text-align: right;\">\n",
       "      <th>JUDGE</th>\n",
       "      <th>명점</th>\n",
       "      <th>양품</th>\n",
       "    </tr>\n",
       "    <tr>\n",
       "      <th>MC_7PASTE</th>\n",
       "      <th></th>\n",
       "      <th></th>\n",
       "    </tr>\n",
       "  </thead>\n",
       "  <tbody>\n",
       "    <tr>\n",
       "      <th>1호기</th>\n",
       "      <td>231</td>\n",
       "      <td>1969</td>\n",
       "    </tr>\n",
       "    <tr>\n",
       "      <th>2호기</th>\n",
       "      <td>196</td>\n",
       "      <td>1604</td>\n",
       "    </tr>\n",
       "  </tbody>\n",
       "</table>\n",
       "</div>"
      ],
      "text/plain": [
       "JUDGE       명점    양품\n",
       "MC_7PASTE           \n",
       "1호기        231  1969\n",
       "2호기        196  1604"
      ]
     },
     "execution_count": 62,
     "metadata": {},
     "output_type": "execute_result"
    }
   ],
   "source": [
    "result = pd.crosstab(df.MC_7PASTE,df.JUDGE)\n",
    "result"
   ]
  },
  {
   "cell_type": "code",
   "execution_count": 63,
   "metadata": {},
   "outputs": [
    {
     "data": {
      "text/plain": [
       "(0.1188812905100351,\n",
       " 0.7302510015521775,\n",
       " 1,\n",
       " array([[ 234.85, 1965.15],\n",
       "        [ 192.15, 1607.85]]))"
      ]
     },
     "execution_count": 63,
     "metadata": {},
     "output_type": "execute_result"
    }
   ],
   "source": [
    "stats.chi2_contingency(observed = result)"
   ]
  },
  {
   "cell_type": "code",
   "execution_count": null,
   "metadata": {},
   "outputs": [],
   "source": []
  },
  {
   "cell_type": "code",
   "execution_count": 64,
   "metadata": {},
   "outputs": [
    {
     "data": {
      "text/html": [
       "<div>\n",
       "<style scoped>\n",
       "    .dataframe tbody tr th:only-of-type {\n",
       "        vertical-align: middle;\n",
       "    }\n",
       "\n",
       "    .dataframe tbody tr th {\n",
       "        vertical-align: top;\n",
       "    }\n",
       "\n",
       "    .dataframe thead th {\n",
       "        text-align: right;\n",
       "    }\n",
       "</style>\n",
       "<table border=\"1\" class=\"dataframe\">\n",
       "  <thead>\n",
       "    <tr style=\"text-align: right;\">\n",
       "      <th>JUDGE</th>\n",
       "      <th>명점</th>\n",
       "      <th>양품</th>\n",
       "    </tr>\n",
       "    <tr>\n",
       "      <th>MC_8AGING</th>\n",
       "      <th></th>\n",
       "      <th></th>\n",
       "    </tr>\n",
       "  </thead>\n",
       "  <tbody>\n",
       "    <tr>\n",
       "      <th>1호기</th>\n",
       "      <td>242</td>\n",
       "      <td>1958</td>\n",
       "    </tr>\n",
       "    <tr>\n",
       "      <th>2호기</th>\n",
       "      <td>185</td>\n",
       "      <td>1615</td>\n",
       "    </tr>\n",
       "  </tbody>\n",
       "</table>\n",
       "</div>"
      ],
      "text/plain": [
       "JUDGE       명점    양품\n",
       "MC_8AGING           \n",
       "1호기        242  1958\n",
       "2호기        185  1615"
      ]
     },
     "execution_count": 64,
     "metadata": {},
     "output_type": "execute_result"
    }
   ],
   "source": [
    "result = pd.crosstab(df.MC_8AGING,df.JUDGE)\n",
    "result"
   ]
  },
  {
   "cell_type": "code",
   "execution_count": 65,
   "metadata": {},
   "outputs": [
    {
     "data": {
      "text/plain": [
       "(0.46845425436222743,\n",
       " 0.4936991445672084,\n",
       " 1,\n",
       " array([[ 234.85, 1965.15],\n",
       "        [ 192.15, 1607.85]]))"
      ]
     },
     "execution_count": 65,
     "metadata": {},
     "output_type": "execute_result"
    }
   ],
   "source": [
    "stats.chi2_contingency(observed = result)"
   ]
  },
  {
   "cell_type": "code",
   "execution_count": null,
   "metadata": {},
   "outputs": [],
   "source": []
  },
  {
   "cell_type": "code",
   "execution_count": 66,
   "metadata": {},
   "outputs": [
    {
     "data": {
      "text/html": [
       "<div>\n",
       "<style scoped>\n",
       "    .dataframe tbody tr th:only-of-type {\n",
       "        vertical-align: middle;\n",
       "    }\n",
       "\n",
       "    .dataframe tbody tr th {\n",
       "        vertical-align: top;\n",
       "    }\n",
       "\n",
       "    .dataframe thead th {\n",
       "        text-align: right;\n",
       "    }\n",
       "</style>\n",
       "<table border=\"1\" class=\"dataframe\">\n",
       "  <thead>\n",
       "    <tr style=\"text-align: right;\">\n",
       "      <th>JUDGE</th>\n",
       "      <th>명점</th>\n",
       "      <th>양품</th>\n",
       "    </tr>\n",
       "    <tr>\n",
       "      <th>MC_7PASTE</th>\n",
       "      <th></th>\n",
       "      <th></th>\n",
       "    </tr>\n",
       "  </thead>\n",
       "  <tbody>\n",
       "    <tr>\n",
       "      <th>1호기</th>\n",
       "      <td>231</td>\n",
       "      <td>1969</td>\n",
       "    </tr>\n",
       "    <tr>\n",
       "      <th>2호기</th>\n",
       "      <td>196</td>\n",
       "      <td>1604</td>\n",
       "    </tr>\n",
       "  </tbody>\n",
       "</table>\n",
       "</div>"
      ],
      "text/plain": [
       "JUDGE       명점    양품\n",
       "MC_7PASTE           \n",
       "1호기        231  1969\n",
       "2호기        196  1604"
      ]
     },
     "execution_count": 66,
     "metadata": {},
     "output_type": "execute_result"
    }
   ],
   "source": [
    "result = pd.crosstab(df.MC_7PASTE,df.JUDGE)\n",
    "result"
   ]
  },
  {
   "cell_type": "code",
   "execution_count": 67,
   "metadata": {},
   "outputs": [
    {
     "data": {
      "text/plain": [
       "(0.1188812905100351,\n",
       " 0.7302510015521775,\n",
       " 1,\n",
       " array([[ 234.85, 1965.15],\n",
       "        [ 192.15, 1607.85]]))"
      ]
     },
     "execution_count": 67,
     "metadata": {},
     "output_type": "execute_result"
    }
   ],
   "source": [
    "stats.chi2_contingency(observed = result)"
   ]
  },
  {
   "cell_type": "code",
   "execution_count": null,
   "metadata": {},
   "outputs": [],
   "source": []
  },
  {
   "cell_type": "code",
   "execution_count": 68,
   "metadata": {},
   "outputs": [
    {
     "data": {
      "text/html": [
       "<div>\n",
       "<style scoped>\n",
       "    .dataframe tbody tr th:only-of-type {\n",
       "        vertical-align: middle;\n",
       "    }\n",
       "\n",
       "    .dataframe tbody tr th {\n",
       "        vertical-align: top;\n",
       "    }\n",
       "\n",
       "    .dataframe thead th {\n",
       "        text-align: right;\n",
       "    }\n",
       "</style>\n",
       "<table border=\"1\" class=\"dataframe\">\n",
       "  <thead>\n",
       "    <tr style=\"text-align: right;\">\n",
       "      <th>JUDGE</th>\n",
       "      <th>명점</th>\n",
       "      <th>양품</th>\n",
       "    </tr>\n",
       "    <tr>\n",
       "      <th>MC_8AGING</th>\n",
       "      <th></th>\n",
       "      <th></th>\n",
       "    </tr>\n",
       "  </thead>\n",
       "  <tbody>\n",
       "    <tr>\n",
       "      <th>1호기</th>\n",
       "      <td>242</td>\n",
       "      <td>1958</td>\n",
       "    </tr>\n",
       "    <tr>\n",
       "      <th>2호기</th>\n",
       "      <td>185</td>\n",
       "      <td>1615</td>\n",
       "    </tr>\n",
       "  </tbody>\n",
       "</table>\n",
       "</div>"
      ],
      "text/plain": [
       "JUDGE       명점    양품\n",
       "MC_8AGING           \n",
       "1호기        242  1958\n",
       "2호기        185  1615"
      ]
     },
     "execution_count": 68,
     "metadata": {},
     "output_type": "execute_result"
    }
   ],
   "source": [
    "result = pd.crosstab(df.MC_8AGING,df.JUDGE)\n",
    "result"
   ]
  },
  {
   "cell_type": "code",
   "execution_count": 69,
   "metadata": {},
   "outputs": [
    {
     "data": {
      "text/plain": [
       "(0.46845425436222743,\n",
       " 0.4936991445672084,\n",
       " 1,\n",
       " array([[ 234.85, 1965.15],\n",
       "        [ 192.15, 1607.85]]))"
      ]
     },
     "execution_count": 69,
     "metadata": {},
     "output_type": "execute_result"
    }
   ],
   "source": [
    "stats.chi2_contingency(observed = result)"
   ]
  },
  {
   "cell_type": "markdown",
   "metadata": {},
   "source": [
    "1. 차이 없음\n",
    "MC_1BLACK_1PRINT  \n",
    "MC_1BLACK_2RTD  \n",
    "MC_2AG_1PRINT  \n",
    "MC_2AG_3EXPOSURE  \n",
    "MC_3BUS_1DEVELOP  \n",
    "MC_3BUS_2FIRE  \n",
    "MC_5MGO  \n",
    "MC_6PHOS_1R_1DISPENSER  \n",
    "MC_6PHOS_1R_2DRY  \n",
    "MC_6PHOS_2G_1DISPENSER  \n",
    "MC_6PHOS_2G_2DRY  \n",
    "MC_6PHOS_4FIRE  \n",
    "MC_7PASTE  \n",
    "  \n",
    "\n",
    "2. 차이 있음   \n",
    "MC_2AG_2RTD   0.025\n",
    "MC_4DIELEC_1FIRE  0.003\n",
    "MC_3BUS_1DEVELOP  0.06\n",
    "MC_6PHOS_4FIRE  0.065\n",
    "MC_6PHOS_2G_2DRY  0.067\n",
    "\n",
    " "
   ]
  },
  {
   "cell_type": "markdown",
   "metadata": {},
   "source": [
    "# 의사결정나무"
   ]
  },
  {
   "cell_type": "code",
   "execution_count": 70,
   "metadata": {},
   "outputs": [
    {
     "data": {
      "text/html": [
       "<div>\n",
       "<style scoped>\n",
       "    .dataframe tbody tr th:only-of-type {\n",
       "        vertical-align: middle;\n",
       "    }\n",
       "\n",
       "    .dataframe tbody tr th {\n",
       "        vertical-align: top;\n",
       "    }\n",
       "\n",
       "    .dataframe thead th {\n",
       "        text-align: right;\n",
       "    }\n",
       "</style>\n",
       "<table border=\"1\" class=\"dataframe\">\n",
       "  <thead>\n",
       "    <tr style=\"text-align: right;\">\n",
       "      <th></th>\n",
       "      <th>JUDGE</th>\n",
       "      <th>LOT_ID</th>\n",
       "      <th>PANEL_ID</th>\n",
       "      <th>DATE_1BLACK</th>\n",
       "      <th>TIME_1BLACK</th>\n",
       "      <th>TIME_2AG</th>\n",
       "      <th>TIME_3BUS</th>\n",
       "      <th>TIME_4DIELEC</th>\n",
       "      <th>TIME_5MGO</th>\n",
       "      <th>TIME_6PHOS</th>\n",
       "      <th>...</th>\n",
       "      <th>MC_4DIELEC_1FIRE</th>\n",
       "      <th>MC_5MGO</th>\n",
       "      <th>MC_6PHOS_1R_1DISPENSER</th>\n",
       "      <th>MC_6PHOS_1R_2DRY</th>\n",
       "      <th>MC_6PHOS_2G_1DISPENSER</th>\n",
       "      <th>MC_6PHOS_2G_2DRY</th>\n",
       "      <th>MC_6PHOS_3B_1DISPENSER</th>\n",
       "      <th>MC_6PHOS_4FIRE</th>\n",
       "      <th>MC_7PASTE</th>\n",
       "      <th>MC_8AGING</th>\n",
       "    </tr>\n",
       "  </thead>\n",
       "  <tbody>\n",
       "    <tr>\n",
       "      <th>0</th>\n",
       "      <td>양품</td>\n",
       "      <td>LOT-101</td>\n",
       "      <td>PNL-01</td>\n",
       "      <td>2019-04-01</td>\n",
       "      <td>2019-04-01 0:01</td>\n",
       "      <td>2019-04-01 5:21</td>\n",
       "      <td>2019-04-01 11:01</td>\n",
       "      <td>2019-04-06 13:41</td>\n",
       "      <td>2019-04-11 3:41</td>\n",
       "      <td>2019-04-03 20:20</td>\n",
       "      <td>...</td>\n",
       "      <td>3호기</td>\n",
       "      <td>1호기</td>\n",
       "      <td>1호기</td>\n",
       "      <td>2호기</td>\n",
       "      <td>2호기</td>\n",
       "      <td>2호기</td>\n",
       "      <td>1호기</td>\n",
       "      <td>3호기</td>\n",
       "      <td>1호기</td>\n",
       "      <td>2호기</td>\n",
       "    </tr>\n",
       "    <tr>\n",
       "      <th>1</th>\n",
       "      <td>양품</td>\n",
       "      <td>LOT-101</td>\n",
       "      <td>PNL-02</td>\n",
       "      <td>2019-04-01</td>\n",
       "      <td>2019-04-01 0:45</td>\n",
       "      <td>2019-04-01 6:05</td>\n",
       "      <td>2019-04-01 11:45</td>\n",
       "      <td>2019-04-06 14:25</td>\n",
       "      <td>2019-04-11 4:25</td>\n",
       "      <td>2019-04-03 21:04</td>\n",
       "      <td>...</td>\n",
       "      <td>3호기</td>\n",
       "      <td>1호기</td>\n",
       "      <td>1호기</td>\n",
       "      <td>2호기</td>\n",
       "      <td>2호기</td>\n",
       "      <td>2호기</td>\n",
       "      <td>1호기</td>\n",
       "      <td>3호기</td>\n",
       "      <td>1호기</td>\n",
       "      <td>2호기</td>\n",
       "    </tr>\n",
       "    <tr>\n",
       "      <th>2</th>\n",
       "      <td>양품</td>\n",
       "      <td>LOT-101</td>\n",
       "      <td>PNL-03</td>\n",
       "      <td>2019-04-01</td>\n",
       "      <td>2019-04-01 1:29</td>\n",
       "      <td>2019-04-01 6:49</td>\n",
       "      <td>2019-04-01 12:29</td>\n",
       "      <td>2019-04-06 15:09</td>\n",
       "      <td>2019-04-11 5:09</td>\n",
       "      <td>2019-04-03 21:48</td>\n",
       "      <td>...</td>\n",
       "      <td>3호기</td>\n",
       "      <td>1호기</td>\n",
       "      <td>1호기</td>\n",
       "      <td>2호기</td>\n",
       "      <td>2호기</td>\n",
       "      <td>2호기</td>\n",
       "      <td>1호기</td>\n",
       "      <td>3호기</td>\n",
       "      <td>1호기</td>\n",
       "      <td>2호기</td>\n",
       "    </tr>\n",
       "    <tr>\n",
       "      <th>3</th>\n",
       "      <td>양품</td>\n",
       "      <td>LOT-101</td>\n",
       "      <td>PNL-04</td>\n",
       "      <td>2019-04-01</td>\n",
       "      <td>2019-04-01 2:13</td>\n",
       "      <td>2019-04-01 7:33</td>\n",
       "      <td>2019-04-01 13:13</td>\n",
       "      <td>2019-04-06 15:53</td>\n",
       "      <td>2019-04-11 5:53</td>\n",
       "      <td>2019-04-03 22:32</td>\n",
       "      <td>...</td>\n",
       "      <td>3호기</td>\n",
       "      <td>1호기</td>\n",
       "      <td>1호기</td>\n",
       "      <td>2호기</td>\n",
       "      <td>2호기</td>\n",
       "      <td>2호기</td>\n",
       "      <td>1호기</td>\n",
       "      <td>3호기</td>\n",
       "      <td>1호기</td>\n",
       "      <td>2호기</td>\n",
       "    </tr>\n",
       "    <tr>\n",
       "      <th>4</th>\n",
       "      <td>양품</td>\n",
       "      <td>LOT-101</td>\n",
       "      <td>PNL-05</td>\n",
       "      <td>2019-04-01</td>\n",
       "      <td>2019-04-01 2:58</td>\n",
       "      <td>2019-04-01 8:18</td>\n",
       "      <td>2019-04-01 13:58</td>\n",
       "      <td>2019-04-06 16:38</td>\n",
       "      <td>2019-04-11 6:38</td>\n",
       "      <td>2019-04-03 23:17</td>\n",
       "      <td>...</td>\n",
       "      <td>3호기</td>\n",
       "      <td>1호기</td>\n",
       "      <td>1호기</td>\n",
       "      <td>2호기</td>\n",
       "      <td>2호기</td>\n",
       "      <td>2호기</td>\n",
       "      <td>1호기</td>\n",
       "      <td>3호기</td>\n",
       "      <td>1호기</td>\n",
       "      <td>2호기</td>\n",
       "    </tr>\n",
       "    <tr>\n",
       "      <th>...</th>\n",
       "      <td>...</td>\n",
       "      <td>...</td>\n",
       "      <td>...</td>\n",
       "      <td>...</td>\n",
       "      <td>...</td>\n",
       "      <td>...</td>\n",
       "      <td>...</td>\n",
       "      <td>...</td>\n",
       "      <td>...</td>\n",
       "      <td>...</td>\n",
       "      <td>...</td>\n",
       "      <td>...</td>\n",
       "      <td>...</td>\n",
       "      <td>...</td>\n",
       "      <td>...</td>\n",
       "      <td>...</td>\n",
       "      <td>...</td>\n",
       "      <td>...</td>\n",
       "      <td>...</td>\n",
       "      <td>...</td>\n",
       "      <td>...</td>\n",
       "    </tr>\n",
       "    <tr>\n",
       "      <th>3995</th>\n",
       "      <td>명점</td>\n",
       "      <td>LOT-300</td>\n",
       "      <td>PNL-16</td>\n",
       "      <td>2019-08-01</td>\n",
       "      <td>2019-08-01 21:38</td>\n",
       "      <td>2019-08-02 2:58</td>\n",
       "      <td>2019-08-02 8:38</td>\n",
       "      <td>2019-08-07 11:18</td>\n",
       "      <td>2019-08-12 1:18</td>\n",
       "      <td>2019-08-04 14:38</td>\n",
       "      <td>...</td>\n",
       "      <td>3호기</td>\n",
       "      <td>2호기</td>\n",
       "      <td>2호기</td>\n",
       "      <td>1호기</td>\n",
       "      <td>2호기</td>\n",
       "      <td>1호기</td>\n",
       "      <td>1호기</td>\n",
       "      <td>3호기</td>\n",
       "      <td>1호기</td>\n",
       "      <td>2호기</td>\n",
       "    </tr>\n",
       "    <tr>\n",
       "      <th>3996</th>\n",
       "      <td>양품</td>\n",
       "      <td>LOT-300</td>\n",
       "      <td>PNL-17</td>\n",
       "      <td>2019-08-01</td>\n",
       "      <td>2019-08-01 22:23</td>\n",
       "      <td>2019-08-02 3:43</td>\n",
       "      <td>2019-08-02 9:23</td>\n",
       "      <td>2019-08-07 12:03</td>\n",
       "      <td>2019-08-12 2:03</td>\n",
       "      <td>2019-08-04 15:23</td>\n",
       "      <td>...</td>\n",
       "      <td>3호기</td>\n",
       "      <td>2호기</td>\n",
       "      <td>2호기</td>\n",
       "      <td>1호기</td>\n",
       "      <td>2호기</td>\n",
       "      <td>1호기</td>\n",
       "      <td>1호기</td>\n",
       "      <td>3호기</td>\n",
       "      <td>1호기</td>\n",
       "      <td>2호기</td>\n",
       "    </tr>\n",
       "    <tr>\n",
       "      <th>3997</th>\n",
       "      <td>양품</td>\n",
       "      <td>LOT-300</td>\n",
       "      <td>PNL-18</td>\n",
       "      <td>2019-08-01</td>\n",
       "      <td>2019-08-01 23:07</td>\n",
       "      <td>2019-08-02 4:27</td>\n",
       "      <td>2019-08-02 10:07</td>\n",
       "      <td>2019-08-07 12:47</td>\n",
       "      <td>2019-08-12 2:47</td>\n",
       "      <td>2019-08-04 16:07</td>\n",
       "      <td>...</td>\n",
       "      <td>3호기</td>\n",
       "      <td>2호기</td>\n",
       "      <td>2호기</td>\n",
       "      <td>1호기</td>\n",
       "      <td>2호기</td>\n",
       "      <td>1호기</td>\n",
       "      <td>1호기</td>\n",
       "      <td>3호기</td>\n",
       "      <td>1호기</td>\n",
       "      <td>2호기</td>\n",
       "    </tr>\n",
       "    <tr>\n",
       "      <th>3998</th>\n",
       "      <td>명점</td>\n",
       "      <td>LOT-300</td>\n",
       "      <td>PNL-19</td>\n",
       "      <td>2019-08-01</td>\n",
       "      <td>2019-08-01 23:51</td>\n",
       "      <td>2019-08-02 5:11</td>\n",
       "      <td>2019-08-02 10:51</td>\n",
       "      <td>2019-08-07 13:31</td>\n",
       "      <td>2019-08-12 3:31</td>\n",
       "      <td>2019-08-04 16:51</td>\n",
       "      <td>...</td>\n",
       "      <td>3호기</td>\n",
       "      <td>2호기</td>\n",
       "      <td>2호기</td>\n",
       "      <td>1호기</td>\n",
       "      <td>2호기</td>\n",
       "      <td>1호기</td>\n",
       "      <td>1호기</td>\n",
       "      <td>3호기</td>\n",
       "      <td>1호기</td>\n",
       "      <td>2호기</td>\n",
       "    </tr>\n",
       "    <tr>\n",
       "      <th>3999</th>\n",
       "      <td>양품</td>\n",
       "      <td>LOT-300</td>\n",
       "      <td>PNL-20</td>\n",
       "      <td>2019-08-02</td>\n",
       "      <td>2019-08-02 0:35</td>\n",
       "      <td>2019-08-02 5:55</td>\n",
       "      <td>2019-08-02 11:35</td>\n",
       "      <td>2019-08-07 14:15</td>\n",
       "      <td>2019-08-12 4:15</td>\n",
       "      <td>2019-08-04 17:35</td>\n",
       "      <td>...</td>\n",
       "      <td>3호기</td>\n",
       "      <td>2호기</td>\n",
       "      <td>2호기</td>\n",
       "      <td>1호기</td>\n",
       "      <td>2호기</td>\n",
       "      <td>1호기</td>\n",
       "      <td>1호기</td>\n",
       "      <td>3호기</td>\n",
       "      <td>1호기</td>\n",
       "      <td>2호기</td>\n",
       "    </tr>\n",
       "  </tbody>\n",
       "</table>\n",
       "<p>4000 rows × 29 columns</p>\n",
       "</div>"
      ],
      "text/plain": [
       "     JUDGE   LOT_ID PANEL_ID DATE_1BLACK       TIME_1BLACK         TIME_2AG  \\\n",
       "0       양품  LOT-101   PNL-01  2019-04-01   2019-04-01 0:01  2019-04-01 5:21   \n",
       "1       양품  LOT-101   PNL-02  2019-04-01   2019-04-01 0:45  2019-04-01 6:05   \n",
       "2       양품  LOT-101   PNL-03  2019-04-01   2019-04-01 1:29  2019-04-01 6:49   \n",
       "3       양품  LOT-101   PNL-04  2019-04-01   2019-04-01 2:13  2019-04-01 7:33   \n",
       "4       양품  LOT-101   PNL-05  2019-04-01   2019-04-01 2:58  2019-04-01 8:18   \n",
       "...    ...      ...      ...         ...               ...              ...   \n",
       "3995    명점  LOT-300   PNL-16  2019-08-01  2019-08-01 21:38  2019-08-02 2:58   \n",
       "3996    양품  LOT-300   PNL-17  2019-08-01  2019-08-01 22:23  2019-08-02 3:43   \n",
       "3997    양품  LOT-300   PNL-18  2019-08-01  2019-08-01 23:07  2019-08-02 4:27   \n",
       "3998    명점  LOT-300   PNL-19  2019-08-01  2019-08-01 23:51  2019-08-02 5:11   \n",
       "3999    양품  LOT-300   PNL-20  2019-08-02   2019-08-02 0:35  2019-08-02 5:55   \n",
       "\n",
       "             TIME_3BUS      TIME_4DIELEC        TIME_5MGO        TIME_6PHOS  \\\n",
       "0     2019-04-01 11:01  2019-04-06 13:41  2019-04-11 3:41  2019-04-03 20:20   \n",
       "1     2019-04-01 11:45  2019-04-06 14:25  2019-04-11 4:25  2019-04-03 21:04   \n",
       "2     2019-04-01 12:29  2019-04-06 15:09  2019-04-11 5:09  2019-04-03 21:48   \n",
       "3     2019-04-01 13:13  2019-04-06 15:53  2019-04-11 5:53  2019-04-03 22:32   \n",
       "4     2019-04-01 13:58  2019-04-06 16:38  2019-04-11 6:38  2019-04-03 23:17   \n",
       "...                ...               ...              ...               ...   \n",
       "3995   2019-08-02 8:38  2019-08-07 11:18  2019-08-12 1:18  2019-08-04 14:38   \n",
       "3996   2019-08-02 9:23  2019-08-07 12:03  2019-08-12 2:03  2019-08-04 15:23   \n",
       "3997  2019-08-02 10:07  2019-08-07 12:47  2019-08-12 2:47  2019-08-04 16:07   \n",
       "3998  2019-08-02 10:51  2019-08-07 13:31  2019-08-12 3:31  2019-08-04 16:51   \n",
       "3999  2019-08-02 11:35  2019-08-07 14:15  2019-08-12 4:15  2019-08-04 17:35   \n",
       "\n",
       "      ... MC_4DIELEC_1FIRE MC_5MGO MC_6PHOS_1R_1DISPENSER MC_6PHOS_1R_2DRY  \\\n",
       "0     ...              3호기     1호기                    1호기              2호기   \n",
       "1     ...              3호기     1호기                    1호기              2호기   \n",
       "2     ...              3호기     1호기                    1호기              2호기   \n",
       "3     ...              3호기     1호기                    1호기              2호기   \n",
       "4     ...              3호기     1호기                    1호기              2호기   \n",
       "...   ...              ...     ...                    ...              ...   \n",
       "3995  ...              3호기     2호기                    2호기              1호기   \n",
       "3996  ...              3호기     2호기                    2호기              1호기   \n",
       "3997  ...              3호기     2호기                    2호기              1호기   \n",
       "3998  ...              3호기     2호기                    2호기              1호기   \n",
       "3999  ...              3호기     2호기                    2호기              1호기   \n",
       "\n",
       "     MC_6PHOS_2G_1DISPENSER MC_6PHOS_2G_2DRY MC_6PHOS_3B_1DISPENSER  \\\n",
       "0                       2호기              2호기                    1호기   \n",
       "1                       2호기              2호기                    1호기   \n",
       "2                       2호기              2호기                    1호기   \n",
       "3                       2호기              2호기                    1호기   \n",
       "4                       2호기              2호기                    1호기   \n",
       "...                     ...              ...                    ...   \n",
       "3995                    2호기              1호기                    1호기   \n",
       "3996                    2호기              1호기                    1호기   \n",
       "3997                    2호기              1호기                    1호기   \n",
       "3998                    2호기              1호기                    1호기   \n",
       "3999                    2호기              1호기                    1호기   \n",
       "\n",
       "     MC_6PHOS_4FIRE MC_7PASTE MC_8AGING  \n",
       "0               3호기       1호기       2호기  \n",
       "1               3호기       1호기       2호기  \n",
       "2               3호기       1호기       2호기  \n",
       "3               3호기       1호기       2호기  \n",
       "4               3호기       1호기       2호기  \n",
       "...             ...       ...       ...  \n",
       "3995            3호기       1호기       2호기  \n",
       "3996            3호기       1호기       2호기  \n",
       "3997            3호기       1호기       2호기  \n",
       "3998            3호기       1호기       2호기  \n",
       "3999            3호기       1호기       2호기  \n",
       "\n",
       "[4000 rows x 29 columns]"
      ]
     },
     "execution_count": 70,
     "metadata": {},
     "output_type": "execute_result"
    }
   ],
   "source": [
    "df"
   ]
  },
  {
   "cell_type": "code",
   "execution_count": 71,
   "metadata": {},
   "outputs": [
    {
     "name": "stdout",
     "output_type": "stream",
     "text": [
      "lot: 300 양품 0 불량 1\n"
     ]
    }
   ],
   "source": [
    "yang, bull =0, 0\n",
    "size =range(101,301)\n",
    "for lot in size:\n",
    "    yang, bull =0,0\n",
    "for x in df[df['LOT_ID']=='%s'%lot]['JUDGE']:\n",
    "    if x ==1 :\n",
    "        yang+=1\n",
    "else:\n",
    "    bull+=1\n",
    "    print(\"lot:\",lot,\"양품\",yang,\"불량\",bull)"
   ]
  },
  {
   "cell_type": "code",
   "execution_count": 72,
   "metadata": {},
   "outputs": [],
   "source": [
    "from sklearn.tree import DecisionTreeClassifier as DTC\n",
    "from sklearn.tree import DecisionTreeClassifier"
   ]
  },
  {
   "cell_type": "code",
   "execution_count": 73,
   "metadata": {
    "scrolled": true
   },
   "outputs": [],
   "source": [
    "import pandas as pd\n",
    "import numpy as np\n",
    "import matplotlib\n",
    "import matplotlib.pyplot as plt\n",
    "\n",
    "#export_graphviz: 나무구조 생성및 저장\n",
    "from sklearn.tree import export_graphviz\n",
    "import graphviz\n",
    "from sklearn.model_selection import train_test_split\n",
    "from sklearn.tree import DecisionTreeClassifier as DTC\n",
    "from sklearn.model_selection import GridSearchCV\n",
    "\n",
    "from sklearn.metrics import confusion_matrix\n",
    "\n",
    "matplotlib.rc('font', family = 'NanumSquare')\n",
    "plt.rc('font', family = 'NanumSquare')"
   ]
  },
  {
   "cell_type": "code",
   "execution_count": 74,
   "metadata": {},
   "outputs": [],
   "source": [
    "df_machine=df[['JUDGE','MC_1BLACK_1PRINT',\n",
    "'MC_1BLACK_2RTD',\n",
    "'MC_2AG_1PRINT',\n",
    "'MC_2AG_2RTD',\n",
    "'MC_2AG_3EXPOSURE',\n",
    "'MC_3BUS_1DEVELOP',\n",
    "'MC_3BUS_2FIRE',\n",
    "'MC_4DIELEC_1FIRE',\n",
    "'MC_5MGO',\n",
    "'MC_6PHOS_1R_1DISPENSER',\n",
    "'MC_6PHOS_1R_2DRY',\n",
    "'MC_6PHOS_2G_1DISPENSER',\n",
    "'MC_6PHOS_2G_2DRY',\n",
    "'MC_6PHOS_3B_1DISPENSER',\n",
    "'MC_6PHOS_4FIRE',\n",
    "'MC_7PASTE',\n",
    "'MC_8AGING',\n",
    "]]"
   ]
  },
  {
   "cell_type": "code",
   "execution_count": 75,
   "metadata": {},
   "outputs": [
    {
     "data": {
      "text/html": [
       "<div>\n",
       "<style scoped>\n",
       "    .dataframe tbody tr th:only-of-type {\n",
       "        vertical-align: middle;\n",
       "    }\n",
       "\n",
       "    .dataframe tbody tr th {\n",
       "        vertical-align: top;\n",
       "    }\n",
       "\n",
       "    .dataframe thead th {\n",
       "        text-align: right;\n",
       "    }\n",
       "</style>\n",
       "<table border=\"1\" class=\"dataframe\">\n",
       "  <thead>\n",
       "    <tr style=\"text-align: right;\">\n",
       "      <th></th>\n",
       "      <th>JUDGE</th>\n",
       "      <th>MC_1BLACK_1PRINT</th>\n",
       "      <th>MC_1BLACK_2RTD</th>\n",
       "      <th>MC_2AG_1PRINT</th>\n",
       "      <th>MC_2AG_2RTD</th>\n",
       "      <th>MC_2AG_3EXPOSURE</th>\n",
       "      <th>MC_3BUS_1DEVELOP</th>\n",
       "      <th>MC_3BUS_2FIRE</th>\n",
       "      <th>MC_4DIELEC_1FIRE</th>\n",
       "      <th>MC_5MGO</th>\n",
       "      <th>MC_6PHOS_1R_1DISPENSER</th>\n",
       "      <th>MC_6PHOS_1R_2DRY</th>\n",
       "      <th>MC_6PHOS_2G_1DISPENSER</th>\n",
       "      <th>MC_6PHOS_2G_2DRY</th>\n",
       "      <th>MC_6PHOS_3B_1DISPENSER</th>\n",
       "      <th>MC_6PHOS_4FIRE</th>\n",
       "      <th>MC_7PASTE</th>\n",
       "      <th>MC_8AGING</th>\n",
       "    </tr>\n",
       "  </thead>\n",
       "  <tbody>\n",
       "    <tr>\n",
       "      <th>0</th>\n",
       "      <td>양품</td>\n",
       "      <td>2호기</td>\n",
       "      <td>2호기</td>\n",
       "      <td>1호기</td>\n",
       "      <td>1호기</td>\n",
       "      <td>2호기</td>\n",
       "      <td>1호기</td>\n",
       "      <td>1호기</td>\n",
       "      <td>3호기</td>\n",
       "      <td>1호기</td>\n",
       "      <td>1호기</td>\n",
       "      <td>2호기</td>\n",
       "      <td>2호기</td>\n",
       "      <td>2호기</td>\n",
       "      <td>1호기</td>\n",
       "      <td>3호기</td>\n",
       "      <td>1호기</td>\n",
       "      <td>2호기</td>\n",
       "    </tr>\n",
       "    <tr>\n",
       "      <th>1</th>\n",
       "      <td>양품</td>\n",
       "      <td>2호기</td>\n",
       "      <td>2호기</td>\n",
       "      <td>1호기</td>\n",
       "      <td>1호기</td>\n",
       "      <td>2호기</td>\n",
       "      <td>1호기</td>\n",
       "      <td>1호기</td>\n",
       "      <td>3호기</td>\n",
       "      <td>1호기</td>\n",
       "      <td>1호기</td>\n",
       "      <td>2호기</td>\n",
       "      <td>2호기</td>\n",
       "      <td>2호기</td>\n",
       "      <td>1호기</td>\n",
       "      <td>3호기</td>\n",
       "      <td>1호기</td>\n",
       "      <td>2호기</td>\n",
       "    </tr>\n",
       "    <tr>\n",
       "      <th>2</th>\n",
       "      <td>양품</td>\n",
       "      <td>2호기</td>\n",
       "      <td>2호기</td>\n",
       "      <td>1호기</td>\n",
       "      <td>1호기</td>\n",
       "      <td>2호기</td>\n",
       "      <td>1호기</td>\n",
       "      <td>1호기</td>\n",
       "      <td>3호기</td>\n",
       "      <td>1호기</td>\n",
       "      <td>1호기</td>\n",
       "      <td>2호기</td>\n",
       "      <td>2호기</td>\n",
       "      <td>2호기</td>\n",
       "      <td>1호기</td>\n",
       "      <td>3호기</td>\n",
       "      <td>1호기</td>\n",
       "      <td>2호기</td>\n",
       "    </tr>\n",
       "    <tr>\n",
       "      <th>3</th>\n",
       "      <td>양품</td>\n",
       "      <td>2호기</td>\n",
       "      <td>2호기</td>\n",
       "      <td>1호기</td>\n",
       "      <td>1호기</td>\n",
       "      <td>2호기</td>\n",
       "      <td>1호기</td>\n",
       "      <td>1호기</td>\n",
       "      <td>3호기</td>\n",
       "      <td>1호기</td>\n",
       "      <td>1호기</td>\n",
       "      <td>2호기</td>\n",
       "      <td>2호기</td>\n",
       "      <td>2호기</td>\n",
       "      <td>1호기</td>\n",
       "      <td>3호기</td>\n",
       "      <td>1호기</td>\n",
       "      <td>2호기</td>\n",
       "    </tr>\n",
       "    <tr>\n",
       "      <th>4</th>\n",
       "      <td>양품</td>\n",
       "      <td>2호기</td>\n",
       "      <td>2호기</td>\n",
       "      <td>1호기</td>\n",
       "      <td>1호기</td>\n",
       "      <td>2호기</td>\n",
       "      <td>1호기</td>\n",
       "      <td>1호기</td>\n",
       "      <td>3호기</td>\n",
       "      <td>1호기</td>\n",
       "      <td>1호기</td>\n",
       "      <td>2호기</td>\n",
       "      <td>2호기</td>\n",
       "      <td>2호기</td>\n",
       "      <td>1호기</td>\n",
       "      <td>3호기</td>\n",
       "      <td>1호기</td>\n",
       "      <td>2호기</td>\n",
       "    </tr>\n",
       "  </tbody>\n",
       "</table>\n",
       "</div>"
      ],
      "text/plain": [
       "  JUDGE MC_1BLACK_1PRINT MC_1BLACK_2RTD MC_2AG_1PRINT MC_2AG_2RTD  \\\n",
       "0    양품              2호기            2호기           1호기         1호기   \n",
       "1    양품              2호기            2호기           1호기         1호기   \n",
       "2    양품              2호기            2호기           1호기         1호기   \n",
       "3    양품              2호기            2호기           1호기         1호기   \n",
       "4    양품              2호기            2호기           1호기         1호기   \n",
       "\n",
       "  MC_2AG_3EXPOSURE MC_3BUS_1DEVELOP MC_3BUS_2FIRE MC_4DIELEC_1FIRE MC_5MGO  \\\n",
       "0              2호기              1호기           1호기              3호기     1호기   \n",
       "1              2호기              1호기           1호기              3호기     1호기   \n",
       "2              2호기              1호기           1호기              3호기     1호기   \n",
       "3              2호기              1호기           1호기              3호기     1호기   \n",
       "4              2호기              1호기           1호기              3호기     1호기   \n",
       "\n",
       "  MC_6PHOS_1R_1DISPENSER MC_6PHOS_1R_2DRY MC_6PHOS_2G_1DISPENSER  \\\n",
       "0                    1호기              2호기                    2호기   \n",
       "1                    1호기              2호기                    2호기   \n",
       "2                    1호기              2호기                    2호기   \n",
       "3                    1호기              2호기                    2호기   \n",
       "4                    1호기              2호기                    2호기   \n",
       "\n",
       "  MC_6PHOS_2G_2DRY MC_6PHOS_3B_1DISPENSER MC_6PHOS_4FIRE MC_7PASTE MC_8AGING  \n",
       "0              2호기                    1호기            3호기       1호기       2호기  \n",
       "1              2호기                    1호기            3호기       1호기       2호기  \n",
       "2              2호기                    1호기            3호기       1호기       2호기  \n",
       "3              2호기                    1호기            3호기       1호기       2호기  \n",
       "4              2호기                    1호기            3호기       1호기       2호기  "
      ]
     },
     "execution_count": 75,
     "metadata": {},
     "output_type": "execute_result"
    }
   ],
   "source": [
    "df_machine.head()"
   ]
  },
  {
   "cell_type": "code",
   "execution_count": 76,
   "metadata": {},
   "outputs": [
    {
     "data": {
      "text/html": [
       "<div>\n",
       "<style scoped>\n",
       "    .dataframe tbody tr th:only-of-type {\n",
       "        vertical-align: middle;\n",
       "    }\n",
       "\n",
       "    .dataframe tbody tr th {\n",
       "        vertical-align: top;\n",
       "    }\n",
       "\n",
       "    .dataframe thead th {\n",
       "        text-align: right;\n",
       "    }\n",
       "</style>\n",
       "<table border=\"1\" class=\"dataframe\">\n",
       "  <thead>\n",
       "    <tr style=\"text-align: right;\">\n",
       "      <th></th>\n",
       "      <th>JUDGE</th>\n",
       "    </tr>\n",
       "  </thead>\n",
       "  <tbody>\n",
       "    <tr>\n",
       "      <th>0</th>\n",
       "      <td>양품</td>\n",
       "    </tr>\n",
       "    <tr>\n",
       "      <th>1</th>\n",
       "      <td>양품</td>\n",
       "    </tr>\n",
       "    <tr>\n",
       "      <th>2</th>\n",
       "      <td>양품</td>\n",
       "    </tr>\n",
       "    <tr>\n",
       "      <th>3</th>\n",
       "      <td>양품</td>\n",
       "    </tr>\n",
       "    <tr>\n",
       "      <th>4</th>\n",
       "      <td>양품</td>\n",
       "    </tr>\n",
       "    <tr>\n",
       "      <th>...</th>\n",
       "      <td>...</td>\n",
       "    </tr>\n",
       "    <tr>\n",
       "      <th>3995</th>\n",
       "      <td>명점</td>\n",
       "    </tr>\n",
       "    <tr>\n",
       "      <th>3996</th>\n",
       "      <td>양품</td>\n",
       "    </tr>\n",
       "    <tr>\n",
       "      <th>3997</th>\n",
       "      <td>양품</td>\n",
       "    </tr>\n",
       "    <tr>\n",
       "      <th>3998</th>\n",
       "      <td>명점</td>\n",
       "    </tr>\n",
       "    <tr>\n",
       "      <th>3999</th>\n",
       "      <td>양품</td>\n",
       "    </tr>\n",
       "  </tbody>\n",
       "</table>\n",
       "<p>4000 rows × 1 columns</p>\n",
       "</div>"
      ],
      "text/plain": [
       "     JUDGE\n",
       "0       양품\n",
       "1       양품\n",
       "2       양품\n",
       "3       양품\n",
       "4       양품\n",
       "...    ...\n",
       "3995    명점\n",
       "3996    양품\n",
       "3997    양품\n",
       "3998    명점\n",
       "3999    양품\n",
       "\n",
       "[4000 rows x 1 columns]"
      ]
     },
     "execution_count": 76,
     "metadata": {},
     "output_type": "execute_result"
    }
   ],
   "source": [
    "df_machine_y = df[[\"JUDGE\"]]\n",
    "df_machine_y"
   ]
  },
  {
   "cell_type": "code",
   "execution_count": 77,
   "metadata": {},
   "outputs": [
    {
     "data": {
      "text/html": [
       "<div>\n",
       "<style scoped>\n",
       "    .dataframe tbody tr th:only-of-type {\n",
       "        vertical-align: middle;\n",
       "    }\n",
       "\n",
       "    .dataframe tbody tr th {\n",
       "        vertical-align: top;\n",
       "    }\n",
       "\n",
       "    .dataframe thead th {\n",
       "        text-align: right;\n",
       "    }\n",
       "</style>\n",
       "<table border=\"1\" class=\"dataframe\">\n",
       "  <thead>\n",
       "    <tr style=\"text-align: right;\">\n",
       "      <th></th>\n",
       "      <th>MC_1BLACK_1PRINT</th>\n",
       "      <th>MC_1BLACK_2RTD</th>\n",
       "      <th>MC_2AG_1PRINT</th>\n",
       "      <th>MC_2AG_2RTD</th>\n",
       "      <th>MC_2AG_3EXPOSURE</th>\n",
       "      <th>MC_3BUS_1DEVELOP</th>\n",
       "      <th>MC_3BUS_2FIRE</th>\n",
       "      <th>MC_4DIELEC_1FIRE</th>\n",
       "      <th>MC_5MGO</th>\n",
       "      <th>MC_6PHOS_1R_1DISPENSER</th>\n",
       "      <th>MC_6PHOS_1R_2DRY</th>\n",
       "      <th>MC_6PHOS_2G_1DISPENSER</th>\n",
       "      <th>MC_6PHOS_2G_2DRY</th>\n",
       "      <th>MC_6PHOS_3B_1DISPENSER</th>\n",
       "      <th>MC_6PHOS_4FIRE</th>\n",
       "      <th>MC_7PASTE</th>\n",
       "      <th>MC_8AGING</th>\n",
       "    </tr>\n",
       "  </thead>\n",
       "  <tbody>\n",
       "    <tr>\n",
       "      <th>0</th>\n",
       "      <td>2호기</td>\n",
       "      <td>2호기</td>\n",
       "      <td>1호기</td>\n",
       "      <td>1호기</td>\n",
       "      <td>2호기</td>\n",
       "      <td>1호기</td>\n",
       "      <td>1호기</td>\n",
       "      <td>3호기</td>\n",
       "      <td>1호기</td>\n",
       "      <td>1호기</td>\n",
       "      <td>2호기</td>\n",
       "      <td>2호기</td>\n",
       "      <td>2호기</td>\n",
       "      <td>1호기</td>\n",
       "      <td>3호기</td>\n",
       "      <td>1호기</td>\n",
       "      <td>2호기</td>\n",
       "    </tr>\n",
       "    <tr>\n",
       "      <th>1</th>\n",
       "      <td>2호기</td>\n",
       "      <td>2호기</td>\n",
       "      <td>1호기</td>\n",
       "      <td>1호기</td>\n",
       "      <td>2호기</td>\n",
       "      <td>1호기</td>\n",
       "      <td>1호기</td>\n",
       "      <td>3호기</td>\n",
       "      <td>1호기</td>\n",
       "      <td>1호기</td>\n",
       "      <td>2호기</td>\n",
       "      <td>2호기</td>\n",
       "      <td>2호기</td>\n",
       "      <td>1호기</td>\n",
       "      <td>3호기</td>\n",
       "      <td>1호기</td>\n",
       "      <td>2호기</td>\n",
       "    </tr>\n",
       "    <tr>\n",
       "      <th>2</th>\n",
       "      <td>2호기</td>\n",
       "      <td>2호기</td>\n",
       "      <td>1호기</td>\n",
       "      <td>1호기</td>\n",
       "      <td>2호기</td>\n",
       "      <td>1호기</td>\n",
       "      <td>1호기</td>\n",
       "      <td>3호기</td>\n",
       "      <td>1호기</td>\n",
       "      <td>1호기</td>\n",
       "      <td>2호기</td>\n",
       "      <td>2호기</td>\n",
       "      <td>2호기</td>\n",
       "      <td>1호기</td>\n",
       "      <td>3호기</td>\n",
       "      <td>1호기</td>\n",
       "      <td>2호기</td>\n",
       "    </tr>\n",
       "    <tr>\n",
       "      <th>3</th>\n",
       "      <td>2호기</td>\n",
       "      <td>2호기</td>\n",
       "      <td>1호기</td>\n",
       "      <td>1호기</td>\n",
       "      <td>2호기</td>\n",
       "      <td>1호기</td>\n",
       "      <td>1호기</td>\n",
       "      <td>3호기</td>\n",
       "      <td>1호기</td>\n",
       "      <td>1호기</td>\n",
       "      <td>2호기</td>\n",
       "      <td>2호기</td>\n",
       "      <td>2호기</td>\n",
       "      <td>1호기</td>\n",
       "      <td>3호기</td>\n",
       "      <td>1호기</td>\n",
       "      <td>2호기</td>\n",
       "    </tr>\n",
       "    <tr>\n",
       "      <th>4</th>\n",
       "      <td>2호기</td>\n",
       "      <td>2호기</td>\n",
       "      <td>1호기</td>\n",
       "      <td>1호기</td>\n",
       "      <td>2호기</td>\n",
       "      <td>1호기</td>\n",
       "      <td>1호기</td>\n",
       "      <td>3호기</td>\n",
       "      <td>1호기</td>\n",
       "      <td>1호기</td>\n",
       "      <td>2호기</td>\n",
       "      <td>2호기</td>\n",
       "      <td>2호기</td>\n",
       "      <td>1호기</td>\n",
       "      <td>3호기</td>\n",
       "      <td>1호기</td>\n",
       "      <td>2호기</td>\n",
       "    </tr>\n",
       "    <tr>\n",
       "      <th>...</th>\n",
       "      <td>...</td>\n",
       "      <td>...</td>\n",
       "      <td>...</td>\n",
       "      <td>...</td>\n",
       "      <td>...</td>\n",
       "      <td>...</td>\n",
       "      <td>...</td>\n",
       "      <td>...</td>\n",
       "      <td>...</td>\n",
       "      <td>...</td>\n",
       "      <td>...</td>\n",
       "      <td>...</td>\n",
       "      <td>...</td>\n",
       "      <td>...</td>\n",
       "      <td>...</td>\n",
       "      <td>...</td>\n",
       "      <td>...</td>\n",
       "    </tr>\n",
       "    <tr>\n",
       "      <th>3995</th>\n",
       "      <td>2호기</td>\n",
       "      <td>1호기</td>\n",
       "      <td>1호기</td>\n",
       "      <td>1호기</td>\n",
       "      <td>1호기</td>\n",
       "      <td>2호기</td>\n",
       "      <td>1호기</td>\n",
       "      <td>3호기</td>\n",
       "      <td>2호기</td>\n",
       "      <td>2호기</td>\n",
       "      <td>1호기</td>\n",
       "      <td>2호기</td>\n",
       "      <td>1호기</td>\n",
       "      <td>1호기</td>\n",
       "      <td>3호기</td>\n",
       "      <td>1호기</td>\n",
       "      <td>2호기</td>\n",
       "    </tr>\n",
       "    <tr>\n",
       "      <th>3996</th>\n",
       "      <td>2호기</td>\n",
       "      <td>1호기</td>\n",
       "      <td>1호기</td>\n",
       "      <td>1호기</td>\n",
       "      <td>1호기</td>\n",
       "      <td>2호기</td>\n",
       "      <td>1호기</td>\n",
       "      <td>3호기</td>\n",
       "      <td>2호기</td>\n",
       "      <td>2호기</td>\n",
       "      <td>1호기</td>\n",
       "      <td>2호기</td>\n",
       "      <td>1호기</td>\n",
       "      <td>1호기</td>\n",
       "      <td>3호기</td>\n",
       "      <td>1호기</td>\n",
       "      <td>2호기</td>\n",
       "    </tr>\n",
       "    <tr>\n",
       "      <th>3997</th>\n",
       "      <td>2호기</td>\n",
       "      <td>1호기</td>\n",
       "      <td>1호기</td>\n",
       "      <td>1호기</td>\n",
       "      <td>1호기</td>\n",
       "      <td>2호기</td>\n",
       "      <td>1호기</td>\n",
       "      <td>3호기</td>\n",
       "      <td>2호기</td>\n",
       "      <td>2호기</td>\n",
       "      <td>1호기</td>\n",
       "      <td>2호기</td>\n",
       "      <td>1호기</td>\n",
       "      <td>1호기</td>\n",
       "      <td>3호기</td>\n",
       "      <td>1호기</td>\n",
       "      <td>2호기</td>\n",
       "    </tr>\n",
       "    <tr>\n",
       "      <th>3998</th>\n",
       "      <td>2호기</td>\n",
       "      <td>1호기</td>\n",
       "      <td>1호기</td>\n",
       "      <td>1호기</td>\n",
       "      <td>1호기</td>\n",
       "      <td>2호기</td>\n",
       "      <td>1호기</td>\n",
       "      <td>3호기</td>\n",
       "      <td>2호기</td>\n",
       "      <td>2호기</td>\n",
       "      <td>1호기</td>\n",
       "      <td>2호기</td>\n",
       "      <td>1호기</td>\n",
       "      <td>1호기</td>\n",
       "      <td>3호기</td>\n",
       "      <td>1호기</td>\n",
       "      <td>2호기</td>\n",
       "    </tr>\n",
       "    <tr>\n",
       "      <th>3999</th>\n",
       "      <td>2호기</td>\n",
       "      <td>1호기</td>\n",
       "      <td>1호기</td>\n",
       "      <td>1호기</td>\n",
       "      <td>1호기</td>\n",
       "      <td>2호기</td>\n",
       "      <td>1호기</td>\n",
       "      <td>3호기</td>\n",
       "      <td>2호기</td>\n",
       "      <td>2호기</td>\n",
       "      <td>1호기</td>\n",
       "      <td>2호기</td>\n",
       "      <td>1호기</td>\n",
       "      <td>1호기</td>\n",
       "      <td>3호기</td>\n",
       "      <td>1호기</td>\n",
       "      <td>2호기</td>\n",
       "    </tr>\n",
       "  </tbody>\n",
       "</table>\n",
       "<p>4000 rows × 17 columns</p>\n",
       "</div>"
      ],
      "text/plain": [
       "     MC_1BLACK_1PRINT MC_1BLACK_2RTD MC_2AG_1PRINT MC_2AG_2RTD  \\\n",
       "0                 2호기            2호기           1호기         1호기   \n",
       "1                 2호기            2호기           1호기         1호기   \n",
       "2                 2호기            2호기           1호기         1호기   \n",
       "3                 2호기            2호기           1호기         1호기   \n",
       "4                 2호기            2호기           1호기         1호기   \n",
       "...               ...            ...           ...         ...   \n",
       "3995              2호기            1호기           1호기         1호기   \n",
       "3996              2호기            1호기           1호기         1호기   \n",
       "3997              2호기            1호기           1호기         1호기   \n",
       "3998              2호기            1호기           1호기         1호기   \n",
       "3999              2호기            1호기           1호기         1호기   \n",
       "\n",
       "     MC_2AG_3EXPOSURE MC_3BUS_1DEVELOP MC_3BUS_2FIRE MC_4DIELEC_1FIRE MC_5MGO  \\\n",
       "0                 2호기              1호기           1호기              3호기     1호기   \n",
       "1                 2호기              1호기           1호기              3호기     1호기   \n",
       "2                 2호기              1호기           1호기              3호기     1호기   \n",
       "3                 2호기              1호기           1호기              3호기     1호기   \n",
       "4                 2호기              1호기           1호기              3호기     1호기   \n",
       "...               ...              ...           ...              ...     ...   \n",
       "3995              1호기              2호기           1호기              3호기     2호기   \n",
       "3996              1호기              2호기           1호기              3호기     2호기   \n",
       "3997              1호기              2호기           1호기              3호기     2호기   \n",
       "3998              1호기              2호기           1호기              3호기     2호기   \n",
       "3999              1호기              2호기           1호기              3호기     2호기   \n",
       "\n",
       "     MC_6PHOS_1R_1DISPENSER MC_6PHOS_1R_2DRY MC_6PHOS_2G_1DISPENSER  \\\n",
       "0                       1호기              2호기                    2호기   \n",
       "1                       1호기              2호기                    2호기   \n",
       "2                       1호기              2호기                    2호기   \n",
       "3                       1호기              2호기                    2호기   \n",
       "4                       1호기              2호기                    2호기   \n",
       "...                     ...              ...                    ...   \n",
       "3995                    2호기              1호기                    2호기   \n",
       "3996                    2호기              1호기                    2호기   \n",
       "3997                    2호기              1호기                    2호기   \n",
       "3998                    2호기              1호기                    2호기   \n",
       "3999                    2호기              1호기                    2호기   \n",
       "\n",
       "     MC_6PHOS_2G_2DRY MC_6PHOS_3B_1DISPENSER MC_6PHOS_4FIRE MC_7PASTE  \\\n",
       "0                 2호기                    1호기            3호기       1호기   \n",
       "1                 2호기                    1호기            3호기       1호기   \n",
       "2                 2호기                    1호기            3호기       1호기   \n",
       "3                 2호기                    1호기            3호기       1호기   \n",
       "4                 2호기                    1호기            3호기       1호기   \n",
       "...               ...                    ...            ...       ...   \n",
       "3995              1호기                    1호기            3호기       1호기   \n",
       "3996              1호기                    1호기            3호기       1호기   \n",
       "3997              1호기                    1호기            3호기       1호기   \n",
       "3998              1호기                    1호기            3호기       1호기   \n",
       "3999              1호기                    1호기            3호기       1호기   \n",
       "\n",
       "     MC_8AGING  \n",
       "0          2호기  \n",
       "1          2호기  \n",
       "2          2호기  \n",
       "3          2호기  \n",
       "4          2호기  \n",
       "...        ...  \n",
       "3995       2호기  \n",
       "3996       2호기  \n",
       "3997       2호기  \n",
       "3998       2호기  \n",
       "3999       2호기  \n",
       "\n",
       "[4000 rows x 17 columns]"
      ]
     },
     "execution_count": 77,
     "metadata": {},
     "output_type": "execute_result"
    }
   ],
   "source": [
    "df_machine_x = df_machine.drop(\"JUDGE\", axis=1, inplace=False)\n",
    "df_machine_x"
   ]
  },
  {
   "cell_type": "code",
   "execution_count": 78,
   "metadata": {
    "scrolled": true
   },
   "outputs": [
    {
     "data": {
      "text/html": [
       "<div>\n",
       "<style scoped>\n",
       "    .dataframe tbody tr th:only-of-type {\n",
       "        vertical-align: middle;\n",
       "    }\n",
       "\n",
       "    .dataframe tbody tr th {\n",
       "        vertical-align: top;\n",
       "    }\n",
       "\n",
       "    .dataframe thead th {\n",
       "        text-align: right;\n",
       "    }\n",
       "</style>\n",
       "<table border=\"1\" class=\"dataframe\">\n",
       "  <thead>\n",
       "    <tr style=\"text-align: right;\">\n",
       "      <th></th>\n",
       "      <th>JUDGE_명점</th>\n",
       "      <th>JUDGE_양품</th>\n",
       "    </tr>\n",
       "  </thead>\n",
       "  <tbody>\n",
       "    <tr>\n",
       "      <th>count</th>\n",
       "      <td>4000.000000</td>\n",
       "      <td>4000.000000</td>\n",
       "    </tr>\n",
       "    <tr>\n",
       "      <th>mean</th>\n",
       "      <td>0.106750</td>\n",
       "      <td>0.893250</td>\n",
       "    </tr>\n",
       "    <tr>\n",
       "      <th>std</th>\n",
       "      <td>0.308834</td>\n",
       "      <td>0.308834</td>\n",
       "    </tr>\n",
       "    <tr>\n",
       "      <th>min</th>\n",
       "      <td>0.000000</td>\n",
       "      <td>0.000000</td>\n",
       "    </tr>\n",
       "    <tr>\n",
       "      <th>25%</th>\n",
       "      <td>0.000000</td>\n",
       "      <td>1.000000</td>\n",
       "    </tr>\n",
       "    <tr>\n",
       "      <th>50%</th>\n",
       "      <td>0.000000</td>\n",
       "      <td>1.000000</td>\n",
       "    </tr>\n",
       "    <tr>\n",
       "      <th>75%</th>\n",
       "      <td>0.000000</td>\n",
       "      <td>1.000000</td>\n",
       "    </tr>\n",
       "    <tr>\n",
       "      <th>max</th>\n",
       "      <td>1.000000</td>\n",
       "      <td>1.000000</td>\n",
       "    </tr>\n",
       "  </tbody>\n",
       "</table>\n",
       "</div>"
      ],
      "text/plain": [
       "          JUDGE_명점     JUDGE_양품\n",
       "count  4000.000000  4000.000000\n",
       "mean      0.106750     0.893250\n",
       "std       0.308834     0.308834\n",
       "min       0.000000     0.000000\n",
       "25%       0.000000     1.000000\n",
       "50%       0.000000     1.000000\n",
       "75%       0.000000     1.000000\n",
       "max       1.000000     1.000000"
      ]
     },
     "execution_count": 78,
     "metadata": {},
     "output_type": "execute_result"
    }
   ],
   "source": [
    "df_machine_y_dummy = pd.get_dummies(df_machine_y)\n",
    "df_machine_y_dummy.describe()"
   ]
  },
  {
   "cell_type": "code",
   "execution_count": 79,
   "metadata": {},
   "outputs": [
    {
     "data": {
      "text/html": [
       "<div>\n",
       "<style scoped>\n",
       "    .dataframe tbody tr th:only-of-type {\n",
       "        vertical-align: middle;\n",
       "    }\n",
       "\n",
       "    .dataframe tbody tr th {\n",
       "        vertical-align: top;\n",
       "    }\n",
       "\n",
       "    .dataframe thead th {\n",
       "        text-align: right;\n",
       "    }\n",
       "</style>\n",
       "<table border=\"1\" class=\"dataframe\">\n",
       "  <thead>\n",
       "    <tr style=\"text-align: right;\">\n",
       "      <th></th>\n",
       "      <th>MC_1BLACK_1PRINT_1호기</th>\n",
       "      <th>MC_1BLACK_1PRINT_2호기</th>\n",
       "      <th>MC_1BLACK_2RTD_1호기</th>\n",
       "      <th>MC_1BLACK_2RTD_2호기</th>\n",
       "      <th>MC_2AG_1PRINT_1호기</th>\n",
       "      <th>MC_2AG_1PRINT_2호기</th>\n",
       "      <th>MC_2AG_2RTD_1호기</th>\n",
       "      <th>MC_2AG_2RTD_2호기</th>\n",
       "      <th>MC_2AG_3EXPOSURE_1호기</th>\n",
       "      <th>MC_2AG_3EXPOSURE_2호기</th>\n",
       "      <th>...</th>\n",
       "      <th>MC_6PHOS_2G_2DRY_2호기</th>\n",
       "      <th>MC_6PHOS_3B_1DISPENSER_1호기</th>\n",
       "      <th>MC_6PHOS_3B_1DISPENSER_2호기</th>\n",
       "      <th>MC_6PHOS_4FIRE_1호기</th>\n",
       "      <th>MC_6PHOS_4FIRE_2호기</th>\n",
       "      <th>MC_6PHOS_4FIRE_3호기</th>\n",
       "      <th>MC_7PASTE_1호기</th>\n",
       "      <th>MC_7PASTE_2호기</th>\n",
       "      <th>MC_8AGING_1호기</th>\n",
       "      <th>MC_8AGING_2호기</th>\n",
       "    </tr>\n",
       "  </thead>\n",
       "  <tbody>\n",
       "    <tr>\n",
       "      <th>0</th>\n",
       "      <td>0</td>\n",
       "      <td>1</td>\n",
       "      <td>0</td>\n",
       "      <td>1</td>\n",
       "      <td>1</td>\n",
       "      <td>0</td>\n",
       "      <td>1</td>\n",
       "      <td>0</td>\n",
       "      <td>0</td>\n",
       "      <td>1</td>\n",
       "      <td>...</td>\n",
       "      <td>1</td>\n",
       "      <td>1</td>\n",
       "      <td>0</td>\n",
       "      <td>0</td>\n",
       "      <td>0</td>\n",
       "      <td>1</td>\n",
       "      <td>1</td>\n",
       "      <td>0</td>\n",
       "      <td>0</td>\n",
       "      <td>1</td>\n",
       "    </tr>\n",
       "    <tr>\n",
       "      <th>1</th>\n",
       "      <td>0</td>\n",
       "      <td>1</td>\n",
       "      <td>0</td>\n",
       "      <td>1</td>\n",
       "      <td>1</td>\n",
       "      <td>0</td>\n",
       "      <td>1</td>\n",
       "      <td>0</td>\n",
       "      <td>0</td>\n",
       "      <td>1</td>\n",
       "      <td>...</td>\n",
       "      <td>1</td>\n",
       "      <td>1</td>\n",
       "      <td>0</td>\n",
       "      <td>0</td>\n",
       "      <td>0</td>\n",
       "      <td>1</td>\n",
       "      <td>1</td>\n",
       "      <td>0</td>\n",
       "      <td>0</td>\n",
       "      <td>1</td>\n",
       "    </tr>\n",
       "    <tr>\n",
       "      <th>2</th>\n",
       "      <td>0</td>\n",
       "      <td>1</td>\n",
       "      <td>0</td>\n",
       "      <td>1</td>\n",
       "      <td>1</td>\n",
       "      <td>0</td>\n",
       "      <td>1</td>\n",
       "      <td>0</td>\n",
       "      <td>0</td>\n",
       "      <td>1</td>\n",
       "      <td>...</td>\n",
       "      <td>1</td>\n",
       "      <td>1</td>\n",
       "      <td>0</td>\n",
       "      <td>0</td>\n",
       "      <td>0</td>\n",
       "      <td>1</td>\n",
       "      <td>1</td>\n",
       "      <td>0</td>\n",
       "      <td>0</td>\n",
       "      <td>1</td>\n",
       "    </tr>\n",
       "    <tr>\n",
       "      <th>3</th>\n",
       "      <td>0</td>\n",
       "      <td>1</td>\n",
       "      <td>0</td>\n",
       "      <td>1</td>\n",
       "      <td>1</td>\n",
       "      <td>0</td>\n",
       "      <td>1</td>\n",
       "      <td>0</td>\n",
       "      <td>0</td>\n",
       "      <td>1</td>\n",
       "      <td>...</td>\n",
       "      <td>1</td>\n",
       "      <td>1</td>\n",
       "      <td>0</td>\n",
       "      <td>0</td>\n",
       "      <td>0</td>\n",
       "      <td>1</td>\n",
       "      <td>1</td>\n",
       "      <td>0</td>\n",
       "      <td>0</td>\n",
       "      <td>1</td>\n",
       "    </tr>\n",
       "    <tr>\n",
       "      <th>4</th>\n",
       "      <td>0</td>\n",
       "      <td>1</td>\n",
       "      <td>0</td>\n",
       "      <td>1</td>\n",
       "      <td>1</td>\n",
       "      <td>0</td>\n",
       "      <td>1</td>\n",
       "      <td>0</td>\n",
       "      <td>0</td>\n",
       "      <td>1</td>\n",
       "      <td>...</td>\n",
       "      <td>1</td>\n",
       "      <td>1</td>\n",
       "      <td>0</td>\n",
       "      <td>0</td>\n",
       "      <td>0</td>\n",
       "      <td>1</td>\n",
       "      <td>1</td>\n",
       "      <td>0</td>\n",
       "      <td>0</td>\n",
       "      <td>1</td>\n",
       "    </tr>\n",
       "  </tbody>\n",
       "</table>\n",
       "<p>5 rows × 36 columns</p>\n",
       "</div>"
      ],
      "text/plain": [
       "   MC_1BLACK_1PRINT_1호기  MC_1BLACK_1PRINT_2호기  MC_1BLACK_2RTD_1호기  \\\n",
       "0                     0                     1                   0   \n",
       "1                     0                     1                   0   \n",
       "2                     0                     1                   0   \n",
       "3                     0                     1                   0   \n",
       "4                     0                     1                   0   \n",
       "\n",
       "   MC_1BLACK_2RTD_2호기  MC_2AG_1PRINT_1호기  MC_2AG_1PRINT_2호기  MC_2AG_2RTD_1호기  \\\n",
       "0                   1                  1                  0                1   \n",
       "1                   1                  1                  0                1   \n",
       "2                   1                  1                  0                1   \n",
       "3                   1                  1                  0                1   \n",
       "4                   1                  1                  0                1   \n",
       "\n",
       "   MC_2AG_2RTD_2호기  MC_2AG_3EXPOSURE_1호기  MC_2AG_3EXPOSURE_2호기  ...  \\\n",
       "0                0                     0                     1  ...   \n",
       "1                0                     0                     1  ...   \n",
       "2                0                     0                     1  ...   \n",
       "3                0                     0                     1  ...   \n",
       "4                0                     0                     1  ...   \n",
       "\n",
       "   MC_6PHOS_2G_2DRY_2호기  MC_6PHOS_3B_1DISPENSER_1호기  \\\n",
       "0                     1                           1   \n",
       "1                     1                           1   \n",
       "2                     1                           1   \n",
       "3                     1                           1   \n",
       "4                     1                           1   \n",
       "\n",
       "   MC_6PHOS_3B_1DISPENSER_2호기  MC_6PHOS_4FIRE_1호기  MC_6PHOS_4FIRE_2호기  \\\n",
       "0                           0                   0                   0   \n",
       "1                           0                   0                   0   \n",
       "2                           0                   0                   0   \n",
       "3                           0                   0                   0   \n",
       "4                           0                   0                   0   \n",
       "\n",
       "   MC_6PHOS_4FIRE_3호기  MC_7PASTE_1호기  MC_7PASTE_2호기  MC_8AGING_1호기  \\\n",
       "0                   1              1              0              0   \n",
       "1                   1              1              0              0   \n",
       "2                   1              1              0              0   \n",
       "3                   1              1              0              0   \n",
       "4                   1              1              0              0   \n",
       "\n",
       "   MC_8AGING_2호기  \n",
       "0              1  \n",
       "1              1  \n",
       "2              1  \n",
       "3              1  \n",
       "4              1  \n",
       "\n",
       "[5 rows x 36 columns]"
      ]
     },
     "execution_count": 79,
     "metadata": {},
     "output_type": "execute_result"
    }
   ],
   "source": [
    "df_machine_x_dummy = pd.get_dummies(df_machine_x)\n",
    "df_machine_x_dummy.head()"
   ]
  },
  {
   "cell_type": "code",
   "execution_count": 80,
   "metadata": {},
   "outputs": [
    {
     "name": "stdout",
     "output_type": "stream",
     "text": [
      "train data X size : (1600, 36)\n",
      "train data Y size : (1600, 2)\n",
      "test data X size : (1200, 36)\n",
      "test data Y size : (1200, 2)\n",
      "validation data X size : (1200, 36)\n",
      "validation data Y size : (1200, 2)\n"
     ]
    }
   ],
   "source": [
    "df_train_x, df_test_x, df_train_y, df_test_y = train_test_split(df_machine_x_dummy, df_machine_y_dummy,\n",
    "                                                               test_size = 0.3, random_state = 1234)\n",
    "\n",
    "df_train_x, df_val_x, df_train_y, df_val_y = train_test_split(df_train_x, df_train_y,\n",
    "                                                               test_size = 3/7, random_state = 1234)\n",
    "\n",
    "print(\"train data X size : {}\".format(df_train_x.shape))\n",
    "print(\"train data Y size : {}\".format(df_train_y.shape))\n",
    "print(\"test data X size : {}\".format(df_test_x.shape))\n",
    "print(\"test data Y size : {}\".format(df_test_y.shape))\n",
    "print(\"validation data X size : {}\".format(df_val_x.shape))\n",
    "print(\"validation data Y size : {}\".format(df_val_y.shape))"
   ]
  },
  {
   "cell_type": "code",
   "execution_count": 81,
   "metadata": {},
   "outputs": [
    {
     "name": "stdout",
     "output_type": "stream",
     "text": [
      "Score on training set: 0.893\n",
      "Score on training set: 0.898\n"
     ]
    }
   ],
   "source": [
    "tree_uncustomized = DTC(random_state = 1234)\n",
    "tree_uncustomized.fit(df_train_x, df_train_y)\n",
    "\n",
    "print(\"Score on training set: {:.3f}\".format(tree_uncustomized.score(df_train_x,df_train_y)))\n",
    "print(\"Score on training set: {:.3f}\".format(tree_uncustomized.score(df_test_x,df_test_y)))"
   ]
  },
  {
   "cell_type": "code",
   "execution_count": 82,
   "metadata": {},
   "outputs": [
    {
     "data": {
      "text/html": [
       "<div>\n",
       "<style scoped>\n",
       "    .dataframe tbody tr th:only-of-type {\n",
       "        vertical-align: middle;\n",
       "    }\n",
       "\n",
       "    .dataframe tbody tr th {\n",
       "        vertical-align: top;\n",
       "    }\n",
       "\n",
       "    .dataframe thead th {\n",
       "        text-align: right;\n",
       "    }\n",
       "</style>\n",
       "<table border=\"1\" class=\"dataframe\">\n",
       "  <thead>\n",
       "    <tr style=\"text-align: right;\">\n",
       "      <th></th>\n",
       "      <th>Depth</th>\n",
       "      <th>TrainAccuracy</th>\n",
       "      <th>TestAccuracy</th>\n",
       "    </tr>\n",
       "  </thead>\n",
       "  <tbody>\n",
       "    <tr>\n",
       "      <th>0</th>\n",
       "      <td>1</td>\n",
       "      <td>0.894</td>\n",
       "      <td>0.886</td>\n",
       "    </tr>\n",
       "    <tr>\n",
       "      <th>1</th>\n",
       "      <td>2</td>\n",
       "      <td>0.894</td>\n",
       "      <td>0.886</td>\n",
       "    </tr>\n",
       "    <tr>\n",
       "      <th>2</th>\n",
       "      <td>3</td>\n",
       "      <td>0.894</td>\n",
       "      <td>0.886</td>\n",
       "    </tr>\n",
       "    <tr>\n",
       "      <th>3</th>\n",
       "      <td>4</td>\n",
       "      <td>0.894</td>\n",
       "      <td>0.886</td>\n",
       "    </tr>\n",
       "    <tr>\n",
       "      <th>4</th>\n",
       "      <td>5</td>\n",
       "      <td>0.894</td>\n",
       "      <td>0.886</td>\n",
       "    </tr>\n",
       "    <tr>\n",
       "      <th>5</th>\n",
       "      <td>6</td>\n",
       "      <td>0.894</td>\n",
       "      <td>0.886</td>\n",
       "    </tr>\n",
       "    <tr>\n",
       "      <th>6</th>\n",
       "      <td>7</td>\n",
       "      <td>0.894</td>\n",
       "      <td>0.886</td>\n",
       "    </tr>\n",
       "    <tr>\n",
       "      <th>7</th>\n",
       "      <td>8</td>\n",
       "      <td>0.894</td>\n",
       "      <td>0.886</td>\n",
       "    </tr>\n",
       "    <tr>\n",
       "      <th>8</th>\n",
       "      <td>9</td>\n",
       "      <td>0.894</td>\n",
       "      <td>0.886</td>\n",
       "    </tr>\n",
       "    <tr>\n",
       "      <th>9</th>\n",
       "      <td>10</td>\n",
       "      <td>0.893</td>\n",
       "      <td>0.876</td>\n",
       "    </tr>\n",
       "    <tr>\n",
       "      <th>10</th>\n",
       "      <td>11</td>\n",
       "      <td>0.893</td>\n",
       "      <td>0.876</td>\n",
       "    </tr>\n",
       "    <tr>\n",
       "      <th>11</th>\n",
       "      <td>12</td>\n",
       "      <td>0.893</td>\n",
       "      <td>0.876</td>\n",
       "    </tr>\n",
       "    <tr>\n",
       "      <th>12</th>\n",
       "      <td>13</td>\n",
       "      <td>0.893</td>\n",
       "      <td>0.876</td>\n",
       "    </tr>\n",
       "    <tr>\n",
       "      <th>13</th>\n",
       "      <td>14</td>\n",
       "      <td>0.893</td>\n",
       "      <td>0.876</td>\n",
       "    </tr>\n",
       "    <tr>\n",
       "      <th>14</th>\n",
       "      <td>15</td>\n",
       "      <td>0.893</td>\n",
       "      <td>0.876</td>\n",
       "    </tr>\n",
       "    <tr>\n",
       "      <th>15</th>\n",
       "      <td>16</td>\n",
       "      <td>0.893</td>\n",
       "      <td>0.876</td>\n",
       "    </tr>\n",
       "    <tr>\n",
       "      <th>16</th>\n",
       "      <td>17</td>\n",
       "      <td>0.893</td>\n",
       "      <td>0.876</td>\n",
       "    </tr>\n",
       "    <tr>\n",
       "      <th>17</th>\n",
       "      <td>18</td>\n",
       "      <td>0.893</td>\n",
       "      <td>0.876</td>\n",
       "    </tr>\n",
       "    <tr>\n",
       "      <th>18</th>\n",
       "      <td>19</td>\n",
       "      <td>0.893</td>\n",
       "      <td>0.876</td>\n",
       "    </tr>\n",
       "  </tbody>\n",
       "</table>\n",
       "</div>"
      ],
      "text/plain": [
       "    Depth  TrainAccuracy  TestAccuracy\n",
       "0       1          0.894         0.886\n",
       "1       2          0.894         0.886\n",
       "2       3          0.894         0.886\n",
       "3       4          0.894         0.886\n",
       "4       5          0.894         0.886\n",
       "5       6          0.894         0.886\n",
       "6       7          0.894         0.886\n",
       "7       8          0.894         0.886\n",
       "8       9          0.894         0.886\n",
       "9      10          0.893         0.876\n",
       "10     11          0.893         0.876\n",
       "11     12          0.893         0.876\n",
       "12     13          0.893         0.876\n",
       "13     14          0.893         0.876\n",
       "14     15          0.893         0.876\n",
       "15     16          0.893         0.876\n",
       "16     17          0.893         0.876\n",
       "17     18          0.893         0.876\n",
       "18     19          0.893         0.876"
      ]
     },
     "execution_count": 82,
     "metadata": {},
     "output_type": "execute_result"
    }
   ],
   "source": [
    "#max_depth: 최대깊이 변경에 따른 모델 성능\n",
    "\n",
    "train_accuracy = []\n",
    "test_accuracy =[]\n",
    "\n",
    "para_depth = [depth for depth in range(1,20)]\n",
    "\n",
    "for v_max_depth in para_depth:\n",
    "    tree = DTC(max_depth = v_max_depth, random_state= 1234)\n",
    "    tree.fit(df_train_x, df_train_y)\n",
    "    train_accuracy.append(tree.score(df_train_x,df_train_y))\n",
    "    test_accuracy.append(tree.score(df_val_x, df_val_y))\n",
    "\n",
    "df_accuracy_depth = pd.DataFrame()\n",
    "df_accuracy_depth[\"Depth\"] = para_depth\n",
    "df_accuracy_depth[\"TrainAccuracy\"] = train_accuracy\n",
    "df_accuracy_depth[\"TestAccuracy\"] = test_accuracy\n",
    "df_accuracy_depth.round(3)"
   ]
  },
  {
   "cell_type": "code",
   "execution_count": 83,
   "metadata": {},
   "outputs": [
    {
     "data": {
      "text/plain": [
       "<matplotlib.legend.Legend at 0x7fdee146fe50>"
      ]
     },
     "execution_count": 83,
     "metadata": {},
     "output_type": "execute_result"
    },
    {
     "data": {
      "image/png": "[encoded data removed]",
      "text/plain": [
       "<Figure size 432x288 with 1 Axes>"
      ]
     },
     "metadata": {
      "needs_background": "light"
     },
     "output_type": "display_data"
    }
   ],
   "source": [
    "plt.plot(para_depth, train_accuracy, linestyle =\"-\", label = \"Train Accuracy\")\n",
    "plt.plot(para_depth, test_accuracy, linestyle =\"--\", label = \"Test Accuracy\")\n",
    "plt.legend()"
   ]
  },
  {
   "cell_type": "code",
   "execution_count": 84,
   "metadata": {},
   "outputs": [],
   "source": [
    "#변수명 저장\n",
    "v_feature_name = df_train_x.columns"
   ]
  },
  {
   "cell_type": "code",
   "execution_count": 85,
   "metadata": {},
   "outputs": [
    {
     "data": {
      "image/svg+xml": [
       "<?xml version=\"1.0\" encoding=\"UTF-8\" standalone=\"no\"?>\n",
       "<!DOCTYPE svg PUBLIC \"-//W3C//DTD SVG 1.1//EN\"\n",
       " \"http://www.w3.org/Graphics/SVG/1.1/DTD/svg11.dtd\">\n",
       "<!-- Generated by graphviz version 2.40.1 (20161225.0304)\n",
       " -->\n",
       "<!-- Title: Tree Pages: 1 -->\n",
       "<svg width=\"1103pt\" height=\"433pt\"\n",
       " viewBox=\"0.00 0.00 1103.00 433.00\" xmlns=\"http://www.w3.org/2000/svg\" xmlns:xlink=\"http://www.w3.org/1999/xlink\">\n",
       "<g id=\"graph0\" class=\"graph\" transform=\"scale(1 1) rotate(0) translate(4 429)\">\n",
       "<title>Tree</title>\n",
       "<polygon fill=\"#ffffff\" stroke=\"transparent\" points=\"-4,4 -4,-429 1099,-429 1099,4 -4,4\"/>\n",
       "<!-- 0 -->\n",
       "<g id=\"node1\" class=\"node\">\n",
       "<title>0</title>\n",
       "<polygon fill=\"#f5cdb0\" stroke=\"#000000\" points=\"672.5,-425 461.5,-425 461.5,-342 672.5,-342 672.5,-425\"/>\n",
       "<text text-anchor=\"middle\" x=\"567\" y=\"-409.8\" font-family=\"Times,serif\" font-size=\"14.00\" fill=\"#000000\">MC_6PHOS_4FIRE_1호기 &lt;= 0.5</text>\n",
       "<text text-anchor=\"middle\" x=\"567\" y=\"-394.8\" font-family=\"Times,serif\" font-size=\"14.00\" fill=\"#000000\">gini = 0.189</text>\n",
       "<text text-anchor=\"middle\" x=\"567\" y=\"-379.8\" font-family=\"Times,serif\" font-size=\"14.00\" fill=\"#000000\">samples = 1600</text>\n",
       "<text text-anchor=\"middle\" x=\"567\" y=\"-364.8\" font-family=\"Times,serif\" font-size=\"14.00\" fill=\"#000000\">value = [[1431, 169]</text>\n",
       "<text text-anchor=\"middle\" x=\"567\" y=\"-349.8\" font-family=\"Times,serif\" font-size=\"14.00\" fill=\"#000000\">[169, 1431]]</text>\n",
       "</g>\n",
       "<!-- 1 -->\n",
       "<g id=\"node2\" class=\"node\">\n",
       "<title>1</title>\n",
       "<polygon fill=\"#f7dac5\" stroke=\"#000000\" points=\"545,-306 321,-306 321,-223 545,-223 545,-306\"/>\n",
       "<text text-anchor=\"middle\" x=\"433\" y=\"-290.8\" font-family=\"Times,serif\" font-size=\"14.00\" fill=\"#000000\">MC_4DIELEC_1FIRE_3호기 &lt;= 0.5</text>\n",
       "<text text-anchor=\"middle\" x=\"433\" y=\"-275.8\" font-family=\"Times,serif\" font-size=\"14.00\" fill=\"#000000\">gini = 0.208</text>\n",
       "<text text-anchor=\"middle\" x=\"433\" y=\"-260.8\" font-family=\"Times,serif\" font-size=\"14.00\" fill=\"#000000\">samples = 1144</text>\n",
       "<text text-anchor=\"middle\" x=\"433\" y=\"-245.8\" font-family=\"Times,serif\" font-size=\"14.00\" fill=\"#000000\">value = [[1009, 135]</text>\n",
       "<text text-anchor=\"middle\" x=\"433\" y=\"-230.8\" font-family=\"Times,serif\" font-size=\"14.00\" fill=\"#000000\">[135, 1009]]</text>\n",
       "</g>\n",
       "<!-- 0&#45;&gt;1 -->\n",
       "<g id=\"edge1\" class=\"edge\">\n",
       "<title>0&#45;&gt;1</title>\n",
       "<path fill=\"none\" stroke=\"#000000\" d=\"M520.1333,-341.8796C509.6875,-332.6031 498.5219,-322.6874 487.789,-313.1559\"/>\n",
       "<polygon fill=\"#000000\" stroke=\"#000000\" points=\"489.868,-310.3213 480.0667,-306.2981 485.2199,-315.5553 489.868,-310.3213\"/>\n",
       "<text text-anchor=\"middle\" x=\"481.5464\" y=\"-327.5542\" font-family=\"Times,serif\" font-size=\"14.00\" fill=\"#000000\">True</text>\n",
       "</g>\n",
       "<!-- 8 -->\n",
       "<g id=\"node9\" class=\"node\">\n",
       "<title>8</title>\n",
       "<polygon fill=\"#edaa79\" stroke=\"#000000\" points=\"839,-306 563,-306 563,-223 839,-223 839,-306\"/>\n",
       "<text text-anchor=\"middle\" x=\"701\" y=\"-290.8\" font-family=\"Times,serif\" font-size=\"14.00\" fill=\"#000000\">MC_6PHOS_3B_1DISPENSER_1호기 &lt;= 0.5</text>\n",
       "<text text-anchor=\"middle\" x=\"701\" y=\"-275.8\" font-family=\"Times,serif\" font-size=\"14.00\" fill=\"#000000\">gini = 0.138</text>\n",
       "<text text-anchor=\"middle\" x=\"701\" y=\"-260.8\" font-family=\"Times,serif\" font-size=\"14.00\" fill=\"#000000\">samples = 456</text>\n",
       "<text text-anchor=\"middle\" x=\"701\" y=\"-245.8\" font-family=\"Times,serif\" font-size=\"14.00\" fill=\"#000000\">value = [[422, 34]</text>\n",
       "<text text-anchor=\"middle\" x=\"701\" y=\"-230.8\" font-family=\"Times,serif\" font-size=\"14.00\" fill=\"#000000\">[34, 422]]</text>\n",
       "</g>\n",
       "<!-- 0&#45;&gt;8 -->\n",
       "<g id=\"edge8\" class=\"edge\">\n",
       "<title>0&#45;&gt;8</title>\n",
       "<path fill=\"none\" stroke=\"#000000\" d=\"M613.8667,-341.8796C624.3125,-332.6031 635.4781,-322.6874 646.211,-313.1559\"/>\n",
       "<polygon fill=\"#000000\" stroke=\"#000000\" points=\"648.7801,-315.5553 653.9333,-306.2981 644.132,-310.3213 648.7801,-315.5553\"/>\n",
       "<text text-anchor=\"middle\" x=\"652.4536\" y=\"-327.5542\" font-family=\"Times,serif\" font-size=\"14.00\" fill=\"#000000\">False</text>\n",
       "</g>\n",
       "<!-- 2 -->\n",
       "<g id=\"node3\" class=\"node\">\n",
       "<title>2</title>\n",
       "<polygon fill=\"#fbebe0\" stroke=\"#000000\" points=\"315,-187 39,-187 39,-104 315,-104 315,-187\"/>\n",
       "<text text-anchor=\"middle\" x=\"177\" y=\"-171.8\" font-family=\"Times,serif\" font-size=\"14.00\" fill=\"#000000\">MC_6PHOS_1R_1DISPENSER_1호기 &lt;= 0.5</text>\n",
       "<text text-anchor=\"middle\" x=\"177\" y=\"-156.8\" font-family=\"Times,serif\" font-size=\"14.00\" fill=\"#000000\">gini = 0.233</text>\n",
       "<text text-anchor=\"middle\" x=\"177\" y=\"-141.8\" font-family=\"Times,serif\" font-size=\"14.00\" fill=\"#000000\">samples = 729</text>\n",
       "<text text-anchor=\"middle\" x=\"177\" y=\"-126.8\" font-family=\"Times,serif\" font-size=\"14.00\" fill=\"#000000\">value = [[631, 98]</text>\n",
       "<text text-anchor=\"middle\" x=\"177\" y=\"-111.8\" font-family=\"Times,serif\" font-size=\"14.00\" fill=\"#000000\">[98, 631]]</text>\n",
       "</g>\n",
       "<!-- 1&#45;&gt;2 -->\n",
       "<g id=\"edge2\" class=\"edge\">\n",
       "<title>1&#45;&gt;2</title>\n",
       "<path fill=\"none\" stroke=\"#000000\" d=\"M343.4636,-222.8796C321.5401,-212.6886 297.957,-201.7261 275.6335,-191.3492\"/>\n",
       "<polygon fill=\"#000000\" stroke=\"#000000\" points=\"277.0294,-188.1384 266.4858,-187.0969 274.0786,-194.4861 277.0294,-188.1384\"/>\n",
       "</g>\n",
       "<!-- 5 -->\n",
       "<g id=\"node6\" class=\"node\">\n",
       "<title>5</title>\n",
       "<polygon fill=\"#f1bb93\" stroke=\"#000000\" points=\"553,-187 333,-187 333,-104 553,-104 553,-187\"/>\n",
       "<text text-anchor=\"middle\" x=\"443\" y=\"-171.8\" font-family=\"Times,serif\" font-size=\"14.00\" fill=\"#000000\">MC_1BLACK_2RTD_2호기 &lt;= 0.5</text>\n",
       "<text text-anchor=\"middle\" x=\"443\" y=\"-156.8\" font-family=\"Times,serif\" font-size=\"14.00\" fill=\"#000000\">gini = 0.162</text>\n",
       "<text text-anchor=\"middle\" x=\"443\" y=\"-141.8\" font-family=\"Times,serif\" font-size=\"14.00\" fill=\"#000000\">samples = 415</text>\n",
       "<text text-anchor=\"middle\" x=\"443\" y=\"-126.8\" font-family=\"Times,serif\" font-size=\"14.00\" fill=\"#000000\">value = [[378, 37]</text>\n",
       "<text text-anchor=\"middle\" x=\"443\" y=\"-111.8\" font-family=\"Times,serif\" font-size=\"14.00\" fill=\"#000000\">[37, 378]]</text>\n",
       "</g>\n",
       "<!-- 1&#45;&gt;5 -->\n",
       "<g id=\"edge5\" class=\"edge\">\n",
       "<title>1&#45;&gt;5</title>\n",
       "<path fill=\"none\" stroke=\"#000000\" d=\"M436.4975,-222.8796C437.1862,-214.6838 437.9169,-205.9891 438.6301,-197.5013\"/>\n",
       "<polygon fill=\"#000000\" stroke=\"#000000\" points=\"442.1378,-197.5561 439.4876,-187.2981 435.1624,-196.9698 442.1378,-197.5561\"/>\n",
       "</g>\n",
       "<!-- 3 -->\n",
       "<g id=\"node4\" class=\"node\">\n",
       "<title>3</title>\n",
       "<polygon fill=\"#f6d5be\" stroke=\"#000000\" points=\"116,-68 0,-68 0,0 116,0 116,-68\"/>\n",
       "<text text-anchor=\"middle\" x=\"58\" y=\"-52.8\" font-family=\"Times,serif\" font-size=\"14.00\" fill=\"#000000\">gini = 0.201</text>\n",
       "<text text-anchor=\"middle\" x=\"58\" y=\"-37.8\" font-family=\"Times,serif\" font-size=\"14.00\" fill=\"#000000\">samples = 361</text>\n",
       "<text text-anchor=\"middle\" x=\"58\" y=\"-22.8\" font-family=\"Times,serif\" font-size=\"14.00\" fill=\"#000000\">value = [[320, 41]</text>\n",
       "<text text-anchor=\"middle\" x=\"58\" y=\"-7.8\" font-family=\"Times,serif\" font-size=\"14.00\" fill=\"#000000\">[41, 320]]</text>\n",
       "</g>\n",
       "<!-- 2&#45;&gt;3 -->\n",
       "<g id=\"edge3\" class=\"edge\">\n",
       "<title>2&#45;&gt;3</title>\n",
       "<path fill=\"none\" stroke=\"#000000\" d=\"M132.6888,-103.9815C122.6837,-94.607 112.0646,-84.6572 102.0696,-75.2921\"/>\n",
       "<polygon fill=\"#000000\" stroke=\"#000000\" points=\"104.2588,-72.547 94.5684,-68.2637 99.4726,-77.6551 104.2588,-72.547\"/>\n",
       "</g>\n",
       "<!-- 4 -->\n",
       "<g id=\"node5\" class=\"node\">\n",
       "<title>4</title>\n",
       "<polygon fill=\"#ffffff\" stroke=\"#000000\" points=\"250,-68 134,-68 134,0 250,0 250,-68\"/>\n",
       "<text text-anchor=\"middle\" x=\"192\" y=\"-52.8\" font-family=\"Times,serif\" font-size=\"14.00\" fill=\"#000000\">gini = 0.262</text>\n",
       "<text text-anchor=\"middle\" x=\"192\" y=\"-37.8\" font-family=\"Times,serif\" font-size=\"14.00\" fill=\"#000000\">samples = 368</text>\n",
       "<text text-anchor=\"middle\" x=\"192\" y=\"-22.8\" font-family=\"Times,serif\" font-size=\"14.00\" fill=\"#000000\">value = [[311, 57]</text>\n",
       "<text text-anchor=\"middle\" x=\"192\" y=\"-7.8\" font-family=\"Times,serif\" font-size=\"14.00\" fill=\"#000000\">[57, 311]]</text>\n",
       "</g>\n",
       "<!-- 2&#45;&gt;4 -->\n",
       "<g id=\"edge4\" class=\"edge\">\n",
       "<title>2&#45;&gt;4</title>\n",
       "<path fill=\"none\" stroke=\"#000000\" d=\"M182.5854,-103.9815C183.7106,-95.618 184.8973,-86.7965 186.0349,-78.3409\"/>\n",
       "<polygon fill=\"#000000\" stroke=\"#000000\" points=\"189.5259,-78.6411 187.3905,-68.2637 182.5884,-77.7077 189.5259,-78.6411\"/>\n",
       "</g>\n",
       "<!-- 6 -->\n",
       "<g id=\"node7\" class=\"node\">\n",
       "<title>6</title>\n",
       "<polygon fill=\"#ea995e\" stroke=\"#000000\" points=\"425,-68 309,-68 309,0 425,0 425,-68\"/>\n",
       "<text text-anchor=\"middle\" x=\"367\" y=\"-52.8\" font-family=\"Times,serif\" font-size=\"14.00\" fill=\"#000000\">gini = 0.113</text>\n",
       "<text text-anchor=\"middle\" x=\"367\" y=\"-37.8\" font-family=\"Times,serif\" font-size=\"14.00\" fill=\"#000000\">samples = 199</text>\n",
       "<text text-anchor=\"middle\" x=\"367\" y=\"-22.8\" font-family=\"Times,serif\" font-size=\"14.00\" fill=\"#000000\">value = [[187, 12]</text>\n",
       "<text text-anchor=\"middle\" x=\"367\" y=\"-7.8\" font-family=\"Times,serif\" font-size=\"14.00\" fill=\"#000000\">[12, 187]]</text>\n",
       "</g>\n",
       "<!-- 5&#45;&gt;6 -->\n",
       "<g id=\"edge6\" class=\"edge\">\n",
       "<title>5&#45;&gt;6</title>\n",
       "<path fill=\"none\" stroke=\"#000000\" d=\"M414.7004,-103.9815C408.6238,-95.0666 402.1926,-85.6313 396.0868,-76.6734\"/>\n",
       "<polygon fill=\"#000000\" stroke=\"#000000\" points=\"398.8789,-74.5555 390.3546,-68.2637 393.0948,-78.498 398.8789,-74.5555\"/>\n",
       "</g>\n",
       "<!-- 7 -->\n",
       "<g id=\"node8\" class=\"node\">\n",
       "<title>7</title>\n",
       "<polygon fill=\"#f7d8c1\" stroke=\"#000000\" points=\"559,-68 443,-68 443,0 559,0 559,-68\"/>\n",
       "<text text-anchor=\"middle\" x=\"501\" y=\"-52.8\" font-family=\"Times,serif\" font-size=\"14.00\" fill=\"#000000\">gini = 0.205</text>\n",
       "<text text-anchor=\"middle\" x=\"501\" y=\"-37.8\" font-family=\"Times,serif\" font-size=\"14.00\" fill=\"#000000\">samples = 216</text>\n",
       "<text text-anchor=\"middle\" x=\"501\" y=\"-22.8\" font-family=\"Times,serif\" font-size=\"14.00\" fill=\"#000000\">value = [[191, 25]</text>\n",
       "<text text-anchor=\"middle\" x=\"501\" y=\"-7.8\" font-family=\"Times,serif\" font-size=\"14.00\" fill=\"#000000\">[25, 191]]</text>\n",
       "</g>\n",
       "<!-- 5&#45;&gt;7 -->\n",
       "<g id=\"edge7\" class=\"edge\">\n",
       "<title>5&#45;&gt;7</title>\n",
       "<path fill=\"none\" stroke=\"#000000\" d=\"M464.5971,-103.9815C469.1388,-95.2504 473.9402,-86.0202 478.5137,-77.2281\"/>\n",
       "<polygon fill=\"#000000\" stroke=\"#000000\" points=\"481.6669,-78.7504 483.1767,-68.2637 475.4569,-75.52 481.6669,-78.7504\"/>\n",
       "</g>\n",
       "<!-- 9 -->\n",
       "<g id=\"node10\" class=\"node\">\n",
       "<title>9</title>\n",
       "<polygon fill=\"#f2be9a\" stroke=\"#000000\" points=\"793.5,-187 590.5,-187 590.5,-104 793.5,-104 793.5,-187\"/>\n",
       "<text text-anchor=\"middle\" x=\"692\" y=\"-171.8\" font-family=\"Times,serif\" font-size=\"14.00\" fill=\"#000000\">MC_3BUS_2FIRE_1호기 &lt;= 0.5</text>\n",
       "<text text-anchor=\"middle\" x=\"692\" y=\"-156.8\" font-family=\"Times,serif\" font-size=\"14.00\" fill=\"#000000\">gini = 0.168</text>\n",
       "<text text-anchor=\"middle\" x=\"692\" y=\"-141.8\" font-family=\"Times,serif\" font-size=\"14.00\" fill=\"#000000\">samples = 216</text>\n",
       "<text text-anchor=\"middle\" x=\"692\" y=\"-126.8\" font-family=\"Times,serif\" font-size=\"14.00\" fill=\"#000000\">value = [[196, 20]</text>\n",
       "<text text-anchor=\"middle\" x=\"692\" y=\"-111.8\" font-family=\"Times,serif\" font-size=\"14.00\" fill=\"#000000\">[20, 196]]</text>\n",
       "</g>\n",
       "<!-- 8&#45;&gt;9 -->\n",
       "<g id=\"edge9\" class=\"edge\">\n",
       "<title>8&#45;&gt;9</title>\n",
       "<path fill=\"none\" stroke=\"#000000\" d=\"M697.8522,-222.8796C697.2324,-214.6838 696.5748,-205.9891 695.9329,-197.5013\"/>\n",
       "<polygon fill=\"#000000\" stroke=\"#000000\" points=\"699.4055,-197.0056 695.1612,-187.2981 692.4254,-197.5336 699.4055,-197.0056\"/>\n",
       "</g>\n",
       "<!-- 12 -->\n",
       "<g id=\"node13\" class=\"node\">\n",
       "<title>12</title>\n",
       "<polygon fill=\"#e9965b\" stroke=\"#000000\" points=\"1048,-187 812,-187 812,-104 1048,-104 1048,-187\"/>\n",
       "<text text-anchor=\"middle\" x=\"930\" y=\"-171.8\" font-family=\"Times,serif\" font-size=\"14.00\" fill=\"#000000\">MC_2AG_3EXPOSURE_2호기 &lt;= 0.5</text>\n",
       "<text text-anchor=\"middle\" x=\"930\" y=\"-156.8\" font-family=\"Times,serif\" font-size=\"14.00\" fill=\"#000000\">gini = 0.11</text>\n",
       "<text text-anchor=\"middle\" x=\"930\" y=\"-141.8\" font-family=\"Times,serif\" font-size=\"14.00\" fill=\"#000000\">samples = 240</text>\n",
       "<text text-anchor=\"middle\" x=\"930\" y=\"-126.8\" font-family=\"Times,serif\" font-size=\"14.00\" fill=\"#000000\">value = [[226, 14]</text>\n",
       "<text text-anchor=\"middle\" x=\"930\" y=\"-111.8\" font-family=\"Times,serif\" font-size=\"14.00\" fill=\"#000000\">[14, 226]]</text>\n",
       "</g>\n",
       "<!-- 8&#45;&gt;12 -->\n",
       "<g id=\"edge12\" class=\"edge\">\n",
       "<title>8&#45;&gt;12</title>\n",
       "<path fill=\"none\" stroke=\"#000000\" d=\"M781.0931,-222.8796C800.4429,-212.8244 821.2379,-202.0183 840.9699,-191.7645\"/>\n",
       "<polygon fill=\"#000000\" stroke=\"#000000\" points=\"842.6926,-194.8138 849.9521,-187.0969 839.4648,-188.6024 842.6926,-194.8138\"/>\n",
       "</g>\n",
       "<!-- 10 -->\n",
       "<g id=\"node11\" class=\"node\">\n",
       "<title>10</title>\n",
       "<polygon fill=\"#f8dbc6\" stroke=\"#000000\" points=\"714,-68 598,-68 598,0 714,0 714,-68\"/>\n",
       "<text text-anchor=\"middle\" x=\"656\" y=\"-52.8\" font-family=\"Times,serif\" font-size=\"14.00\" fill=\"#000000\">gini = 0.209</text>\n",
       "<text text-anchor=\"middle\" x=\"656\" y=\"-37.8\" font-family=\"Times,serif\" font-size=\"14.00\" fill=\"#000000\">samples = 118</text>\n",
       "<text text-anchor=\"middle\" x=\"656\" y=\"-22.8\" font-family=\"Times,serif\" font-size=\"14.00\" fill=\"#000000\">value = [[104, 14]</text>\n",
       "<text text-anchor=\"middle\" x=\"656\" y=\"-7.8\" font-family=\"Times,serif\" font-size=\"14.00\" fill=\"#000000\">[14, 104]]</text>\n",
       "</g>\n",
       "<!-- 9&#45;&gt;10 -->\n",
       "<g id=\"edge10\" class=\"edge\">\n",
       "<title>9&#45;&gt;10</title>\n",
       "<path fill=\"none\" stroke=\"#000000\" d=\"M678.5949,-103.9815C675.8353,-95.4342 672.9212,-86.4086 670.1365,-77.7839\"/>\n",
       "<polygon fill=\"#000000\" stroke=\"#000000\" points=\"673.466,-76.7046 667.0627,-68.2637 666.8046,-78.8554 673.466,-76.7046\"/>\n",
       "</g>\n",
       "<!-- 11 -->\n",
       "<g id=\"node12\" class=\"node\">\n",
       "<title>11</title>\n",
       "<polygon fill=\"#ea9a60\" stroke=\"#000000\" points=\"835.5,-68 732.5,-68 732.5,0 835.5,0 835.5,-68\"/>\n",
       "<text text-anchor=\"middle\" x=\"784\" y=\"-52.8\" font-family=\"Times,serif\" font-size=\"14.00\" fill=\"#000000\">gini = 0.115</text>\n",
       "<text text-anchor=\"middle\" x=\"784\" y=\"-37.8\" font-family=\"Times,serif\" font-size=\"14.00\" fill=\"#000000\">samples = 98</text>\n",
       "<text text-anchor=\"middle\" x=\"784\" y=\"-22.8\" font-family=\"Times,serif\" font-size=\"14.00\" fill=\"#000000\">value = [[92, 6]</text>\n",
       "<text text-anchor=\"middle\" x=\"784\" y=\"-7.8\" font-family=\"Times,serif\" font-size=\"14.00\" fill=\"#000000\">[6, 92]]</text>\n",
       "</g>\n",
       "<!-- 9&#45;&gt;11 -->\n",
       "<g id=\"edge11\" class=\"edge\">\n",
       "<title>9&#45;&gt;11</title>\n",
       "<path fill=\"none\" stroke=\"#000000\" d=\"M726.2574,-103.9815C733.7649,-94.8828 741.7196,-85.242 749.2464,-76.1199\"/>\n",
       "<polygon fill=\"#000000\" stroke=\"#000000\" points=\"752.0639,-78.2045 755.7286,-68.2637 746.6646,-73.7495 752.0639,-78.2045\"/>\n",
       "</g>\n",
       "<!-- 13 -->\n",
       "<g id=\"node14\" class=\"node\">\n",
       "<title>13</title>\n",
       "<polygon fill=\"#f0b68c\" stroke=\"#000000\" points=\"966.5,-68 863.5,-68 863.5,0 966.5,0 966.5,-68\"/>\n",
       "<text text-anchor=\"middle\" x=\"915\" y=\"-52.8\" font-family=\"Times,serif\" font-size=\"14.00\" fill=\"#000000\">gini = 0.156</text>\n",
       "<text text-anchor=\"middle\" x=\"915\" y=\"-37.8\" font-family=\"Times,serif\" font-size=\"14.00\" fill=\"#000000\">samples = 94</text>\n",
       "<text text-anchor=\"middle\" x=\"915\" y=\"-22.8\" font-family=\"Times,serif\" font-size=\"14.00\" fill=\"#000000\">value = [[86, 8]</text>\n",
       "<text text-anchor=\"middle\" x=\"915\" y=\"-7.8\" font-family=\"Times,serif\" font-size=\"14.00\" fill=\"#000000\">[8, 86]]</text>\n",
       "</g>\n",
       "<!-- 12&#45;&gt;13 -->\n",
       "<g id=\"edge13\" class=\"edge\">\n",
       "<title>12&#45;&gt;13</title>\n",
       "<path fill=\"none\" stroke=\"#000000\" d=\"M924.4146,-103.9815C923.2894,-95.618 922.1027,-86.7965 920.9651,-78.3409\"/>\n",
       "<polygon fill=\"#000000\" stroke=\"#000000\" points=\"924.4116,-77.7077 919.6095,-68.2637 917.4741,-78.6411 924.4116,-77.7077\"/>\n",
       "</g>\n",
       "<!-- 14 -->\n",
       "<g id=\"node15\" class=\"node\">\n",
       "<title>14</title>\n",
       "<polygon fill=\"#e58139\" stroke=\"#000000\" points=\"1095,-68 985,-68 985,0 1095,0 1095,-68\"/>\n",
       "<text text-anchor=\"middle\" x=\"1040\" y=\"-52.8\" font-family=\"Times,serif\" font-size=\"14.00\" fill=\"#000000\">gini = 0.079</text>\n",
       "<text text-anchor=\"middle\" x=\"1040\" y=\"-37.8\" font-family=\"Times,serif\" font-size=\"14.00\" fill=\"#000000\">samples = 146</text>\n",
       "<text text-anchor=\"middle\" x=\"1040\" y=\"-22.8\" font-family=\"Times,serif\" font-size=\"14.00\" fill=\"#000000\">value = [[140, 6]</text>\n",
       "<text text-anchor=\"middle\" x=\"1040\" y=\"-7.8\" font-family=\"Times,serif\" font-size=\"14.00\" fill=\"#000000\">[6, 140]]</text>\n",
       "</g>\n",
       "<!-- 12&#45;&gt;14 -->\n",
       "<g id=\"edge14\" class=\"edge\">\n",
       "<title>12&#45;&gt;14</title>\n",
       "<path fill=\"none\" stroke=\"#000000\" d=\"M970.9599,-103.9815C980.1176,-94.6989 989.8319,-84.8522 998.9915,-75.5677\"/>\n",
       "<polygon fill=\"#000000\" stroke=\"#000000\" points=\"1001.6658,-77.8406 1006.1973,-68.2637 996.6826,-72.9244 1001.6658,-77.8406\"/>\n",
       "</g>\n",
       "</g>\n",
       "</svg>\n"
      ],
      "text/plain": [
       "<graphviz.files.Source at 0x7fdedcc2ddc0>"
      ]
     },
     "metadata": {},
     "output_type": "display_data"
    }
   ],
   "source": [
    "#깊이가 3인 모델\n",
    "tree_low = DTC(random_state = 1234, max_depth = 3)\n",
    "tree_low.fit(df_train_x,df_train_y)\n",
    "export_graphviz(tree_low, out_file = \"tree_low.dot\", class_names = [\"good\", \"bad\"],\n",
    "                feature_names = v_feature_name, impurity = True, filled= True)\n",
    "with open(\"tree_low.dot\") as f:\n",
    "    dot_graph = f.read()\n",
    "display(graphviz.Source(dot_graph))"
   ]
  },
  {
   "cell_type": "code",
   "execution_count": 86,
   "metadata": {},
   "outputs": [
    {
     "data": {
      "text/html": [
       "<div>\n",
       "<style scoped>\n",
       "    .dataframe tbody tr th:only-of-type {\n",
       "        vertical-align: middle;\n",
       "    }\n",
       "\n",
       "    .dataframe tbody tr th {\n",
       "        vertical-align: top;\n",
       "    }\n",
       "\n",
       "    .dataframe thead th {\n",
       "        text-align: right;\n",
       "    }\n",
       "</style>\n",
       "<table border=\"1\" class=\"dataframe\">\n",
       "  <thead>\n",
       "    <tr style=\"text-align: right;\">\n",
       "      <th></th>\n",
       "      <th>MinSamplesLeaf</th>\n",
       "      <th>TrainScore</th>\n",
       "      <th>TestScore</th>\n",
       "    </tr>\n",
       "  </thead>\n",
       "  <tbody>\n",
       "    <tr>\n",
       "      <th>0</th>\n",
       "      <td>2</td>\n",
       "      <td>0.894</td>\n",
       "      <td>0.886</td>\n",
       "    </tr>\n",
       "    <tr>\n",
       "      <th>1</th>\n",
       "      <td>4</td>\n",
       "      <td>0.894</td>\n",
       "      <td>0.886</td>\n",
       "    </tr>\n",
       "    <tr>\n",
       "      <th>2</th>\n",
       "      <td>6</td>\n",
       "      <td>0.894</td>\n",
       "      <td>0.886</td>\n",
       "    </tr>\n",
       "    <tr>\n",
       "      <th>3</th>\n",
       "      <td>8</td>\n",
       "      <td>0.894</td>\n",
       "      <td>0.886</td>\n",
       "    </tr>\n",
       "    <tr>\n",
       "      <th>4</th>\n",
       "      <td>10</td>\n",
       "      <td>0.894</td>\n",
       "      <td>0.886</td>\n",
       "    </tr>\n",
       "    <tr>\n",
       "      <th>5</th>\n",
       "      <td>12</td>\n",
       "      <td>0.894</td>\n",
       "      <td>0.886</td>\n",
       "    </tr>\n",
       "    <tr>\n",
       "      <th>6</th>\n",
       "      <td>14</td>\n",
       "      <td>0.894</td>\n",
       "      <td>0.886</td>\n",
       "    </tr>\n",
       "    <tr>\n",
       "      <th>7</th>\n",
       "      <td>16</td>\n",
       "      <td>0.894</td>\n",
       "      <td>0.886</td>\n",
       "    </tr>\n",
       "    <tr>\n",
       "      <th>8</th>\n",
       "      <td>18</td>\n",
       "      <td>0.894</td>\n",
       "      <td>0.886</td>\n",
       "    </tr>\n",
       "  </tbody>\n",
       "</table>\n",
       "</div>"
      ],
      "text/plain": [
       "   MinSamplesLeaf  TrainScore  TestScore\n",
       "0               2       0.894      0.886\n",
       "1               4       0.894      0.886\n",
       "2               6       0.894      0.886\n",
       "3               8       0.894      0.886\n",
       "4              10       0.894      0.886\n",
       "5              12       0.894      0.886\n",
       "6              14       0.894      0.886\n",
       "7              16       0.894      0.886\n",
       "8              18       0.894      0.886"
      ]
     },
     "execution_count": 86,
     "metadata": {},
     "output_type": "execute_result"
    }
   ],
   "source": [
    "train_accuracy = []\n",
    "test_accuracy =[]\n",
    "para_split = [n_split * 2 for n_split in range(1,10)]\n",
    "#para_split = [n_split * 5 for n_split in range(1,11)]\n",
    "#para_split = [n_split * 10 for n_split in range(1,11)]\n",
    "for v_min_samples_split in para_split:\n",
    "    tree = DTC(random_state = 1234, max_depth = 1,\n",
    "                                min_samples_split = v_min_samples_split)\n",
    "    tree.fit(df_train_x, df_train_y)\n",
    "    train_accuracy.append(tree.score(df_train_x,df_train_y))\n",
    "    test_accuracy.append(tree.score(df_val_x,df_val_y))\n",
    "\n",
    "df_accuracy_split = pd.DataFrame()\n",
    "df_accuracy_split[\"MinSamplesLeaf\"] = para_split\n",
    "df_accuracy_split[\"TrainScore\"] = train_accuracy\n",
    "df_accuracy_split[\"TestScore\"] = test_accuracy\n",
    "df_accuracy_split.round(3)"
   ]
  },
  {
   "cell_type": "code",
   "execution_count": 87,
   "metadata": {},
   "outputs": [
    {
     "data": {
      "text/plain": [
       "<matplotlib.legend.Legend at 0x7fdee1b5b400>"
      ]
     },
     "execution_count": 87,
     "metadata": {},
     "output_type": "execute_result"
    },
    {
     "data": {
      "image/png": "[encoded data removed]",
      "text/plain": [
       "<Figure size 432x288 with 1 Axes>"
      ]
     },
     "metadata": {
      "needs_background": "light"
     },
     "output_type": "display_data"
    }
   ],
   "source": [
    "plt.plot(para_split, train_accuracy, linestyle =\"-\", label = \"Train Accuracy\")\n",
    "plt.plot(para_split, test_accuracy, linestyle =\"--\", label = \"Test Accuracy\")\n",
    "plt.legend()"
   ]
  },
  {
   "cell_type": "code",
   "execution_count": 88,
   "metadata": {},
   "outputs": [
    {
     "data": {
      "text/html": [
       "<div>\n",
       "<style scoped>\n",
       "    .dataframe tbody tr th:only-of-type {\n",
       "        vertical-align: middle;\n",
       "    }\n",
       "\n",
       "    .dataframe tbody tr th {\n",
       "        vertical-align: top;\n",
       "    }\n",
       "\n",
       "    .dataframe thead th {\n",
       "        text-align: right;\n",
       "    }\n",
       "</style>\n",
       "<table border=\"1\" class=\"dataframe\">\n",
       "  <thead>\n",
       "    <tr style=\"text-align: right;\">\n",
       "      <th></th>\n",
       "      <th>MinSamplesLeaf</th>\n",
       "      <th>TrainScore</th>\n",
       "      <th>TestScore</th>\n",
       "    </tr>\n",
       "  </thead>\n",
       "  <tbody>\n",
       "    <tr>\n",
       "      <th>0</th>\n",
       "      <td>2</td>\n",
       "      <td>0.894</td>\n",
       "      <td>0.886</td>\n",
       "    </tr>\n",
       "    <tr>\n",
       "      <th>1</th>\n",
       "      <td>4</td>\n",
       "      <td>0.894</td>\n",
       "      <td>0.886</td>\n",
       "    </tr>\n",
       "    <tr>\n",
       "      <th>2</th>\n",
       "      <td>6</td>\n",
       "      <td>0.894</td>\n",
       "      <td>0.886</td>\n",
       "    </tr>\n",
       "    <tr>\n",
       "      <th>3</th>\n",
       "      <td>8</td>\n",
       "      <td>0.894</td>\n",
       "      <td>0.886</td>\n",
       "    </tr>\n",
       "    <tr>\n",
       "      <th>4</th>\n",
       "      <td>10</td>\n",
       "      <td>0.894</td>\n",
       "      <td>0.886</td>\n",
       "    </tr>\n",
       "    <tr>\n",
       "      <th>5</th>\n",
       "      <td>12</td>\n",
       "      <td>0.894</td>\n",
       "      <td>0.886</td>\n",
       "    </tr>\n",
       "    <tr>\n",
       "      <th>6</th>\n",
       "      <td>14</td>\n",
       "      <td>0.894</td>\n",
       "      <td>0.886</td>\n",
       "    </tr>\n",
       "    <tr>\n",
       "      <th>7</th>\n",
       "      <td>16</td>\n",
       "      <td>0.894</td>\n",
       "      <td>0.886</td>\n",
       "    </tr>\n",
       "    <tr>\n",
       "      <th>8</th>\n",
       "      <td>18</td>\n",
       "      <td>0.894</td>\n",
       "      <td>0.886</td>\n",
       "    </tr>\n",
       "    <tr>\n",
       "      <th>9</th>\n",
       "      <td>20</td>\n",
       "      <td>0.894</td>\n",
       "      <td>0.886</td>\n",
       "    </tr>\n",
       "  </tbody>\n",
       "</table>\n",
       "</div>"
      ],
      "text/plain": [
       "   MinSamplesLeaf  TrainScore  TestScore\n",
       "0               2       0.894      0.886\n",
       "1               4       0.894      0.886\n",
       "2               6       0.894      0.886\n",
       "3               8       0.894      0.886\n",
       "4              10       0.894      0.886\n",
       "5              12       0.894      0.886\n",
       "6              14       0.894      0.886\n",
       "7              16       0.894      0.886\n",
       "8              18       0.894      0.886\n",
       "9              20       0.894      0.886"
      ]
     },
     "execution_count": 88,
     "metadata": {},
     "output_type": "execute_result"
    }
   ],
   "source": [
    "train_accuracy = []\n",
    "test_accuracy =[]\n",
    "\n",
    "para_leaf = [n_leaf * 2 for n_leaf in range(1,11)]\n",
    "\n",
    "for v_min_samples_leaf in para_leaf:\n",
    "    tree = DTC(random_state = 1234, min_samples_leaf = v_min_samples_leaf, max_depth=1)\n",
    "    tree.fit(df_train_x, df_train_y)\n",
    "    train_accuracy.append(tree.score(df_train_x,df_train_y))\n",
    "    test_accuracy.append(tree.score(df_val_x,df_val_y))\n",
    "\n",
    "df_score_leaf = pd.DataFrame()\n",
    "df_score_leaf[\"MinSamplesLeaf\"] = para_leaf\n",
    "df_score_leaf[\"TrainScore\"] = train_accuracy\n",
    "df_score_leaf[\"TestScore\"] = test_accuracy\n",
    "df_score_leaf.round(3)"
   ]
  },
  {
   "cell_type": "code",
   "execution_count": 89,
   "metadata": {},
   "outputs": [
    {
     "data": {
      "text/plain": [
       "<matplotlib.legend.Legend at 0x7fdedcb99040>"
      ]
     },
     "execution_count": 89,
     "metadata": {},
     "output_type": "execute_result"
    },
    {
     "data": {
      "image/png": "[encoded data removed]",
      "text/plain": [
       "<Figure size 432x288 with 1 Axes>"
      ]
     },
     "metadata": {
      "needs_background": "light"
     },
     "output_type": "display_data"
    }
   ],
   "source": [
    "plt.plot(para_leaf, train_accuracy, linestyle =\"-\", label = \"Train Accuracy\")\n",
    "plt.plot(para_leaf, test_accuracy, linestyle =\"--\", label = \"Test Accuracy\")\n",
    "plt.legend()"
   ]
  },
  {
   "cell_type": "code",
   "execution_count": 90,
   "metadata": {},
   "outputs": [
    {
     "data": {
      "text/plain": [
       "DecisionTreeClassifier(max_depth=4, random_state=1234)"
      ]
     },
     "execution_count": 90,
     "metadata": {},
     "output_type": "execute_result"
    }
   ],
   "source": [
    "#최종모델\n",
    "tree_final = DTC(random_state = 1234, max_depth = 4)\n",
    "tree_final.fit(df_train_x,df_train_y)"
   ]
  },
  {
   "cell_type": "code",
   "execution_count": 91,
   "metadata": {},
   "outputs": [
    {
     "data": {
      "image/svg+xml": [
       "<?xml version=\"1.0\" encoding=\"UTF-8\" standalone=\"no\"?>\n",
       "<!DOCTYPE svg PUBLIC \"-//W3C//DTD SVG 1.1//EN\"\n",
       " \"http://www.w3.org/Graphics/SVG/1.1/DTD/svg11.dtd\">\n",
       "<!-- Generated by graphviz version 2.40.1 (20161225.0304)\n",
       " -->\n",
       "<!-- Title: Tree Pages: 1 -->\n",
       "<svg width=\"2080pt\" height=\"552pt\"\n",
       " viewBox=\"0.00 0.00 2079.50 552.00\" xmlns=\"http://www.w3.org/2000/svg\" xmlns:xlink=\"http://www.w3.org/1999/xlink\">\n",
       "<g id=\"graph0\" class=\"graph\" transform=\"scale(1 1) rotate(0) translate(4 548)\">\n",
       "<title>Tree</title>\n",
       "<polygon fill=\"#ffffff\" stroke=\"transparent\" points=\"-4,4 -4,-548 2075.5,-548 2075.5,4 -4,4\"/>\n",
       "<!-- 0 -->\n",
       "<g id=\"node1\" class=\"node\">\n",
       "<title>0</title>\n",
       "<polygon fill=\"#f5cdb1\" stroke=\"#000000\" points=\"1121.5,-544 910.5,-544 910.5,-461 1121.5,-461 1121.5,-544\"/>\n",
       "<text text-anchor=\"middle\" x=\"1016\" y=\"-528.8\" font-family=\"Times,serif\" font-size=\"14.00\" fill=\"#000000\">MC_6PHOS_4FIRE_1호기 &lt;= 0.5</text>\n",
       "<text text-anchor=\"middle\" x=\"1016\" y=\"-513.8\" font-family=\"Times,serif\" font-size=\"14.00\" fill=\"#000000\">gini = 0.189</text>\n",
       "<text text-anchor=\"middle\" x=\"1016\" y=\"-498.8\" font-family=\"Times,serif\" font-size=\"14.00\" fill=\"#000000\">samples = 1600</text>\n",
       "<text text-anchor=\"middle\" x=\"1016\" y=\"-483.8\" font-family=\"Times,serif\" font-size=\"14.00\" fill=\"#000000\">value = [[1431, 169]</text>\n",
       "<text text-anchor=\"middle\" x=\"1016\" y=\"-468.8\" font-family=\"Times,serif\" font-size=\"14.00\" fill=\"#000000\">[169, 1431]]</text>\n",
       "</g>\n",
       "<!-- 1 -->\n",
       "<g id=\"node2\" class=\"node\">\n",
       "<title>1</title>\n",
       "<polygon fill=\"#f7d6bf\" stroke=\"#000000\" points=\"905,-425 681,-425 681,-342 905,-342 905,-425\"/>\n",
       "<text text-anchor=\"middle\" x=\"793\" y=\"-409.8\" font-family=\"Times,serif\" font-size=\"14.00\" fill=\"#000000\">MC_4DIELEC_1FIRE_3호기 &lt;= 0.5</text>\n",
       "<text text-anchor=\"middle\" x=\"793\" y=\"-394.8\" font-family=\"Times,serif\" font-size=\"14.00\" fill=\"#000000\">gini = 0.208</text>\n",
       "<text text-anchor=\"middle\" x=\"793\" y=\"-379.8\" font-family=\"Times,serif\" font-size=\"14.00\" fill=\"#000000\">samples = 1144</text>\n",
       "<text text-anchor=\"middle\" x=\"793\" y=\"-364.8\" font-family=\"Times,serif\" font-size=\"14.00\" fill=\"#000000\">value = [[1009, 135]</text>\n",
       "<text text-anchor=\"middle\" x=\"793\" y=\"-349.8\" font-family=\"Times,serif\" font-size=\"14.00\" fill=\"#000000\">[135, 1009]]</text>\n",
       "</g>\n",
       "<!-- 0&#45;&gt;1 -->\n",
       "<g id=\"edge1\" class=\"edge\">\n",
       "<title>0&#45;&gt;1</title>\n",
       "<path fill=\"none\" stroke=\"#000000\" d=\"M938.0054,-460.8796C919.2475,-450.8697 899.0948,-440.1156 879.9572,-429.9031\"/>\n",
       "<polygon fill=\"#000000\" stroke=\"#000000\" points=\"881.4208,-426.7171 870.9505,-425.0969 878.1252,-432.8928 881.4208,-426.7171\"/>\n",
       "<text text-anchor=\"middle\" x=\"878.224\" y=\"-445.3155\" font-family=\"Times,serif\" font-size=\"14.00\" fill=\"#000000\">True</text>\n",
       "</g>\n",
       "<!-- 16 -->\n",
       "<g id=\"node17\" class=\"node\">\n",
       "<title>16</title>\n",
       "<polygon fill=\"#f0b58a\" stroke=\"#000000\" points=\"1423,-425 1147,-425 1147,-342 1423,-342 1423,-425\"/>\n",
       "<text text-anchor=\"middle\" x=\"1285\" y=\"-409.8\" font-family=\"Times,serif\" font-size=\"14.00\" fill=\"#000000\">MC_6PHOS_3B_1DISPENSER_1호기 &lt;= 0.5</text>\n",
       "<text text-anchor=\"middle\" x=\"1285\" y=\"-394.8\" font-family=\"Times,serif\" font-size=\"14.00\" fill=\"#000000\">gini = 0.138</text>\n",
       "<text text-anchor=\"middle\" x=\"1285\" y=\"-379.8\" font-family=\"Times,serif\" font-size=\"14.00\" fill=\"#000000\">samples = 456</text>\n",
       "<text text-anchor=\"middle\" x=\"1285\" y=\"-364.8\" font-family=\"Times,serif\" font-size=\"14.00\" fill=\"#000000\">value = [[422, 34]</text>\n",
       "<text text-anchor=\"middle\" x=\"1285\" y=\"-349.8\" font-family=\"Times,serif\" font-size=\"14.00\" fill=\"#000000\">[34, 422]]</text>\n",
       "</g>\n",
       "<!-- 0&#45;&gt;16 -->\n",
       "<g id=\"edge16\" class=\"edge\">\n",
       "<title>0&#45;&gt;16</title>\n",
       "<path fill=\"none\" stroke=\"#000000\" d=\"M1110.0831,-460.8796C1133.2224,-450.6433 1158.121,-439.6286 1181.6705,-429.2108\"/>\n",
       "<polygon fill=\"#000000\" stroke=\"#000000\" points=\"1183.2408,-432.3434 1190.97,-425.0969 1180.4089,-425.9418 1183.2408,-432.3434\"/>\n",
       "<text text-anchor=\"middle\" x=\"1181.9552\" y=\"-444.715\" font-family=\"Times,serif\" font-size=\"14.00\" fill=\"#000000\">False</text>\n",
       "</g>\n",
       "<!-- 2 -->\n",
       "<g id=\"node3\" class=\"node\">\n",
       "<title>2</title>\n",
       "<polygon fill=\"#f9e2d2\" stroke=\"#000000\" points=\"576,-306 300,-306 300,-223 576,-223 576,-306\"/>\n",
       "<text text-anchor=\"middle\" x=\"438\" y=\"-290.8\" font-family=\"Times,serif\" font-size=\"14.00\" fill=\"#000000\">MC_6PHOS_1R_1DISPENSER_1호기 &lt;= 0.5</text>\n",
       "<text text-anchor=\"middle\" x=\"438\" y=\"-275.8\" font-family=\"Times,serif\" font-size=\"14.00\" fill=\"#000000\">gini = 0.233</text>\n",
       "<text text-anchor=\"middle\" x=\"438\" y=\"-260.8\" font-family=\"Times,serif\" font-size=\"14.00\" fill=\"#000000\">samples = 729</text>\n",
       "<text text-anchor=\"middle\" x=\"438\" y=\"-245.8\" font-family=\"Times,serif\" font-size=\"14.00\" fill=\"#000000\">value = [[631, 98]</text>\n",
       "<text text-anchor=\"middle\" x=\"438\" y=\"-230.8\" font-family=\"Times,serif\" font-size=\"14.00\" fill=\"#000000\">[98, 631]]</text>\n",
       "</g>\n",
       "<!-- 1&#45;&gt;2 -->\n",
       "<g id=\"edge2\" class=\"edge\">\n",
       "<title>1&#45;&gt;2</title>\n",
       "<path fill=\"none\" stroke=\"#000000\" d=\"M680.6758,-345.8477C645.9925,-334.2214 607.4538,-321.3028 571.4882,-309.2467\"/>\n",
       "<polygon fill=\"#000000\" stroke=\"#000000\" points=\"572.5065,-305.8967 561.9125,-306.0369 570.2816,-312.5338 572.5065,-305.8967\"/>\n",
       "</g>\n",
       "<!-- 9 -->\n",
       "<g id=\"node10\" class=\"node\">\n",
       "<title>9</title>\n",
       "<polygon fill=\"#f2c09d\" stroke=\"#000000\" points=\"903,-306 683,-306 683,-223 903,-223 903,-306\"/>\n",
       "<text text-anchor=\"middle\" x=\"793\" y=\"-290.8\" font-family=\"Times,serif\" font-size=\"14.00\" fill=\"#000000\">MC_1BLACK_2RTD_2호기 &lt;= 0.5</text>\n",
       "<text text-anchor=\"middle\" x=\"793\" y=\"-275.8\" font-family=\"Times,serif\" font-size=\"14.00\" fill=\"#000000\">gini = 0.162</text>\n",
       "<text text-anchor=\"middle\" x=\"793\" y=\"-260.8\" font-family=\"Times,serif\" font-size=\"14.00\" fill=\"#000000\">samples = 415</text>\n",
       "<text text-anchor=\"middle\" x=\"793\" y=\"-245.8\" font-family=\"Times,serif\" font-size=\"14.00\" fill=\"#000000\">value = [[378, 37]</text>\n",
       "<text text-anchor=\"middle\" x=\"793\" y=\"-230.8\" font-family=\"Times,serif\" font-size=\"14.00\" fill=\"#000000\">[37, 378]]</text>\n",
       "</g>\n",
       "<!-- 1&#45;&gt;9 -->\n",
       "<g id=\"edge9\" class=\"edge\">\n",
       "<title>1&#45;&gt;9</title>\n",
       "<path fill=\"none\" stroke=\"#000000\" d=\"M793,-341.8796C793,-333.6838 793,-324.9891 793,-316.5013\"/>\n",
       "<polygon fill=\"#000000\" stroke=\"#000000\" points=\"796.5001,-316.298 793,-306.2981 789.5001,-316.2981 796.5001,-316.298\"/>\n",
       "</g>\n",
       "<!-- 3 -->\n",
       "<g id=\"node4\" class=\"node\">\n",
       "<title>3</title>\n",
       "<polygon fill=\"#f6d3ba\" stroke=\"#000000\" points=\"308,-187 72,-187 72,-104 308,-104 308,-187\"/>\n",
       "<text text-anchor=\"middle\" x=\"190\" y=\"-171.8\" font-family=\"Times,serif\" font-size=\"14.00\" fill=\"#000000\">MC_2AG_3EXPOSURE_1호기 &lt;= 0.5</text>\n",
       "<text text-anchor=\"middle\" x=\"190\" y=\"-156.8\" font-family=\"Times,serif\" font-size=\"14.00\" fill=\"#000000\">gini = 0.201</text>\n",
       "<text text-anchor=\"middle\" x=\"190\" y=\"-141.8\" font-family=\"Times,serif\" font-size=\"14.00\" fill=\"#000000\">samples = 361</text>\n",
       "<text text-anchor=\"middle\" x=\"190\" y=\"-126.8\" font-family=\"Times,serif\" font-size=\"14.00\" fill=\"#000000\">value = [[320, 41]</text>\n",
       "<text text-anchor=\"middle\" x=\"190\" y=\"-111.8\" font-family=\"Times,serif\" font-size=\"14.00\" fill=\"#000000\">[41, 320]]</text>\n",
       "</g>\n",
       "<!-- 2&#45;&gt;3 -->\n",
       "<g id=\"edge3\" class=\"edge\">\n",
       "<title>2&#45;&gt;3</title>\n",
       "<path fill=\"none\" stroke=\"#000000\" d=\"M351.2616,-222.8796C330.1176,-212.7339 307.3801,-201.8235 285.8396,-191.4876\"/>\n",
       "<polygon fill=\"#000000\" stroke=\"#000000\" points=\"287.2194,-188.2676 276.6894,-187.0969 284.191,-194.5786 287.2194,-188.2676\"/>\n",
       "</g>\n",
       "<!-- 6 -->\n",
       "<g id=\"node7\" class=\"node\">\n",
       "<title>6</title>\n",
       "<polygon fill=\"#fcf0e8\" stroke=\"#000000\" points=\"550,-187 326,-187 326,-104 550,-104 550,-187\"/>\n",
       "<text text-anchor=\"middle\" x=\"438\" y=\"-171.8\" font-family=\"Times,serif\" font-size=\"14.00\" fill=\"#000000\">MC_4DIELEC_1FIRE_1호기 &lt;= 0.5</text>\n",
       "<text text-anchor=\"middle\" x=\"438\" y=\"-156.8\" font-family=\"Times,serif\" font-size=\"14.00\" fill=\"#000000\">gini = 0.262</text>\n",
       "<text text-anchor=\"middle\" x=\"438\" y=\"-141.8\" font-family=\"Times,serif\" font-size=\"14.00\" fill=\"#000000\">samples = 368</text>\n",
       "<text text-anchor=\"middle\" x=\"438\" y=\"-126.8\" font-family=\"Times,serif\" font-size=\"14.00\" fill=\"#000000\">value = [[311, 57]</text>\n",
       "<text text-anchor=\"middle\" x=\"438\" y=\"-111.8\" font-family=\"Times,serif\" font-size=\"14.00\" fill=\"#000000\">[57, 311]]</text>\n",
       "</g>\n",
       "<!-- 2&#45;&gt;6 -->\n",
       "<g id=\"edge6\" class=\"edge\">\n",
       "<title>2&#45;&gt;6</title>\n",
       "<path fill=\"none\" stroke=\"#000000\" d=\"M438,-222.8796C438,-214.6838 438,-205.9891 438,-197.5013\"/>\n",
       "<polygon fill=\"#000000\" stroke=\"#000000\" points=\"441.5001,-197.298 438,-187.2981 434.5001,-197.2981 441.5001,-197.298\"/>\n",
       "</g>\n",
       "<!-- 4 -->\n",
       "<g id=\"node5\" class=\"node\">\n",
       "<title>4</title>\n",
       "<polygon fill=\"#f1bc96\" stroke=\"#000000\" points=\"116,-68 0,-68 0,0 116,0 116,-68\"/>\n",
       "<text text-anchor=\"middle\" x=\"58\" y=\"-52.8\" font-family=\"Times,serif\" font-size=\"14.00\" fill=\"#000000\">gini = 0.154</text>\n",
       "<text text-anchor=\"middle\" x=\"58\" y=\"-37.8\" font-family=\"Times,serif\" font-size=\"14.00\" fill=\"#000000\">samples = 179</text>\n",
       "<text text-anchor=\"middle\" x=\"58\" y=\"-22.8\" font-family=\"Times,serif\" font-size=\"14.00\" fill=\"#000000\">value = [[164, 15]</text>\n",
       "<text text-anchor=\"middle\" x=\"58\" y=\"-7.8\" font-family=\"Times,serif\" font-size=\"14.00\" fill=\"#000000\">[15, 164]]</text>\n",
       "</g>\n",
       "<!-- 3&#45;&gt;4 -->\n",
       "<g id=\"edge4\" class=\"edge\">\n",
       "<title>3&#45;&gt;4</title>\n",
       "<path fill=\"none\" stroke=\"#000000\" d=\"M140.8481,-103.9815C129.5324,-94.4232 117.5087,-84.2668 106.2325,-74.7419\"/>\n",
       "<polygon fill=\"#000000\" stroke=\"#000000\" points=\"108.4612,-72.0429 98.5633,-68.2637 103.9441,-77.3904 108.4612,-72.0429\"/>\n",
       "</g>\n",
       "<!-- 5 -->\n",
       "<g id=\"node6\" class=\"node\">\n",
       "<title>5</title>\n",
       "<polygon fill=\"#fae8db\" stroke=\"#000000\" points=\"250,-68 134,-68 134,0 250,0 250,-68\"/>\n",
       "<text text-anchor=\"middle\" x=\"192\" y=\"-52.8\" font-family=\"Times,serif\" font-size=\"14.00\" fill=\"#000000\">gini = 0.245</text>\n",
       "<text text-anchor=\"middle\" x=\"192\" y=\"-37.8\" font-family=\"Times,serif\" font-size=\"14.00\" fill=\"#000000\">samples = 182</text>\n",
       "<text text-anchor=\"middle\" x=\"192\" y=\"-22.8\" font-family=\"Times,serif\" font-size=\"14.00\" fill=\"#000000\">value = [[156, 26]</text>\n",
       "<text text-anchor=\"middle\" x=\"192\" y=\"-7.8\" font-family=\"Times,serif\" font-size=\"14.00\" fill=\"#000000\">[26, 156]]</text>\n",
       "</g>\n",
       "<!-- 3&#45;&gt;5 -->\n",
       "<g id=\"edge5\" class=\"edge\">\n",
       "<title>3&#45;&gt;5</title>\n",
       "<path fill=\"none\" stroke=\"#000000\" d=\"M190.7447,-103.9815C190.8947,-95.618 191.053,-86.7965 191.2046,-78.3409\"/>\n",
       "<polygon fill=\"#000000\" stroke=\"#000000\" points=\"194.7054,-78.3249 191.3854,-68.2637 187.7065,-78.1993 194.7054,-78.3249\"/>\n",
       "</g>\n",
       "<!-- 7 -->\n",
       "<g id=\"node8\" class=\"node\">\n",
       "<title>7</title>\n",
       "<polygon fill=\"#ffffff\" stroke=\"#000000\" points=\"414,-68 298,-68 298,0 414,0 414,-68\"/>\n",
       "<text text-anchor=\"middle\" x=\"356\" y=\"-52.8\" font-family=\"Times,serif\" font-size=\"14.00\" fill=\"#000000\">gini = 0.293</text>\n",
       "<text text-anchor=\"middle\" x=\"356\" y=\"-37.8\" font-family=\"Times,serif\" font-size=\"14.00\" fill=\"#000000\">samples = 202</text>\n",
       "<text text-anchor=\"middle\" x=\"356\" y=\"-22.8\" font-family=\"Times,serif\" font-size=\"14.00\" fill=\"#000000\">value = [[166, 36]</text>\n",
       "<text text-anchor=\"middle\" x=\"356\" y=\"-7.8\" font-family=\"Times,serif\" font-size=\"14.00\" fill=\"#000000\">[36, 166]]</text>\n",
       "</g>\n",
       "<!-- 6&#45;&gt;7 -->\n",
       "<g id=\"edge7\" class=\"edge\">\n",
       "<title>6&#45;&gt;7</title>\n",
       "<path fill=\"none\" stroke=\"#000000\" d=\"M407.4662,-103.9815C400.8424,-94.9747 393.8279,-85.4367 387.1795,-76.3965\"/>\n",
       "<polygon fill=\"#000000\" stroke=\"#000000\" points=\"389.9426,-74.2461 381.1984,-68.2637 384.3034,-78.3933 389.9426,-74.2461\"/>\n",
       "</g>\n",
       "<!-- 8 -->\n",
       "<g id=\"node9\" class=\"node\">\n",
       "<title>8</title>\n",
       "<polygon fill=\"#f8ddc9\" stroke=\"#000000\" points=\"548,-68 432,-68 432,0 548,0 548,-68\"/>\n",
       "<text text-anchor=\"middle\" x=\"490\" y=\"-52.8\" font-family=\"Times,serif\" font-size=\"14.00\" fill=\"#000000\">gini = 0.221</text>\n",
       "<text text-anchor=\"middle\" x=\"490\" y=\"-37.8\" font-family=\"Times,serif\" font-size=\"14.00\" fill=\"#000000\">samples = 166</text>\n",
       "<text text-anchor=\"middle\" x=\"490\" y=\"-22.8\" font-family=\"Times,serif\" font-size=\"14.00\" fill=\"#000000\">value = [[145, 21]</text>\n",
       "<text text-anchor=\"middle\" x=\"490\" y=\"-7.8\" font-family=\"Times,serif\" font-size=\"14.00\" fill=\"#000000\">[21, 145]]</text>\n",
       "</g>\n",
       "<!-- 6&#45;&gt;8 -->\n",
       "<g id=\"edge8\" class=\"edge\">\n",
       "<title>6&#45;&gt;8</title>\n",
       "<path fill=\"none\" stroke=\"#000000\" d=\"M457.3629,-103.9815C461.3919,-95.3423 465.6489,-86.2144 469.7103,-77.5059\"/>\n",
       "<polygon fill=\"#000000\" stroke=\"#000000\" points=\"472.9659,-78.8059 474.0205,-68.2637 466.6218,-75.8472 472.9659,-78.8059\"/>\n",
       "</g>\n",
       "<!-- 10 -->\n",
       "<g id=\"node11\" class=\"node\">\n",
       "<title>10</title>\n",
       "<polygon fill=\"#eda978\" stroke=\"#000000\" points=\"801.5,-187 568.5,-187 568.5,-104 801.5,-104 801.5,-187\"/>\n",
       "<text text-anchor=\"middle\" x=\"685\" y=\"-171.8\" font-family=\"Times,serif\" font-size=\"14.00\" fill=\"#000000\">MC_6PHOS_1R_2DRY_2호기 &lt;= 0.5</text>\n",
       "<text text-anchor=\"middle\" x=\"685\" y=\"-156.8\" font-family=\"Times,serif\" font-size=\"14.00\" fill=\"#000000\">gini = 0.113</text>\n",
       "<text text-anchor=\"middle\" x=\"685\" y=\"-141.8\" font-family=\"Times,serif\" font-size=\"14.00\" fill=\"#000000\">samples = 199</text>\n",
       "<text text-anchor=\"middle\" x=\"685\" y=\"-126.8\" font-family=\"Times,serif\" font-size=\"14.00\" fill=\"#000000\">value = [[187, 12]</text>\n",
       "<text text-anchor=\"middle\" x=\"685\" y=\"-111.8\" font-family=\"Times,serif\" font-size=\"14.00\" fill=\"#000000\">[12, 187]]</text>\n",
       "</g>\n",
       "<!-- 9&#45;&gt;10 -->\n",
       "<g id=\"edge10\" class=\"edge\">\n",
       "<title>9&#45;&gt;10</title>\n",
       "<path fill=\"none\" stroke=\"#000000\" d=\"M755.2268,-222.8796C746.9713,-213.7832 738.158,-204.0722 729.6626,-194.7116\"/>\n",
       "<polygon fill=\"#000000\" stroke=\"#000000\" points=\"732.2467,-192.3509 722.9344,-187.2981 727.0632,-197.0553 732.2467,-192.3509\"/>\n",
       "</g>\n",
       "<!-- 13 -->\n",
       "<g id=\"node14\" class=\"node\">\n",
       "<title>13</title>\n",
       "<polygon fill=\"#f6d5bd\" stroke=\"#000000\" points=\"994.5,-187 819.5,-187 819.5,-104 994.5,-104 994.5,-187\"/>\n",
       "<text text-anchor=\"middle\" x=\"907\" y=\"-171.8\" font-family=\"Times,serif\" font-size=\"14.00\" fill=\"#000000\">MC_7PASTE_2호기 &lt;= 0.5</text>\n",
       "<text text-anchor=\"middle\" x=\"907\" y=\"-156.8\" font-family=\"Times,serif\" font-size=\"14.00\" fill=\"#000000\">gini = 0.205</text>\n",
       "<text text-anchor=\"middle\" x=\"907\" y=\"-141.8\" font-family=\"Times,serif\" font-size=\"14.00\" fill=\"#000000\">samples = 216</text>\n",
       "<text text-anchor=\"middle\" x=\"907\" y=\"-126.8\" font-family=\"Times,serif\" font-size=\"14.00\" fill=\"#000000\">value = [[191, 25]</text>\n",
       "<text text-anchor=\"middle\" x=\"907\" y=\"-111.8\" font-family=\"Times,serif\" font-size=\"14.00\" fill=\"#000000\">[25, 191]]</text>\n",
       "</g>\n",
       "<!-- 9&#45;&gt;13 -->\n",
       "<g id=\"edge13\" class=\"edge\">\n",
       "<title>9&#45;&gt;13</title>\n",
       "<path fill=\"none\" stroke=\"#000000\" d=\"M832.8717,-222.8796C841.5858,-213.7832 850.8888,-204.0722 859.8562,-194.7116\"/>\n",
       "<polygon fill=\"#000000\" stroke=\"#000000\" points=\"862.5678,-196.9405 866.9581,-187.2981 857.513,-192.098 862.5678,-196.9405\"/>\n",
       "</g>\n",
       "<!-- 11 -->\n",
       "<g id=\"node12\" class=\"node\">\n",
       "<title>11</title>\n",
       "<polygon fill=\"#f0b58b\" stroke=\"#000000\" points=\"691,-68 581,-68 581,0 691,0 691,-68\"/>\n",
       "<text text-anchor=\"middle\" x=\"636\" y=\"-52.8\" font-family=\"Times,serif\" font-size=\"14.00\" fill=\"#000000\">gini = 0.139</text>\n",
       "<text text-anchor=\"middle\" x=\"636\" y=\"-37.8\" font-family=\"Times,serif\" font-size=\"14.00\" fill=\"#000000\">samples = 120</text>\n",
       "<text text-anchor=\"middle\" x=\"636\" y=\"-22.8\" font-family=\"Times,serif\" font-size=\"14.00\" fill=\"#000000\">value = [[111, 9]</text>\n",
       "<text text-anchor=\"middle\" x=\"636\" y=\"-7.8\" font-family=\"Times,serif\" font-size=\"14.00\" fill=\"#000000\">[9, 111]]</text>\n",
       "</g>\n",
       "<!-- 10&#45;&gt;11 -->\n",
       "<g id=\"edge11\" class=\"edge\">\n",
       "<title>10&#45;&gt;11</title>\n",
       "<path fill=\"none\" stroke=\"#000000\" d=\"M666.7542,-103.9815C662.9576,-95.3423 658.9462,-86.2144 655.1192,-77.5059\"/>\n",
       "<polygon fill=\"#000000\" stroke=\"#000000\" points=\"658.2851,-76.0105 651.0576,-68.2637 651.8767,-78.8268 658.2851,-76.0105\"/>\n",
       "</g>\n",
       "<!-- 12 -->\n",
       "<g id=\"node13\" class=\"node\">\n",
       "<title>12</title>\n",
       "<polygon fill=\"#e9965a\" stroke=\"#000000\" points=\"812.5,-68 709.5,-68 709.5,0 812.5,0 812.5,-68\"/>\n",
       "<text text-anchor=\"middle\" x=\"761\" y=\"-52.8\" font-family=\"Times,serif\" font-size=\"14.00\" fill=\"#000000\">gini = 0.073</text>\n",
       "<text text-anchor=\"middle\" x=\"761\" y=\"-37.8\" font-family=\"Times,serif\" font-size=\"14.00\" fill=\"#000000\">samples = 79</text>\n",
       "<text text-anchor=\"middle\" x=\"761\" y=\"-22.8\" font-family=\"Times,serif\" font-size=\"14.00\" fill=\"#000000\">value = [[76, 3]</text>\n",
       "<text text-anchor=\"middle\" x=\"761\" y=\"-7.8\" font-family=\"Times,serif\" font-size=\"14.00\" fill=\"#000000\">[3, 76]]</text>\n",
       "</g>\n",
       "<!-- 10&#45;&gt;12 -->\n",
       "<g id=\"edge12\" class=\"edge\">\n",
       "<title>10&#45;&gt;12</title>\n",
       "<path fill=\"none\" stroke=\"#000000\" d=\"M713.2996,-103.9815C719.3762,-95.0666 725.8074,-85.6313 731.9132,-76.6734\"/>\n",
       "<polygon fill=\"#000000\" stroke=\"#000000\" points=\"734.9052,-78.498 737.6454,-68.2637 729.1211,-74.5555 734.9052,-78.498\"/>\n",
       "</g>\n",
       "<!-- 14 -->\n",
       "<g id=\"node15\" class=\"node\">\n",
       "<title>14</title>\n",
       "<polygon fill=\"#fae5d6\" stroke=\"#000000\" points=\"954,-68 838,-68 838,0 954,0 954,-68\"/>\n",
       "<text text-anchor=\"middle\" x=\"896\" y=\"-52.8\" font-family=\"Times,serif\" font-size=\"14.00\" fill=\"#000000\">gini = 0.238</text>\n",
       "<text text-anchor=\"middle\" x=\"896\" y=\"-37.8\" font-family=\"Times,serif\" font-size=\"14.00\" fill=\"#000000\">samples = 123</text>\n",
       "<text text-anchor=\"middle\" x=\"896\" y=\"-22.8\" font-family=\"Times,serif\" font-size=\"14.00\" fill=\"#000000\">value = [[106, 17]</text>\n",
       "<text text-anchor=\"middle\" x=\"896\" y=\"-7.8\" font-family=\"Times,serif\" font-size=\"14.00\" fill=\"#000000\">[17, 106]]</text>\n",
       "</g>\n",
       "<!-- 13&#45;&gt;14 -->\n",
       "<g id=\"edge14\" class=\"edge\">\n",
       "<title>13&#45;&gt;14</title>\n",
       "<path fill=\"none\" stroke=\"#000000\" d=\"M902.904,-103.9815C902.0789,-95.618 901.2086,-86.7965 900.3744,-78.3409\"/>\n",
       "<polygon fill=\"#000000\" stroke=\"#000000\" points=\"903.8452,-77.8717 899.3803,-68.2637 896.8791,-78.559 903.8452,-77.8717\"/>\n",
       "</g>\n",
       "<!-- 15 -->\n",
       "<g id=\"node16\" class=\"node\">\n",
       "<title>15</title>\n",
       "<polygon fill=\"#f2be99\" stroke=\"#000000\" points=\"1075.5,-68 972.5,-68 972.5,0 1075.5,0 1075.5,-68\"/>\n",
       "<text text-anchor=\"middle\" x=\"1024\" y=\"-52.8\" font-family=\"Times,serif\" font-size=\"14.00\" fill=\"#000000\">gini = 0.157</text>\n",
       "<text text-anchor=\"middle\" x=\"1024\" y=\"-37.8\" font-family=\"Times,serif\" font-size=\"14.00\" fill=\"#000000\">samples = 93</text>\n",
       "<text text-anchor=\"middle\" x=\"1024\" y=\"-22.8\" font-family=\"Times,serif\" font-size=\"14.00\" fill=\"#000000\">value = [[85, 8]</text>\n",
       "<text text-anchor=\"middle\" x=\"1024\" y=\"-7.8\" font-family=\"Times,serif\" font-size=\"14.00\" fill=\"#000000\">[8, 85]]</text>\n",
       "</g>\n",
       "<!-- 13&#45;&gt;15 -->\n",
       "<g id=\"edge15\" class=\"edge\">\n",
       "<title>13&#45;&gt;15</title>\n",
       "<path fill=\"none\" stroke=\"#000000\" d=\"M950.5665,-103.9815C960.4034,-94.607 970.844,-84.6572 980.6711,-75.2921\"/>\n",
       "<polygon fill=\"#000000\" stroke=\"#000000\" points=\"983.2216,-77.6963 988.0462,-68.2637 978.3924,-72.6289 983.2216,-77.6963\"/>\n",
       "</g>\n",
       "<!-- 17 -->\n",
       "<g id=\"node18\" class=\"node\">\n",
       "<title>17</title>\n",
       "<polygon fill=\"#f3c3a1\" stroke=\"#000000\" points=\"1386.5,-306 1183.5,-306 1183.5,-223 1386.5,-223 1386.5,-306\"/>\n",
       "<text text-anchor=\"middle\" x=\"1285\" y=\"-290.8\" font-family=\"Times,serif\" font-size=\"14.00\" fill=\"#000000\">MC_3BUS_2FIRE_1호기 &lt;= 0.5</text>\n",
       "<text text-anchor=\"middle\" x=\"1285\" y=\"-275.8\" font-family=\"Times,serif\" font-size=\"14.00\" fill=\"#000000\">gini = 0.168</text>\n",
       "<text text-anchor=\"middle\" x=\"1285\" y=\"-260.8\" font-family=\"Times,serif\" font-size=\"14.00\" fill=\"#000000\">samples = 216</text>\n",
       "<text text-anchor=\"middle\" x=\"1285\" y=\"-245.8\" font-family=\"Times,serif\" font-size=\"14.00\" fill=\"#000000\">value = [[196, 20]</text>\n",
       "<text text-anchor=\"middle\" x=\"1285\" y=\"-230.8\" font-family=\"Times,serif\" font-size=\"14.00\" fill=\"#000000\">[20, 196]]</text>\n",
       "</g>\n",
       "<!-- 16&#45;&gt;17 -->\n",
       "<g id=\"edge17\" class=\"edge\">\n",
       "<title>16&#45;&gt;17</title>\n",
       "<path fill=\"none\" stroke=\"#000000\" d=\"M1285,-341.8796C1285,-333.6838 1285,-324.9891 1285,-316.5013\"/>\n",
       "<polygon fill=\"#000000\" stroke=\"#000000\" points=\"1288.5001,-316.298 1285,-306.2981 1281.5001,-316.2981 1288.5001,-316.298\"/>\n",
       "</g>\n",
       "<!-- 24 -->\n",
       "<g id=\"node25\" class=\"node\">\n",
       "<title>24</title>\n",
       "<polygon fill=\"#eda775\" stroke=\"#000000\" points=\"1784,-306 1548,-306 1548,-223 1784,-223 1784,-306\"/>\n",
       "<text text-anchor=\"middle\" x=\"1666\" y=\"-290.8\" font-family=\"Times,serif\" font-size=\"14.00\" fill=\"#000000\">MC_2AG_3EXPOSURE_2호기 &lt;= 0.5</text>\n",
       "<text text-anchor=\"middle\" x=\"1666\" y=\"-275.8\" font-family=\"Times,serif\" font-size=\"14.00\" fill=\"#000000\">gini = 0.11</text>\n",
       "<text text-anchor=\"middle\" x=\"1666\" y=\"-260.8\" font-family=\"Times,serif\" font-size=\"14.00\" fill=\"#000000\">samples = 240</text>\n",
       "<text text-anchor=\"middle\" x=\"1666\" y=\"-245.8\" font-family=\"Times,serif\" font-size=\"14.00\" fill=\"#000000\">value = [[226, 14]</text>\n",
       "<text text-anchor=\"middle\" x=\"1666\" y=\"-230.8\" font-family=\"Times,serif\" font-size=\"14.00\" fill=\"#000000\">[14, 226]]</text>\n",
       "</g>\n",
       "<!-- 16&#45;&gt;24 -->\n",
       "<g id=\"edge24\" class=\"edge\">\n",
       "<title>16&#45;&gt;24</title>\n",
       "<path fill=\"none\" stroke=\"#000000\" d=\"M1417.9878,-341.9631C1456.9746,-329.7862 1499.5076,-316.5015 1538.166,-304.4271\"/>\n",
       "<polygon fill=\"#000000\" stroke=\"#000000\" points=\"1539.4047,-307.7071 1547.9064,-301.3849 1537.3177,-301.0254 1539.4047,-307.7071\"/>\n",
       "</g>\n",
       "<!-- 18 -->\n",
       "<g id=\"node19\" class=\"node\">\n",
       "<title>18</title>\n",
       "<polygon fill=\"#f7d7c0\" stroke=\"#000000\" points=\"1289.5,-187 1012.5,-187 1012.5,-104 1289.5,-104 1289.5,-187\"/>\n",
       "<text text-anchor=\"middle\" x=\"1151\" y=\"-171.8\" font-family=\"Times,serif\" font-size=\"14.00\" fill=\"#000000\">MC_6PHOS_2G_1DISPENSER_1호기 &lt;= 0.5</text>\n",
       "<text text-anchor=\"middle\" x=\"1151\" y=\"-156.8\" font-family=\"Times,serif\" font-size=\"14.00\" fill=\"#000000\">gini = 0.209</text>\n",
       "<text text-anchor=\"middle\" x=\"1151\" y=\"-141.8\" font-family=\"Times,serif\" font-size=\"14.00\" fill=\"#000000\">samples = 118</text>\n",
       "<text text-anchor=\"middle\" x=\"1151\" y=\"-126.8\" font-family=\"Times,serif\" font-size=\"14.00\" fill=\"#000000\">value = [[104, 14]</text>\n",
       "<text text-anchor=\"middle\" x=\"1151\" y=\"-111.8\" font-family=\"Times,serif\" font-size=\"14.00\" fill=\"#000000\">[14, 104]]</text>\n",
       "</g>\n",
       "<!-- 17&#45;&gt;18 -->\n",
       "<g id=\"edge18\" class=\"edge\">\n",
       "<title>17&#45;&gt;18</title>\n",
       "<path fill=\"none\" stroke=\"#000000\" d=\"M1238.1333,-222.8796C1227.6875,-213.6031 1216.5219,-203.6874 1205.789,-194.1559\"/>\n",
       "<polygon fill=\"#000000\" stroke=\"#000000\" points=\"1207.868,-191.3213 1198.0667,-187.2981 1203.2199,-196.5553 1207.868,-191.3213\"/>\n",
       "</g>\n",
       "<!-- 21 -->\n",
       "<g id=\"node22\" class=\"node\">\n",
       "<title>21</title>\n",
       "<polygon fill=\"#edaa79\" stroke=\"#000000\" points=\"1532,-187 1308,-187 1308,-104 1532,-104 1532,-187\"/>\n",
       "<text text-anchor=\"middle\" x=\"1420\" y=\"-171.8\" font-family=\"Times,serif\" font-size=\"14.00\" fill=\"#000000\">MC_4DIELEC_1FIRE_2호기 &lt;= 0.5</text>\n",
       "<text text-anchor=\"middle\" x=\"1420\" y=\"-156.8\" font-family=\"Times,serif\" font-size=\"14.00\" fill=\"#000000\">gini = 0.115</text>\n",
       "<text text-anchor=\"middle\" x=\"1420\" y=\"-141.8\" font-family=\"Times,serif\" font-size=\"14.00\" fill=\"#000000\">samples = 98</text>\n",
       "<text text-anchor=\"middle\" x=\"1420\" y=\"-126.8\" font-family=\"Times,serif\" font-size=\"14.00\" fill=\"#000000\">value = [[92, 6]</text>\n",
       "<text text-anchor=\"middle\" x=\"1420\" y=\"-111.8\" font-family=\"Times,serif\" font-size=\"14.00\" fill=\"#000000\">[6, 92]]</text>\n",
       "</g>\n",
       "<!-- 17&#45;&gt;21 -->\n",
       "<g id=\"edge21\" class=\"edge\">\n",
       "<title>17&#45;&gt;21</title>\n",
       "<path fill=\"none\" stroke=\"#000000\" d=\"M1332.2164,-222.8796C1342.7402,-213.6031 1353.9891,-203.6874 1364.8021,-194.1559\"/>\n",
       "<polygon fill=\"#000000\" stroke=\"#000000\" points=\"1367.3948,-196.5362 1372.582,-187.2981 1362.766,-191.2851 1367.3948,-196.5362\"/>\n",
       "</g>\n",
       "<!-- 19 -->\n",
       "<g id=\"node20\" class=\"node\">\n",
       "<title>19</title>\n",
       "<polygon fill=\"#f3c3a1\" stroke=\"#000000\" points=\"1200.5,-68 1097.5,-68 1097.5,0 1200.5,0 1200.5,-68\"/>\n",
       "<text text-anchor=\"middle\" x=\"1149\" y=\"-52.8\" font-family=\"Times,serif\" font-size=\"14.00\" fill=\"#000000\">gini = 0.168</text>\n",
       "<text text-anchor=\"middle\" x=\"1149\" y=\"-37.8\" font-family=\"Times,serif\" font-size=\"14.00\" fill=\"#000000\">samples = 54</text>\n",
       "<text text-anchor=\"middle\" x=\"1149\" y=\"-22.8\" font-family=\"Times,serif\" font-size=\"14.00\" fill=\"#000000\">value = [[49, 5]</text>\n",
       "<text text-anchor=\"middle\" x=\"1149\" y=\"-7.8\" font-family=\"Times,serif\" font-size=\"14.00\" fill=\"#000000\">[5, 49]]</text>\n",
       "</g>\n",
       "<!-- 18&#45;&gt;19 -->\n",
       "<g id=\"edge19\" class=\"edge\">\n",
       "<title>18&#45;&gt;19</title>\n",
       "<path fill=\"none\" stroke=\"#000000\" d=\"M1150.2553,-103.9815C1150.1053,-95.618 1149.947,-86.7965 1149.7954,-78.3409\"/>\n",
       "<polygon fill=\"#000000\" stroke=\"#000000\" points=\"1153.2935,-78.1993 1149.6146,-68.2637 1146.2946,-78.3249 1153.2935,-78.1993\"/>\n",
       "</g>\n",
       "<!-- 20 -->\n",
       "<g id=\"node21\" class=\"node\">\n",
       "<title>20</title>\n",
       "<polygon fill=\"#fae6d8\" stroke=\"#000000\" points=\"1321.5,-68 1218.5,-68 1218.5,0 1321.5,0 1321.5,-68\"/>\n",
       "<text text-anchor=\"middle\" x=\"1270\" y=\"-52.8\" font-family=\"Times,serif\" font-size=\"14.00\" fill=\"#000000\">gini = 0.242</text>\n",
       "<text text-anchor=\"middle\" x=\"1270\" y=\"-37.8\" font-family=\"Times,serif\" font-size=\"14.00\" fill=\"#000000\">samples = 64</text>\n",
       "<text text-anchor=\"middle\" x=\"1270\" y=\"-22.8\" font-family=\"Times,serif\" font-size=\"14.00\" fill=\"#000000\">value = [[55, 9]</text>\n",
       "<text text-anchor=\"middle\" x=\"1270\" y=\"-7.8\" font-family=\"Times,serif\" font-size=\"14.00\" fill=\"#000000\">[9, 55]]</text>\n",
       "</g>\n",
       "<!-- 18&#45;&gt;20 -->\n",
       "<g id=\"edge20\" class=\"edge\">\n",
       "<title>18&#45;&gt;20</title>\n",
       "<path fill=\"none\" stroke=\"#000000\" d=\"M1195.3112,-103.9815C1205.3163,-94.607 1215.9354,-84.6572 1225.9304,-75.2921\"/>\n",
       "<polygon fill=\"#000000\" stroke=\"#000000\" points=\"1228.5274,-77.6551 1233.4316,-68.2637 1223.7412,-72.547 1228.5274,-77.6551\"/>\n",
       "</g>\n",
       "<!-- 22 -->\n",
       "<g id=\"node23\" class=\"node\">\n",
       "<title>22</title>\n",
       "<polygon fill=\"#e88e4d\" stroke=\"#000000\" points=\"1447.5,-68 1344.5,-68 1344.5,0 1447.5,0 1447.5,-68\"/>\n",
       "<text text-anchor=\"middle\" x=\"1396\" y=\"-52.8\" font-family=\"Times,serif\" font-size=\"14.00\" fill=\"#000000\">gini = 0.056</text>\n",
       "<text text-anchor=\"middle\" x=\"1396\" y=\"-37.8\" font-family=\"Times,serif\" font-size=\"14.00\" fill=\"#000000\">samples = 69</text>\n",
       "<text text-anchor=\"middle\" x=\"1396\" y=\"-22.8\" font-family=\"Times,serif\" font-size=\"14.00\" fill=\"#000000\">value = [[67, 2]</text>\n",
       "<text text-anchor=\"middle\" x=\"1396\" y=\"-7.8\" font-family=\"Times,serif\" font-size=\"14.00\" fill=\"#000000\">[2, 67]]</text>\n",
       "</g>\n",
       "<!-- 21&#45;&gt;22 -->\n",
       "<g id=\"edge22\" class=\"edge\">\n",
       "<title>21&#45;&gt;22</title>\n",
       "<path fill=\"none\" stroke=\"#000000\" d=\"M1411.0633,-103.9815C1409.2433,-95.5261 1407.3225,-86.6026 1405.4843,-78.0623\"/>\n",
       "<polygon fill=\"#000000\" stroke=\"#000000\" points=\"1408.9011,-77.3032 1403.3751,-68.2637 1402.0579,-78.7763 1408.9011,-77.3032\"/>\n",
       "</g>\n",
       "<!-- 23 -->\n",
       "<g id=\"node24\" class=\"node\">\n",
       "<title>23</title>\n",
       "<polygon fill=\"#fae5d6\" stroke=\"#000000\" points=\"1568.5,-68 1465.5,-68 1465.5,0 1568.5,0 1568.5,-68\"/>\n",
       "<text text-anchor=\"middle\" x=\"1517\" y=\"-52.8\" font-family=\"Times,serif\" font-size=\"14.00\" fill=\"#000000\">gini = 0.238</text>\n",
       "<text text-anchor=\"middle\" x=\"1517\" y=\"-37.8\" font-family=\"Times,serif\" font-size=\"14.00\" fill=\"#000000\">samples = 29</text>\n",
       "<text text-anchor=\"middle\" x=\"1517\" y=\"-22.8\" font-family=\"Times,serif\" font-size=\"14.00\" fill=\"#000000\">value = [[25, 4]</text>\n",
       "<text text-anchor=\"middle\" x=\"1517\" y=\"-7.8\" font-family=\"Times,serif\" font-size=\"14.00\" fill=\"#000000\">[4, 25]]</text>\n",
       "</g>\n",
       "<!-- 21&#45;&gt;23 -->\n",
       "<g id=\"edge23\" class=\"edge\">\n",
       "<title>21&#45;&gt;23</title>\n",
       "<path fill=\"none\" stroke=\"#000000\" d=\"M1456.1192,-103.9815C1464.1147,-94.7908 1472.5913,-85.0472 1480.5979,-75.8436\"/>\n",
       "<polygon fill=\"#000000\" stroke=\"#000000\" points=\"1483.2693,-78.1055 1487.1921,-68.2637 1477.988,-73.5111 1483.2693,-78.1055\"/>\n",
       "</g>\n",
       "<!-- 25 -->\n",
       "<g id=\"node26\" class=\"node\">\n",
       "<title>25</title>\n",
       "<polygon fill=\"#f1bd98\" stroke=\"#000000\" points=\"1782,-187 1550,-187 1550,-104 1782,-104 1782,-187\"/>\n",
       "<text text-anchor=\"middle\" x=\"1666\" y=\"-171.8\" font-family=\"Times,serif\" font-size=\"14.00\" fill=\"#000000\">MC_1BLACK_1PRINT_2호기 &lt;= 0.5</text>\n",
       "<text text-anchor=\"middle\" x=\"1666\" y=\"-156.8\" font-family=\"Times,serif\" font-size=\"14.00\" fill=\"#000000\">gini = 0.156</text>\n",
       "<text text-anchor=\"middle\" x=\"1666\" y=\"-141.8\" font-family=\"Times,serif\" font-size=\"14.00\" fill=\"#000000\">samples = 94</text>\n",
       "<text text-anchor=\"middle\" x=\"1666\" y=\"-126.8\" font-family=\"Times,serif\" font-size=\"14.00\" fill=\"#000000\">value = [[86, 8]</text>\n",
       "<text text-anchor=\"middle\" x=\"1666\" y=\"-111.8\" font-family=\"Times,serif\" font-size=\"14.00\" fill=\"#000000\">[8, 86]]</text>\n",
       "</g>\n",
       "<!-- 24&#45;&gt;25 -->\n",
       "<g id=\"edge25\" class=\"edge\">\n",
       "<title>24&#45;&gt;25</title>\n",
       "<path fill=\"none\" stroke=\"#000000\" d=\"M1666,-222.8796C1666,-214.6838 1666,-205.9891 1666,-197.5013\"/>\n",
       "<polygon fill=\"#000000\" stroke=\"#000000\" points=\"1669.5001,-197.298 1666,-187.2981 1662.5001,-197.2981 1669.5001,-197.298\"/>\n",
       "</g>\n",
       "<!-- 28 -->\n",
       "<g id=\"node29\" class=\"node\">\n",
       "<title>28</title>\n",
       "<polygon fill=\"#ea985e\" stroke=\"#000000\" points=\"2006,-187 1800,-187 1800,-104 2006,-104 2006,-187\"/>\n",
       "<text text-anchor=\"middle\" x=\"1903\" y=\"-171.8\" font-family=\"Times,serif\" font-size=\"14.00\" fill=\"#000000\">MC_2AG_1PRINT_1호기 &lt;= 0.5</text>\n",
       "<text text-anchor=\"middle\" x=\"1903\" y=\"-156.8\" font-family=\"Times,serif\" font-size=\"14.00\" fill=\"#000000\">gini = 0.079</text>\n",
       "<text text-anchor=\"middle\" x=\"1903\" y=\"-141.8\" font-family=\"Times,serif\" font-size=\"14.00\" fill=\"#000000\">samples = 146</text>\n",
       "<text text-anchor=\"middle\" x=\"1903\" y=\"-126.8\" font-family=\"Times,serif\" font-size=\"14.00\" fill=\"#000000\">value = [[140, 6]</text>\n",
       "<text text-anchor=\"middle\" x=\"1903\" y=\"-111.8\" font-family=\"Times,serif\" font-size=\"14.00\" fill=\"#000000\">[6, 140]]</text>\n",
       "</g>\n",
       "<!-- 24&#45;&gt;28 -->\n",
       "<g id=\"edge28\" class=\"edge\">\n",
       "<title>24&#45;&gt;28</title>\n",
       "<path fill=\"none\" stroke=\"#000000\" d=\"M1748.8911,-222.8796C1769.0071,-212.7791 1790.6323,-201.9209 1811.1356,-191.626\"/>\n",
       "<polygon fill=\"#000000\" stroke=\"#000000\" points=\"1812.7895,-194.712 1820.1557,-187.0969 1809.6484,-188.4563 1812.7895,-194.712\"/>\n",
       "</g>\n",
       "<!-- 26 -->\n",
       "<g id=\"node27\" class=\"node\">\n",
       "<title>26</title>\n",
       "<polygon fill=\"#eda674\" stroke=\"#000000\" points=\"1702.5,-68 1599.5,-68 1599.5,0 1702.5,0 1702.5,-68\"/>\n",
       "<text text-anchor=\"middle\" x=\"1651\" y=\"-52.8\" font-family=\"Times,serif\" font-size=\"14.00\" fill=\"#000000\">gini = 0.108</text>\n",
       "<text text-anchor=\"middle\" x=\"1651\" y=\"-37.8\" font-family=\"Times,serif\" font-size=\"14.00\" fill=\"#000000\">samples = 70</text>\n",
       "<text text-anchor=\"middle\" x=\"1651\" y=\"-22.8\" font-family=\"Times,serif\" font-size=\"14.00\" fill=\"#000000\">value = [[66, 4]</text>\n",
       "<text text-anchor=\"middle\" x=\"1651\" y=\"-7.8\" font-family=\"Times,serif\" font-size=\"14.00\" fill=\"#000000\">[4, 66]]</text>\n",
       "</g>\n",
       "<!-- 25&#45;&gt;26 -->\n",
       "<g id=\"edge26\" class=\"edge\">\n",
       "<title>25&#45;&gt;26</title>\n",
       "<path fill=\"none\" stroke=\"#000000\" d=\"M1660.4146,-103.9815C1659.2894,-95.618 1658.1027,-86.7965 1656.9651,-78.3409\"/>\n",
       "<polygon fill=\"#000000\" stroke=\"#000000\" points=\"1660.4116,-77.7077 1655.6095,-68.2637 1653.4741,-78.6411 1660.4116,-77.7077\"/>\n",
       "</g>\n",
       "<!-- 27 -->\n",
       "<g id=\"node28\" class=\"node\">\n",
       "<title>27</title>\n",
       "<polygon fill=\"#fef8f4\" stroke=\"#000000\" points=\"1823.5,-68 1720.5,-68 1720.5,0 1823.5,0 1823.5,-68\"/>\n",
       "<text text-anchor=\"middle\" x=\"1772\" y=\"-52.8\" font-family=\"Times,serif\" font-size=\"14.00\" fill=\"#000000\">gini = 0.278</text>\n",
       "<text text-anchor=\"middle\" x=\"1772\" y=\"-37.8\" font-family=\"Times,serif\" font-size=\"14.00\" fill=\"#000000\">samples = 24</text>\n",
       "<text text-anchor=\"middle\" x=\"1772\" y=\"-22.8\" font-family=\"Times,serif\" font-size=\"14.00\" fill=\"#000000\">value = [[20, 4]</text>\n",
       "<text text-anchor=\"middle\" x=\"1772\" y=\"-7.8\" font-family=\"Times,serif\" font-size=\"14.00\" fill=\"#000000\">[4, 20]]</text>\n",
       "</g>\n",
       "<!-- 25&#45;&gt;27 -->\n",
       "<g id=\"edge27\" class=\"edge\">\n",
       "<title>25&#45;&gt;27</title>\n",
       "<path fill=\"none\" stroke=\"#000000\" d=\"M1705.4705,-103.9815C1714.2952,-94.6989 1723.6562,-84.8522 1732.4827,-75.5677\"/>\n",
       "<polygon fill=\"#000000\" stroke=\"#000000\" points=\"1735.073,-77.9228 1739.4265,-68.2637 1729.9997,-73.0997 1735.073,-77.9228\"/>\n",
       "</g>\n",
       "<!-- 29 -->\n",
       "<g id=\"node30\" class=\"node\">\n",
       "<title>29</title>\n",
       "<polygon fill=\"#e58139\" stroke=\"#000000\" points=\"1950.5,-68 1847.5,-68 1847.5,0 1950.5,0 1950.5,-68\"/>\n",
       "<text text-anchor=\"middle\" x=\"1899\" y=\"-52.8\" font-family=\"Times,serif\" font-size=\"14.00\" fill=\"#000000\">gini = 0.03</text>\n",
       "<text text-anchor=\"middle\" x=\"1899\" y=\"-37.8\" font-family=\"Times,serif\" font-size=\"14.00\" fill=\"#000000\">samples = 66</text>\n",
       "<text text-anchor=\"middle\" x=\"1899\" y=\"-22.8\" font-family=\"Times,serif\" font-size=\"14.00\" fill=\"#000000\">value = [[65, 1]</text>\n",
       "<text text-anchor=\"middle\" x=\"1899\" y=\"-7.8\" font-family=\"Times,serif\" font-size=\"14.00\" fill=\"#000000\">[1, 65]]</text>\n",
       "</g>\n",
       "<!-- 28&#45;&gt;29 -->\n",
       "<g id=\"edge29\" class=\"edge\">\n",
       "<title>28&#45;&gt;29</title>\n",
       "<path fill=\"none\" stroke=\"#000000\" d=\"M1901.5105,-103.9815C1901.2105,-95.618 1900.894,-86.7965 1900.5907,-78.3409\"/>\n",
       "<polygon fill=\"#000000\" stroke=\"#000000\" points=\"1904.0855,-78.1317 1900.2292,-68.2637 1897.09,-78.3828 1904.0855,-78.1317\"/>\n",
       "</g>\n",
       "<!-- 30 -->\n",
       "<g id=\"node31\" class=\"node\">\n",
       "<title>30</title>\n",
       "<polygon fill=\"#eeab7b\" stroke=\"#000000\" points=\"2071.5,-68 1968.5,-68 1968.5,0 2071.5,0 2071.5,-68\"/>\n",
       "<text text-anchor=\"middle\" x=\"2020\" y=\"-52.8\" font-family=\"Times,serif\" font-size=\"14.00\" fill=\"#000000\">gini = 0.117</text>\n",
       "<text text-anchor=\"middle\" x=\"2020\" y=\"-37.8\" font-family=\"Times,serif\" font-size=\"14.00\" fill=\"#000000\">samples = 80</text>\n",
       "<text text-anchor=\"middle\" x=\"2020\" y=\"-22.8\" font-family=\"Times,serif\" font-size=\"14.00\" fill=\"#000000\">value = [[75, 5]</text>\n",
       "<text text-anchor=\"middle\" x=\"2020\" y=\"-7.8\" font-family=\"Times,serif\" font-size=\"14.00\" fill=\"#000000\">[5, 75]]</text>\n",
       "</g>\n",
       "<!-- 28&#45;&gt;30 -->\n",
       "<g id=\"edge30\" class=\"edge\">\n",
       "<title>28&#45;&gt;30</title>\n",
       "<path fill=\"none\" stroke=\"#000000\" d=\"M1946.5665,-103.9815C1956.4034,-94.607 1966.844,-84.6572 1976.6711,-75.2921\"/>\n",
       "<polygon fill=\"#000000\" stroke=\"#000000\" points=\"1979.2216,-77.6963 1984.0462,-68.2637 1974.3924,-72.6289 1979.2216,-77.6963\"/>\n",
       "</g>\n",
       "</g>\n",
       "</svg>\n"
      ],
      "text/plain": [
       "<graphviz.files.Source at 0x7fdedcc2de20>"
      ]
     },
     "metadata": {},
     "output_type": "display_data"
    }
   ],
   "source": [
    "export_graphviz(tree_final, out_file = \"tree_final.dot\", class_names = [\"Good\", \"Bad\"],\n",
    "                feature_names = v_feature_name, impurity = True, filled= True)\n",
    "with open(\"tree_final.dot\") as f:\n",
    "    dot_graph = f.read()\n",
    "display(graphviz.Source(dot_graph))"
   ]
  },
  {
   "cell_type": "code",
   "execution_count": 92,
   "metadata": {},
   "outputs": [
    {
     "name": "stdout",
     "output_type": "stream",
     "text": [
      "Train Accuracy: 0.894\n",
      "Test Accuracy: 0.899\n",
      "\n"
     ]
    },
    {
     "ename": "ValueError",
     "evalue": "multilabel-indicator is not supported",
     "output_type": "error",
     "traceback": [
      "\u001b[0;31m---------------------------------------------------------------------------\u001b[0m",
      "\u001b[0;31mValueError\u001b[0m                                Traceback (most recent call last)",
      "\u001b[0;32m<ipython-input-92-6e7404e4b2f9>\u001b[0m in \u001b[0;36m<module>\u001b[0;34m\u001b[0m\n\u001b[1;32m      2\u001b[0m \u001b[0mprint\u001b[0m\u001b[0;34m(\u001b[0m\u001b[0;34m\"Train Accuracy: {0:.3f}\\n\"\u001b[0m\u001b[0;34m.\u001b[0m\u001b[0mformat\u001b[0m\u001b[0;34m(\u001b[0m\u001b[0mtree_final\u001b[0m\u001b[0;34m.\u001b[0m\u001b[0mscore\u001b[0m\u001b[0;34m(\u001b[0m\u001b[0mdf_train_x\u001b[0m\u001b[0;34m,\u001b[0m\u001b[0mdf_train_y\u001b[0m\u001b[0;34m)\u001b[0m\u001b[0;34m)\u001b[0m\u001b[0;34m,\u001b[0m \u001b[0mend\u001b[0m \u001b[0;34m=\u001b[0m\u001b[0;34m\"\"\u001b[0m\u001b[0;34m)\u001b[0m\u001b[0;34m\u001b[0m\u001b[0;34m\u001b[0m\u001b[0m\n\u001b[1;32m      3\u001b[0m \u001b[0mprint\u001b[0m\u001b[0;34m(\u001b[0m\u001b[0;34m\"Test Accuracy: {0:.3f}\\n\"\u001b[0m\u001b[0;34m.\u001b[0m\u001b[0mformat\u001b[0m\u001b[0;34m(\u001b[0m\u001b[0mtree_final\u001b[0m\u001b[0;34m.\u001b[0m\u001b[0mscore\u001b[0m\u001b[0;34m(\u001b[0m\u001b[0mdf_test_x\u001b[0m\u001b[0;34m,\u001b[0m\u001b[0mdf_test_y\u001b[0m\u001b[0;34m)\u001b[0m\u001b[0;34m)\u001b[0m\u001b[0;34m)\u001b[0m\u001b[0;34m\u001b[0m\u001b[0;34m\u001b[0m\u001b[0m\n\u001b[0;32m----> 4\u001b[0;31m \u001b[0mprint\u001b[0m\u001b[0;34m(\u001b[0m\u001b[0;34m\"Confusion matrix56:\\n{}\"\u001b[0m\u001b[0;34m.\u001b[0m\u001b[0mformat\u001b[0m\u001b[0;34m(\u001b[0m\u001b[0mconfusion_matrix\u001b[0m\u001b[0;34m(\u001b[0m\u001b[0mdf_test_y\u001b[0m\u001b[0;34m,\u001b[0m\u001b[0my_pred\u001b[0m\u001b[0;34m)\u001b[0m\u001b[0;34m)\u001b[0m\u001b[0;34m)\u001b[0m\u001b[0;34m\u001b[0m\u001b[0;34m\u001b[0m\u001b[0m\n\u001b[0m",
      "\u001b[0;32m~/anaconda3/lib/python3.8/site-packages/sklearn/utils/validation.py\u001b[0m in \u001b[0;36minner_f\u001b[0;34m(*args, **kwargs)\u001b[0m\n\u001b[1;32m     71\u001b[0m                           FutureWarning)\n\u001b[1;32m     72\u001b[0m         \u001b[0mkwargs\u001b[0m\u001b[0;34m.\u001b[0m\u001b[0mupdate\u001b[0m\u001b[0;34m(\u001b[0m\u001b[0;34m{\u001b[0m\u001b[0mk\u001b[0m\u001b[0;34m:\u001b[0m \u001b[0marg\u001b[0m \u001b[0;32mfor\u001b[0m \u001b[0mk\u001b[0m\u001b[0;34m,\u001b[0m \u001b[0marg\u001b[0m \u001b[0;32min\u001b[0m \u001b[0mzip\u001b[0m\u001b[0;34m(\u001b[0m\u001b[0msig\u001b[0m\u001b[0;34m.\u001b[0m\u001b[0mparameters\u001b[0m\u001b[0;34m,\u001b[0m \u001b[0margs\u001b[0m\u001b[0;34m)\u001b[0m\u001b[0;34m}\u001b[0m\u001b[0;34m)\u001b[0m\u001b[0;34m\u001b[0m\u001b[0;34m\u001b[0m\u001b[0m\n\u001b[0;32m---> 73\u001b[0;31m         \u001b[0;32mreturn\u001b[0m \u001b[0mf\u001b[0m\u001b[0;34m(\u001b[0m\u001b[0;34m**\u001b[0m\u001b[0mkwargs\u001b[0m\u001b[0;34m)\u001b[0m\u001b[0;34m\u001b[0m\u001b[0;34m\u001b[0m\u001b[0m\n\u001b[0m\u001b[1;32m     74\u001b[0m     \u001b[0;32mreturn\u001b[0m \u001b[0minner_f\u001b[0m\u001b[0;34m\u001b[0m\u001b[0;34m\u001b[0m\u001b[0m\n\u001b[1;32m     75\u001b[0m \u001b[0;34m\u001b[0m\u001b[0m\n",
      "\u001b[0;32m~/anaconda3/lib/python3.8/site-packages/sklearn/metrics/_classification.py\u001b[0m in \u001b[0;36mconfusion_matrix\u001b[0;34m(y_true, y_pred, labels, sample_weight, normalize)\u001b[0m\n\u001b[1;32m    276\u001b[0m     \u001b[0my_type\u001b[0m\u001b[0;34m,\u001b[0m \u001b[0my_true\u001b[0m\u001b[0;34m,\u001b[0m \u001b[0my_pred\u001b[0m \u001b[0;34m=\u001b[0m \u001b[0m_check_targets\u001b[0m\u001b[0;34m(\u001b[0m\u001b[0my_true\u001b[0m\u001b[0;34m,\u001b[0m \u001b[0my_pred\u001b[0m\u001b[0;34m)\u001b[0m\u001b[0;34m\u001b[0m\u001b[0;34m\u001b[0m\u001b[0m\n\u001b[1;32m    277\u001b[0m     \u001b[0;32mif\u001b[0m \u001b[0my_type\u001b[0m \u001b[0;32mnot\u001b[0m \u001b[0;32min\u001b[0m \u001b[0;34m(\u001b[0m\u001b[0;34m\"binary\"\u001b[0m\u001b[0;34m,\u001b[0m \u001b[0;34m\"multiclass\"\u001b[0m\u001b[0;34m)\u001b[0m\u001b[0;34m:\u001b[0m\u001b[0;34m\u001b[0m\u001b[0;34m\u001b[0m\u001b[0m\n\u001b[0;32m--> 278\u001b[0;31m         \u001b[0;32mraise\u001b[0m \u001b[0mValueError\u001b[0m\u001b[0;34m(\u001b[0m\u001b[0;34m\"%s is not supported\"\u001b[0m \u001b[0;34m%\u001b[0m \u001b[0my_type\u001b[0m\u001b[0;34m)\u001b[0m\u001b[0;34m\u001b[0m\u001b[0;34m\u001b[0m\u001b[0m\n\u001b[0m\u001b[1;32m    279\u001b[0m \u001b[0;34m\u001b[0m\u001b[0m\n\u001b[1;32m    280\u001b[0m     \u001b[0;32mif\u001b[0m \u001b[0mlabels\u001b[0m \u001b[0;32mis\u001b[0m \u001b[0;32mNone\u001b[0m\u001b[0;34m:\u001b[0m\u001b[0;34m\u001b[0m\u001b[0;34m\u001b[0m\u001b[0m\n",
      "\u001b[0;31mValueError\u001b[0m: multilabel-indicator is not supported"
     ]
    }
   ],
   "source": [
    "y_pred = tree_final.predict(df_test_x)\n",
    "print(\"Train Accuracy: {0:.3f}\\n\".format(tree_final.score(df_train_x,df_train_y)), end =\"\")\n",
    "print(\"Test Accuracy: {0:.3f}\\n\".format(tree_final.score(df_test_x,df_test_y)))\n",
    "print(\"Confusion matrix56:\\n{}\".format(confusion_matrix(df_test_y,y_pred)))"
   ]
  },
  {
   "cell_type": "code",
   "execution_count": null,
   "metadata": {},
   "outputs": [],
   "source": [
    "#tree.feature_importances_로 설명변수 중요도 확인 및 테이블로 저장\n",
    "df_importance = pd.DataFrame()\n",
    "df_importance[\"Feature\"] = v_feature_name\n",
    "df_importance[\"Importance\"] = tree_final.feature_importances_\n",
    "\n",
    "df_importance.sort_values(\"Importance\", ascending = False, inplace = True)\n",
    "df_importance7 = df_importance[:7]\n",
    "df_importance7.round(4)"
   ]
  },
  {
   "cell_type": "code",
   "execution_count": null,
   "metadata": {},
   "outputs": [],
   "source": [
    "#설명변수 중요도 그래프\n",
    "#중요도가 높은 변수를 상위에 그림\n",
    "df_importance7.sort_values(\"Importance\", ascending = True, inplace = True)\n",
    "coordinates = range(len(df_importance7))\n",
    "plt.barh(y= coordinates, width =df_importance7[\"Importance\"])\n",
    "plt.yticks(coordinates, df_importance7[\"Feature\"])\n",
    "plt.xlabel(\"Variable Importance\")\n",
    "plt.ylabel(\"Variable\")"
   ]
  },
  {
   "cell_type": "code",
   "execution_count": null,
   "metadata": {},
   "outputs": [],
   "source": [
    "from sklearn.tree import DecisionTreeClassifier as DTC\n",
    "from sklearn.tree import DecisionTreeClassifier"
   ]
  },
  {
   "cell_type": "code",
   "execution_count": null,
   "metadata": {},
   "outputs": [],
   "source": [
    "# GridSearchCV 이용한 DecisionTreeClassifier 최적의 파라미터 찾기\n",
    "estimator = DecisionTreeClassifier()\n",
    "\n",
    "param_grid = {\"max_depth\" :para_depth, \"min_samples_split\":para_split,\"min_samples_leaf\":para_leaf}\n",
    "\n",
    "grid_dt =GridSearchCV(estimator, param_grid,scoring=\"accuracy\", n_jobs=-1)\n",
    "grid_dt.fit(df_train_x,df_train_y)\n",
    "\n",
    "print(\"best estimator model :\\n{}\".format(grid_dt.best_estimator_))\n",
    "print(\"\\nbest paramator model :\\n{}\".format(grid_dt.best_params_))\n",
    "print(\"\\nbest score :\\n{}\".format(grid_dt.best_score_.round(3)))"
   ]
  },
  {
   "cell_type": "markdown",
   "metadata": {},
   "source": [
    "# 랜덤포레스트 "
   ]
  },
  {
   "cell_type": "code",
   "execution_count": null,
   "metadata": {},
   "outputs": [],
   "source": [
    "from sklearn.ensemble import RandomForestClassifier"
   ]
  },
  {
   "cell_type": "code",
   "execution_count": null,
   "metadata": {},
   "outputs": [],
   "source": [
    "df_train_x, df_test_x, df_train_y, df_test_y = train_test_split(df_machine_x_dummy, df_machine_y_dummy,\n",
    "                                                               test_size = 0.3, random_state = 1234)\n",
    "\n",
    "df_train_x, df_val_x, df_train_y, df_val_y = train_test_split(df_train_x, df_train_y,\n",
    "                                                               test_size = 3/7, random_state = 1234)\n",
    "\n",
    "print(\"train data X size : {}\".format(df_train_x.shape))\n",
    "print(\"train data Y size : {}\".format(df_train_y.shape))\n",
    "print(\"test data X size : {}\".format(df_test_x.shape))\n",
    "print(\"test data Y size : {}\".format(df_test_y.shape))\n",
    "print(\"validation data X size : {}\".format(df_val_x.shape))\n",
    "print(\"validation data Y size : {}\".format(df_val_y.shape))"
   ]
  },
  {
   "cell_type": "code",
   "execution_count": null,
   "metadata": {},
   "outputs": [],
   "source": [
    "rf_uncustomized = RandomForestClassifier(random_state=1234)\n",
    "rf_uncustomized.fit(df_train_x, df_train_y)\n",
    "\n",
    "print(\"Accuracy on training set:{:.3f}\".format(rf_uncustomized.score(df_train_x, df_train_y)))\n",
    "print(\"Accuracy on val set:{:.3f}\".format(rf_uncustomized.score(df_test_x, df_test_y)))"
   ]
  },
  {
   "cell_type": "code",
   "execution_count": null,
   "metadata": {},
   "outputs": [],
   "source": [
    "#n_estimators 트리수 변경에 따른 모델 성능\n",
    "\n",
    "train_accuracy = []; val_accuracy = []\n",
    "para_n_tree = [n_tree * 10 for n_tree in range(1,6)]\n",
    " \n",
    "for v_n_estimators in para_n_tree:\n",
    "    rf = RandomForestClassifier(random_state=1234, \n",
    "                                  n_estimators = v_n_estimators)\n",
    "    rf.fit(df_train_x, df_train_y)\n",
    "    train_accuracy.append(rf.score(df_train_x, df_train_y))\n",
    "    val_accuracy.append(rf.score(df_val_x, df_val_y))\n",
    "\n",
    "    \n",
    "df_accuracy_n = pd.DataFrame()\n",
    "df_accuracy_n[\"n_estimators\"] = para_n_tree\n",
    "df_accuracy_n[\"TrainAccuracy\"] = train_accuracy\n",
    "df_accuracy_n[\"ValAccuracy\"] = val_accuracy\n",
    "\n",
    "df_accuracy_n.round(3)"
   ]
  },
  {
   "cell_type": "code",
   "execution_count": null,
   "metadata": {},
   "outputs": [],
   "source": [
    "plt.plot(para_n_tree, train_accuracy, linestyle=\"-\", label=\"Train Accuracy\")\n",
    "plt.plot(para_n_tree, val_accuracy, linestyle=\"--\", label=\"Val Accuracy\")\n",
    "plt.xlabel('n_estimators');plt.ylabel('accuracy')\n",
    "plt.legend()"
   ]
  },
  {
   "cell_type": "code",
   "execution_count": null,
   "metadata": {},
   "outputs": [],
   "source": [
    "#error 저장 리스트\n",
    "\n",
    "oob_error = []\n",
    "\n",
    "for v_n_estimator in range(1,6):\n",
    "    rf=RandomForestClassifier(n_estimators = v_n_estimator, \n",
    "                             oob_score = True, random_state=1234)\n",
    "    rf.fit(df_train_x,df_train_y)\n",
    "    oob_error.append(1 - rf.oob_score_)"
   ]
  },
  {
   "cell_type": "code",
   "execution_count": null,
   "metadata": {},
   "outputs": [],
   "source": [
    "#그래프로 표현\n",
    "plt.plot(range(1,6), oob_error)\n",
    "plt.ylabel('oob error')\n",
    "plt.xlabel('n_estimators')\n",
    "#트리 수 지정\n",
    "n_estimators = 35"
   ]
  },
  {
   "cell_type": "code",
   "execution_count": null,
   "metadata": {},
   "outputs": [],
   "source": [
    "#max_depth\n",
    "#train 및 test 정확도 결과 저장용\n",
    "train_accuracy = []; val_accuracy = []\n",
    "\n",
    "#max_depth : 최대 깊이 변경\n",
    "para_depth = [depth for depth in range(1,6)]\n",
    " \n",
    "for v_max_depth in para_depth:\n",
    "    rf = RandomForestClassifier(random_state=1234, n_estimators = 35, \n",
    "                                  max_depth = v_max_depth)\n",
    "    rf.fit(df_train_x, df_train_y)\n",
    "    train_accuracy.append(rf.score(df_train_x, df_train_y))\n",
    "    val_accuracy.append(rf.score(df_val_x, df_val_y))\n",
    "\n",
    "    \n",
    "df_accuracy_depth = pd.DataFrame()\n",
    "df_accuracy_depth[\"Depth\"] = para_depth\n",
    "df_accuracy_depth[\"TrainAccuracy\"] = train_accuracy\n",
    "df_accuracy_depth[\"ValAccuracy\"] = val_accuracy\n",
    "\n",
    "df_accuracy_depth.round(3)"
   ]
  },
  {
   "cell_type": "code",
   "execution_count": null,
   "metadata": {},
   "outputs": [],
   "source": [
    "#모델 정확도 그래프 확인\n",
    "plt.plot(para_depth, train_accuracy, linestyle=\"-\", label=\"Train Accuracy\")\n",
    "plt.plot(para_depth, val_accuracy, linestyle=\"--\", label=\"Val Accuracy\")\n",
    "plt.xlabel('max depth'); plt.ylabel('accuracy')\n",
    "plt.legend()\n",
    "\n",
    "#최대 깊이 지정\n",
    "# max_depth = 20"
   ]
  },
  {
   "cell_type": "code",
   "execution_count": null,
   "metadata": {},
   "outputs": [],
   "source": [
    "#min_samples_split\n",
    "train_accuracy = []; val_accuracy = []\n",
    "para_split = [n_split * 10 for n_split in range(1,6)]\n",
    " \n",
    "for v_min_samples_split in para_split:\n",
    "    rf = RandomForestClassifier(min_samples_split = v_min_samples_split,\n",
    "                                  max_depth = 20, n_estimators= 40, random_state=1234)\n",
    "    rf.fit(df_train_x, df_train_y)\n",
    "    train_accuracy.append(rf.score(df_train_x, df_train_y))\n",
    "    val_accuracy.append(rf.score(df_val_x, df_val_y))\n",
    "\n",
    "    \n",
    "df_accuracy_split = pd.DataFrame()\n",
    "df_accuracy_split[\"MinSamplesSplit\"] = para_split\n",
    "df_accuracy_split[\"TrainAccuacy\"] = train_accuracy\n",
    "df_accuracy_split[\"ValAccuacy\"] = val_accuracy\n",
    "\n",
    "df_accuracy_split.round(3)"
   ]
  },
  {
   "cell_type": "code",
   "execution_count": null,
   "metadata": {},
   "outputs": [],
   "source": [
    "plt.plot(para_split, train_accuracy, linestyle=\"-\", label=\"Train Accuracy\")\n",
    "plt.plot(para_split, val_accuracy, linestyle=\"--\", label=\"Val Accuracy\")\n",
    "plt.xlabel('min samples split'); plt.ylabel('accuracy')\n",
    "plt.legend()"
   ]
  },
  {
   "cell_type": "code",
   "execution_count": null,
   "metadata": {},
   "outputs": [],
   "source": [
    "#min_samples_leaf\n",
    "train_accuracy = []; val_accuracy = []\n",
    "para_leaf = [n_leaf for n_leaf in range(1,6)]\n",
    " \n",
    "for v_min_samples_leaf in para_leaf:\n",
    "    rf = RandomForestClassifier(min_samples_leaf = v_min_samples_leaf,\n",
    "                    max_depth = 20, n_estimators = 35, random_state=1234)\n",
    "    rf.fit(df_train_x, df_train_y)\n",
    "    train_accuracy.append(rf.score(df_train_x, df_train_y))\n",
    "    val_accuracy.append(rf.score(df_val_x, df_val_y))\n",
    "\n",
    "    \n",
    "df_accuracy_leaf = pd.DataFrame()\n",
    "df_accuracy_leaf[\"MinSamplesLeaf\"] = para_leaf\n",
    "df_accuracy_leaf[\"TrainAccuracy\"] = train_accuracy\n",
    "df_accuracy_leaf[\"ValAccuracy\"] = val_accuracy\n",
    "\n",
    "df_accuracy_leaf.round(3)"
   ]
  },
  {
   "cell_type": "code",
   "execution_count": null,
   "metadata": {},
   "outputs": [],
   "source": [
    "plt.plot(para_leaf, train_accuracy, linestyle=\"-\", label=\"Train Accuracy\")\n",
    "plt.plot(para_leaf, val_accuracy, linestyle=\"--\", label=\"Val Accuracy\")\n",
    "plt.legend()"
   ]
  },
  {
   "cell_type": "code",
   "execution_count": null,
   "metadata": {},
   "outputs": [],
   "source": [
    "#결론 도출\n",
    "#최종 모델 선택\n",
    "rf_final = RandomForestClassifier(min_samples_leaf = 2, max_depth = 4, n_estimators = 40, random_state = 1234)\n",
    "rf_final.fit(df_train_x, df_train_y)\n",
    "#평가\n",
    "y_pred = rf_final.predict(df_test_x)\n",
    "\n",
    "#train 데이터 셋 정확도\n",
    "print(\"Accuracy on training set:{:.3f}\".format(rf_final.score(df_test_x, df_test_y)))\n",
    "#train 데이터 셋 정확도\n",
    "print(\"Accuracy:on test set:{:.3f}\\n\".format(rf_final.score(df_test_x, df_test_y)))\n",
    "#confusion matrix\n",
    "print(\"Confusion matrix:\\n{}\".format(confusion_matrix(df_test_y, y_pred)))"
   ]
  },
  {
   "cell_type": "code",
   "execution_count": null,
   "metadata": {},
   "outputs": [],
   "source": [
    "#변수명\n",
    "v_feature_name = df_train_x.columns\n",
    "#tree.feature_importances_로 설명변수 중요도 확인 및 테이블로 저장\n",
    "df_importance = pd.DataFrame()\n",
    "df_importance[\"Feature\"]=v_feature_name\n",
    "df_importance[\"Importance\"]=rf_final.feature_importances_\n",
    "#df_feature_importance의 테이블을 중요도 순으로 정렬\n",
    "df_importance.sort_values('Importance', ascending = False, inplace = True)\n",
    "df_importance10 = df_importance[:10]\n",
    "df_importance10.round(3)"
   ]
  },
  {
   "cell_type": "code",
   "execution_count": null,
   "metadata": {},
   "outputs": [],
   "source": [
    "#설명변수 중요도 그래프\n",
    "#중요도가 높은 변수를 상위에 그림\n",
    "df_importance10.sort_values(\"Importance\", ascending=True, inplace=True)\n",
    "coordinates = range(len(df_importance10))\n",
    "plt.barh(y = coordinates, width = df_importance10[\"Importance\"])\n",
    "plt.yticks(coordinates, df_importance10[\"Feature\"])\n",
    "plt.xlabel(\"변수 중요도\")\n",
    "plt.ylabel(\"변수\")"
   ]
  },
  {
   "cell_type": "code",
   "execution_count": null,
   "metadata": {},
   "outputs": [],
   "source": []
  },
  {
   "cell_type": "markdown",
   "metadata": {},
   "source": [
    "# 그래디언트 부스팅"
   ]
  },
  {
   "cell_type": "code",
   "execution_count": null,
   "metadata": {},
   "outputs": [],
   "source": [
    "from sklearn.ensemble import GradientBoostingClassifier as GBC"
   ]
  },
  {
   "cell_type": "code",
   "execution_count": null,
   "metadata": {},
   "outputs": [],
   "source": [
    "df_train_x, df_test_x, df_train_y, df_test_y = train_test_split(df_machine_x_dummy, df_machine_y_dummy,\n",
    "                                                               test_size = 0.3, random_state = 1234)\n",
    "\n",
    "df_train_x, df_val_x, df_train_y, df_val_y = train_test_split(df_train_x, df_train_y,\n",
    "                                                               test_size = 3/7, random_state = 1234)\n",
    "\n",
    "print(\"train data X size : {}\".format(df_train_x.shape))\n",
    "print(\"train data Y size : {}\".format(df_train_y.shape))\n",
    "print(\"test data X size : {}\".format(df_test_x.shape))\n",
    "print(\"test data Y size : {}\".format(df_test_y.shape))\n",
    "print(\"validation data X size : {}\".format(df_val_x.shape))\n",
    "print(\"validation data Y size : {}\".format(df_val_y.shape))"
   ]
  },
  {
   "cell_type": "code",
   "execution_count": null,
   "metadata": {},
   "outputs": [],
   "source": [
    "#모델생성\n",
    "gb_uncustomized=GBC(random_state=1234)\n",
    "gb_uncustomized.fit(df_train_x,df_train_y)\n",
    "\n",
    "print(\"Accuracy on training set : {:.3f}\".format(gb_uncustomized.score(df_train_x,df_train_y)))\n",
    "\n",
    "print(\"Accuracy on test set : {:.3f}\".format(gb_uncustomized.score(df_test_x,df_test_y)))"
   ]
  },
  {
   "cell_type": "code",
   "execution_count": null,
   "metadata": {},
   "outputs": [],
   "source": [
    "train_accuracy=[]\n",
    "val_accuracy=[]\n",
    "\n",
    "\n",
    "para_lr=[lr*0.1 for lr in range(1,6)]\n",
    "\n",
    "\n",
    "for v_learning_rate in para_lr:\n",
    "    \n",
    "    gb=GBC(learning_rate=v_learning_rate, random_state=1234)\n",
    "    \n",
    "    gb.fit(df_train_x,df_train_y)\n",
    "    \n",
    "    train_accuracy.append(gb.score(df_train_x,df_train_y))\n",
    "    val_accuracy.append(gb.score(df_val_x,df_val_y))\n",
    "    \n",
    "df_accuracy_lr=pd.DataFrame()\n",
    "df_accuracy_lr[\"LearningRate\"]=para_lr\n",
    "df_accuracy_lr[\"TrainAccuracy\"]=train_accuracy\n",
    "df_accuracy_lr[\"valAccuracy\"]=val_accuracy\n",
    "df_accuracy_lr.round(3)"
   ]
  },
  {
   "cell_type": "code",
   "execution_count": null,
   "metadata": {},
   "outputs": [],
   "source": [
    "plt.plot(para_lr,train_accuracy,linestyle=\"-\",label=\"Train Accuracy\")\n",
    "plt.plot(para_lr,val_accuracy,linestyle=\"--\",label=\"Test Accuracy\")\n",
    "plt.ylabel(\"accuracy\")\n",
    "plt.xlabel(\"learning rate\")\n",
    "plt.legend()"
   ]
  },
  {
   "cell_type": "code",
   "execution_count": null,
   "metadata": {},
   "outputs": [],
   "source": [
    "val_accuracy=[]\n",
    "train_accuracy=[]\n",
    "\n",
    "\n",
    "para_n_tree=[n_tree for n_tree in range(1,6)]\n",
    "\n",
    "\n",
    "for v_n_estimators in para_n_tree:\n",
    "    \n",
    "    gb=GBC(n_estimators=v_n_estimators, learning_rate=0.1, random_state=1234)\n",
    "    \n",
    "    gb.fit(df_train_x,df_train_y)\n",
    "    \n",
    "    train_accuracy.append(gb.score(df_train_x,df_train_y))\n",
    "    val_accuracy.append(gb.score(df_val_x,df_test_y))\n",
    "    \n",
    "df_accuracy_n=pd.DataFrame()\n",
    "df_accuracy_n[\"Estimators\"]=para_n_tree\n",
    "df_accuracy_n[\"TrainAccuracy\"]=train_accuracy\n",
    "df_accuracy_n[\"valAccuracy\"]=val_accuracy\n",
    "df_accuracy_n.round(3)"
   ]
  },
  {
   "cell_type": "code",
   "execution_count": null,
   "metadata": {},
   "outputs": [],
   "source": [
    "plt.plot(para_n_tree, train_accuracy,linestyle=\"-\",label=\"Train Accuracy\")\n",
    "plt.plot(para_n_tree, val_accuracy,linestyle=\"--\",label=\"val Accuracy\")\n",
    "plt.ylabel(\"accuracy\")\n",
    "plt.xlabel(\"n_estimators\")\n",
    "plt.legend()"
   ]
  },
  {
   "cell_type": "code",
   "execution_count": null,
   "metadata": {},
   "outputs": [],
   "source": [
    "train_accuracy=[]\n",
    "val_accuracy=[]\n",
    "\n",
    "\n",
    "para_depth=[depth for depth in range(1,11)]\n",
    "\n",
    "\n",
    "for v_max_depth in para_depth:\n",
    "    \n",
    "    gb=GBC(max_depth=v_max_depth, n_estimators=40, learning_rate=0.1, random_state=1234)\n",
    "    \n",
    "    gb.fit(df_train_x,df_train_y)\n",
    "    \n",
    "    train_accuracy.append(gb.score(df_train_x,df_train_y))\n",
    "    val_accuracy.append(gb.score(df_val_x,df_val_y))\n",
    "    \n",
    "df_accuracy_depth=pd.DataFrame()\n",
    "df_accuracy_depth[\"Depth\"]=para_depth\n",
    "df_accuracy_depth[\"TrainAccuracy\"]=train_accuracy\n",
    "df_accuracy_depth[\"valAccuracy\"]=val_accuracy\n",
    "df_accuracy_depth.round(3)"
   ]
  },
  {
   "cell_type": "code",
   "execution_count": null,
   "metadata": {},
   "outputs": [],
   "source": [
    "plt.plot(para_depth, train_accuracy,linestyle=\"-\",label=\"Train Accuracy\")\n",
    "plt.plot(para_depth, val_accuracy,linestyle=\"--\",label=\"val Accuracy\")\n",
    "plt.ylabel(\"accuracy\")\n",
    "plt.xlabel(\"depth\")\n",
    "plt.legend()"
   ]
  },
  {
   "cell_type": "code",
   "execution_count": null,
   "metadata": {},
   "outputs": [],
   "source": [
    "train_accuracy=[]\n",
    "val_accuracy=[]\n",
    "\n",
    "\n",
    "para_split=[n_split*10 for n_split in range(2,11)]\n",
    "\n",
    "\n",
    "for v_min_samples_split in para_split:\n",
    "    \n",
    "    gb=GBC(min_samples_split=v_min_samples_split, max_depth=2, n_estimators=40, learning_rate=0.1, random_state=1234)\n",
    "    \n",
    "    gb.fit(df_train_x,df_train_y)\n",
    "    \n",
    "    train_accuracy.append(gb.score(df_train_x,df_train_y))\n",
    "    val_accuracy.append(gb.score(df_val_x,df_val_y))\n",
    "    \n",
    "df_accuracy_split=pd.DataFrame()\n",
    "df_accuracy_split[\"MinSamplesSplit\"]=para_split\n",
    "df_accuracy_split[\"TrainAccuracy\"]=train_accuracy\n",
    "df_accuracy_split[\"valAccuracy\"]=val_accuracy\n",
    "df_accuracy_split.round(3)"
   ]
  },
  {
   "cell_type": "code",
   "execution_count": null,
   "metadata": {},
   "outputs": [],
   "source": [
    "plt.plot(para_split, train_accuracy,linestyle=\"-\",label=\"Train Accuracy\")\n",
    "plt.plot(para_split, val_accuracy,linestyle=\"--\",label=\"val Accuracy\")\n",
    "plt.ylabel(\"accuracy\")\n",
    "plt.xlabel(\"min samples split\")\n",
    "plt.legend()"
   ]
  },
  {
   "cell_type": "code",
   "execution_count": null,
   "metadata": {},
   "outputs": [],
   "source": [
    "train_accuracy=[]\n",
    "val_accuracy=[]\n",
    "\n",
    "\n",
    "para_leaf=[n_leaf for n_leaf in range(1,11)]\n",
    "\n",
    "\n",
    "for v_min_samples_leaf in para_leaf:\n",
    "    \n",
    "    gb=GBC(min_samples_leaf=v_min_samples_leaf, max_depth=2, n_estimators=40, min_samples_split=30, learning_rate=0.1, random_state=1234)\n",
    "    \n",
    "    gb.fit(df_train_x,df_train_y)\n",
    "    \n",
    "    train_accuracy.append(gb.score(df_train_x,df_train_y))\n",
    "    val_accuracy.append(gb.score(df_val_x,df_val_y))\n",
    "    \n",
    "df_accuracy_leaf=pd.DataFrame()\n",
    "df_accuracy_leaf[\"MinSamplesSplit\"]=para_leaf\n",
    "df_accuracy_leaf[\"TrainAccuracy\"]=train_accuracy\n",
    "df_accuracy_leaf[\"valAccuracy\"]=val_accuracy\n",
    "df_accuracy_leaf.round(3)"
   ]
  },
  {
   "cell_type": "code",
   "execution_count": null,
   "metadata": {},
   "outputs": [],
   "source": [
    "plt.plot(para_leaf, train_accuracy,linestyle=\"-\",label=\"Train Accuracy\")\n",
    "plt.plot(para_leaf, val_accuracy,linestyle=\"--\",label=\"val Accuracy\")\n",
    "plt.ylabel(\"accuracy\")\n",
    "plt.xlabel(\"min samples leaf\")\n",
    "plt.legend()"
   ]
  },
  {
   "cell_type": "code",
   "execution_count": null,
   "metadata": {},
   "outputs": [],
   "source": [
    "gb_final=GBC(min_samples_leaf= 2,max_depth=6,n_estimators=100,min_samples_split=20,\n",
    "                                   learning_rate=0.1,random_state=1234)\n",
    "gb_final.fit(df_train_x,df_train_y)\n",
    "\n",
    "y_pred=gb_final.predict(df_test_x)\n",
    "\n",
    "#train 데이터 셋 정확도\n",
    "print(\"Accuracy on training set:{:.3f}\".format(gb_final.score(df_train_x,df_train_y)))\n",
    "#test 데이터 셋 정확도\n",
    "print(\"Accuracy on test set:{:.3f}\".format(gb_final.score(df_test_x,df_test_y)))\n",
    "#confusion matrix\n",
    "print(\"Confusion matrix:\\n{}\".format(confusion_matrix(df_test_y,y_pred)))"
   ]
  },
  {
   "cell_type": "code",
   "execution_count": null,
   "metadata": {},
   "outputs": [],
   "source": [
    "v_feature_name=df_train_x.columns\n",
    "\n",
    "df_importance=pd.DataFrame()\n",
    "df_importance[\"Feature\"]=v_feature_name\n",
    "df_importance[\"Importance\"]=gb_final.feature_importances_\n",
    "\n",
    "df_importance.sort_values(\"Importance\",ascending=False,inplace=True)\n",
    "df_importance7 = df_importance[:7]\n",
    "df_importance7.round(3)[:10]"
   ]
  },
  {
   "cell_type": "code",
   "execution_count": null,
   "metadata": {},
   "outputs": [],
   "source": [
    "df_importance7.sort_values(\"Importance\",ascending=True,inplace=True)\n",
    "coordinates=range(len(df_importance7))\n",
    "plt.barh(y=coordinates,width=df_importance7[\"Importance\"])\n",
    "plt.yticks(coordinates,df_importance7[\"Feature\"])\n",
    "plt.xlabel(\"변수중요도\")\n",
    "plt.ylabel(\"변수\")"
   ]
  },
  {
   "cell_type": "code",
   "execution_count": null,
   "metadata": {},
   "outputs": [],
   "source": []
  }
 ],
 "metadata": {
  "kernelspec": {
   "display_name": "Python 3",
   "language": "python",
   "name": "python3"
  },
  "language_info": {
   "codemirror_mode": {
    "name": "ipython",
    "version": 3
   },
   "file_extension": ".py",
   "mimetype": "text/x-python",
   "name": "python",
   "nbconvert_exporter": "python",
   "pygments_lexer": "ipython3",
   "version": "3.7.6"
  }
 },
 "nbformat": 4,
 "nbformat_minor": 4
}
