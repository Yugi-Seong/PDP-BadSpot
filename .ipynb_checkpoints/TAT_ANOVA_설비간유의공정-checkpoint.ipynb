{
 "cells": [
  {
   "cell_type": "code",
   "execution_count": 1,
   "metadata": {
    "id": "Gt0R7gHXqo0c"
   },
   "outputs": [],
   "source": [
    "import pandas as pd\n",
    "import numpy as np\n",
    "\n",
    "import matplotlib\n",
    "import matplotlib.pyplot as plt\n",
    "\n",
    "import seaborn as sns\n",
    "\n",
    "import scipy.stats\n",
    "from scipy import stats\n",
    "import statsmodels.api as sm\n",
    "from statsmodels.stats.proportion import proportions_ztest \n",
    "\n",
    "from statsmodels.formula.api import ols\n",
    "import statsmodels.formula.api as smf\n",
    "from statsmodels.stats.anova import anova_lm\n",
    "\n",
    "%matplotlib inline"
   ]
  },
  {
   "cell_type": "code",
   "execution_count": 5,
   "metadata": {
    "id": "VMWtw-Mlqo0e",
    "outputId": "46ae0d4c-f3aa-4d0d-b4e7-c2a90bcc24b1",
    "scrolled": true
   },
   "outputs": [
    {
     "data": {
      "text/html": [
       "<div>\n",
       "<style scoped>\n",
       "    .dataframe tbody tr th:only-of-type {\n",
       "        vertical-align: middle;\n",
       "    }\n",
       "\n",
       "    .dataframe tbody tr th {\n",
       "        vertical-align: top;\n",
       "    }\n",
       "\n",
       "    .dataframe thead th {\n",
       "        text-align: right;\n",
       "    }\n",
       "</style>\n",
       "<table border=\"1\" class=\"dataframe\">\n",
       "  <thead>\n",
       "    <tr style=\"text-align: right;\">\n",
       "      <th></th>\n",
       "      <th>LOT</th>\n",
       "      <th>JUDGE</th>\n",
       "      <th>TAT_1BLACK_1PRINT</th>\n",
       "      <th>TAT_1BLACK_2RTD</th>\n",
       "      <th>TAT_2AG_1PRINT</th>\n",
       "      <th>TAT_2AG_2RTD</th>\n",
       "      <th>TAT_2AG_3EXPOSURE</th>\n",
       "      <th>TAT_3BUS_1DEVELOP</th>\n",
       "      <th>TAT_3BUS_2FIRE</th>\n",
       "      <th>TAT_4DIELEC_FIRE</th>\n",
       "      <th>TAT_5MGO</th>\n",
       "      <th>TAT_6PHOS_1R_1DISPENSER</th>\n",
       "      <th>TAT_6PHOS_1R_2DRY</th>\n",
       "      <th>TAT_6PHOS_2G_1DISPENSER</th>\n",
       "      <th>TAT_6PHOS_2G_2DRY</th>\n",
       "      <th>TAT_6PHOS_3B_1DISPENSER</th>\n",
       "      <th>TAT_6PHOS_4FIRE</th>\n",
       "      <th>TAT_8AGING</th>\n",
       "    </tr>\n",
       "  </thead>\n",
       "  <tbody>\n",
       "    <tr>\n",
       "      <th>0</th>\n",
       "      <td>101</td>\n",
       "      <td>0.10</td>\n",
       "      <td>86.35</td>\n",
       "      <td>219.0</td>\n",
       "      <td>83.4</td>\n",
       "      <td>71.15</td>\n",
       "      <td>155.8</td>\n",
       "      <td>373.2</td>\n",
       "      <td>6969.75</td>\n",
       "      <td>6542.1</td>\n",
       "      <td>534.5</td>\n",
       "      <td>81.6</td>\n",
       "      <td>389.25</td>\n",
       "      <td>81.6</td>\n",
       "      <td>377.40</td>\n",
       "      <td>84.4</td>\n",
       "      <td>7190.60</td>\n",
       "      <td>9989.50</td>\n",
       "    </tr>\n",
       "    <tr>\n",
       "      <th>1</th>\n",
       "      <td>102</td>\n",
       "      <td>0.05</td>\n",
       "      <td>89.00</td>\n",
       "      <td>214.0</td>\n",
       "      <td>85.3</td>\n",
       "      <td>71.00</td>\n",
       "      <td>167.7</td>\n",
       "      <td>369.0</td>\n",
       "      <td>6939.30</td>\n",
       "      <td>6510.0</td>\n",
       "      <td>544.0</td>\n",
       "      <td>80.3</td>\n",
       "      <td>393.15</td>\n",
       "      <td>80.0</td>\n",
       "      <td>375.00</td>\n",
       "      <td>83.8</td>\n",
       "      <td>7131.75</td>\n",
       "      <td>9961.40</td>\n",
       "    </tr>\n",
       "    <tr>\n",
       "      <th>2</th>\n",
       "      <td>103</td>\n",
       "      <td>0.15</td>\n",
       "      <td>88.90</td>\n",
       "      <td>219.0</td>\n",
       "      <td>85.2</td>\n",
       "      <td>70.05</td>\n",
       "      <td>158.4</td>\n",
       "      <td>368.0</td>\n",
       "      <td>6958.20</td>\n",
       "      <td>6513.6</td>\n",
       "      <td>532.0</td>\n",
       "      <td>79.7</td>\n",
       "      <td>404.25</td>\n",
       "      <td>80.3</td>\n",
       "      <td>389.85</td>\n",
       "      <td>84.1</td>\n",
       "      <td>7230.95</td>\n",
       "      <td>10022.05</td>\n",
       "    </tr>\n",
       "    <tr>\n",
       "      <th>3</th>\n",
       "      <td>104</td>\n",
       "      <td>0.00</td>\n",
       "      <td>87.35</td>\n",
       "      <td>224.5</td>\n",
       "      <td>84.9</td>\n",
       "      <td>69.15</td>\n",
       "      <td>186.1</td>\n",
       "      <td>361.8</td>\n",
       "      <td>7002.75</td>\n",
       "      <td>6506.7</td>\n",
       "      <td>534.5</td>\n",
       "      <td>79.6</td>\n",
       "      <td>377.55</td>\n",
       "      <td>82.6</td>\n",
       "      <td>377.85</td>\n",
       "      <td>85.2</td>\n",
       "      <td>7278.95</td>\n",
       "      <td>9968.45</td>\n",
       "    </tr>\n",
       "    <tr>\n",
       "      <th>4</th>\n",
       "      <td>105</td>\n",
       "      <td>0.10</td>\n",
       "      <td>87.35</td>\n",
       "      <td>222.5</td>\n",
       "      <td>84.8</td>\n",
       "      <td>70.20</td>\n",
       "      <td>155.5</td>\n",
       "      <td>372.0</td>\n",
       "      <td>6944.70</td>\n",
       "      <td>6495.9</td>\n",
       "      <td>534.5</td>\n",
       "      <td>76.5</td>\n",
       "      <td>380.70</td>\n",
       "      <td>75.0</td>\n",
       "      <td>358.35</td>\n",
       "      <td>80.8</td>\n",
       "      <td>7051.50</td>\n",
       "      <td>9961.35</td>\n",
       "    </tr>\n",
       "  </tbody>\n",
       "</table>\n",
       "</div>"
      ],
      "text/plain": [
       "   LOT  JUDGE  TAT_1BLACK_1PRINT  TAT_1BLACK_2RTD  TAT_2AG_1PRINT  \\\n",
       "0  101   0.10              86.35            219.0            83.4   \n",
       "1  102   0.05              89.00            214.0            85.3   \n",
       "2  103   0.15              88.90            219.0            85.2   \n",
       "3  104   0.00              87.35            224.5            84.9   \n",
       "4  105   0.10              87.35            222.5            84.8   \n",
       "\n",
       "   TAT_2AG_2RTD  TAT_2AG_3EXPOSURE  TAT_3BUS_1DEVELOP  TAT_3BUS_2FIRE  \\\n",
       "0         71.15              155.8              373.2         6969.75   \n",
       "1         71.00              167.7              369.0         6939.30   \n",
       "2         70.05              158.4              368.0         6958.20   \n",
       "3         69.15              186.1              361.8         7002.75   \n",
       "4         70.20              155.5              372.0         6944.70   \n",
       "\n",
       "   TAT_4DIELEC_FIRE  TAT_5MGO  TAT_6PHOS_1R_1DISPENSER  TAT_6PHOS_1R_2DRY  \\\n",
       "0            6542.1     534.5                     81.6             389.25   \n",
       "1            6510.0     544.0                     80.3             393.15   \n",
       "2            6513.6     532.0                     79.7             404.25   \n",
       "3            6506.7     534.5                     79.6             377.55   \n",
       "4            6495.9     534.5                     76.5             380.70   \n",
       "\n",
       "   TAT_6PHOS_2G_1DISPENSER  TAT_6PHOS_2G_2DRY  TAT_6PHOS_3B_1DISPENSER  \\\n",
       "0                     81.6             377.40                     84.4   \n",
       "1                     80.0             375.00                     83.8   \n",
       "2                     80.3             389.85                     84.1   \n",
       "3                     82.6             377.85                     85.2   \n",
       "4                     75.0             358.35                     80.8   \n",
       "\n",
       "   TAT_6PHOS_4FIRE  TAT_8AGING  \n",
       "0          7190.60     9989.50  \n",
       "1          7131.75     9961.40  \n",
       "2          7230.95    10022.05  \n",
       "3          7278.95     9968.45  \n",
       "4          7051.50     9961.35  "
      ]
     },
     "execution_count": 5,
     "metadata": {},
     "output_type": "execute_result"
    }
   ],
   "source": [
    "df = pd.read_csv('data/MFG_TAT_NULL_COL_OUT_LOT.csv', engine='python', encoding='EUC-KR')\n",
    "df.head()"
   ]
  },
  {
   "cell_type": "code",
   "execution_count": null,
   "metadata": {},
   "outputs": [],
   "source": []
  },
  {
   "cell_type": "code",
   "execution_count": null,
   "metadata": {},
   "outputs": [],
   "source": []
  },
  {
   "cell_type": "code",
   "execution_count": 6,
   "metadata": {
    "id": "Xw4VlFY3qo0g",
    "outputId": "5daffe8a-4805-4da5-d72e-a302d0e887b7"
   },
   "outputs": [
    {
     "data": {
      "text/plain": [
       "Index(['TAT_6PHOS_1R_1DISPENSER', 'TAT_6PHOS_1R_2DRY',\n",
       "       'TAT_6PHOS_2G_1DISPENSER', 'TAT_6PHOS_2G_2DRY',\n",
       "       'TAT_6PHOS_3B_1DISPENSER', 'TAT_6PHOS_4FIRE', 'TAT_8AGING'],\n",
       "      dtype='object')"
      ]
     },
     "execution_count": 6,
     "metadata": {},
     "output_type": "execute_result"
    }
   ],
   "source": [
    "col = df.columns\n",
    "col = col[11:]\n",
    "col"
   ]
  },
  {
   "cell_type": "code",
   "execution_count": 7,
   "metadata": {
    "id": "CgNyMgrhqo0g",
    "outputId": "291dddd2-e01d-4dc1-e2e2-de38a74ea9c0"
   },
   "outputs": [
    {
     "name": "stdout",
     "output_type": "stream",
     "text": [
      "             df       sum_sq    mean_sq         F    PR(>F)\n",
      "C(JUDGE)    6.0    79.474936  13.245823  0.407865  0.873261\n",
      "Residual  193.0  6267.874751  32.476035       NaN       NaN\n"
     ]
    }
   ],
   "source": [
    "lm = ols('TAT_1BLACK_1PRINT~C(JUDGE)', df).fit()\n",
    "print(anova_lm(lm))"
   ]
  },
  {
   "cell_type": "code",
   "execution_count": 8,
   "metadata": {
    "id": "fPFv-Guwqo0h",
    "outputId": "ebc8a199-7d8c-4458-a12b-fe319357d63e"
   },
   "outputs": [
    {
     "name": "stdout",
     "output_type": "stream",
     "text": [
      "             df        sum_sq     mean_sq         F    PR(>F)\n",
      "C(JUDGE)    6.0    737.386209  122.897702  0.593538  0.735282\n",
      "Residual  193.0  39962.512541  207.059650       NaN       NaN\n"
     ]
    }
   ],
   "source": [
    "lm = ols('TAT_1BLACK_2RTD~C(JUDGE)', df).fit()\n",
    "print(anova_lm(lm))"
   ]
  },
  {
   "cell_type": "code",
   "execution_count": 10,
   "metadata": {
    "id": "P2N-hxeAqo0h",
    "outputId": "2ddbe6f9-39a1-4b9a-8b84-bea435ff5f60"
   },
   "outputs": [
    {
     "name": "stdout",
     "output_type": "stream",
     "text": [
      "             df       sum_sq    mean_sq         F    PR(>F)\n",
      "C(JUDGE)    6.0    66.063375  11.010562  0.367299  0.899011\n",
      "Residual  193.0  5785.576313  29.977079       NaN       NaN\n"
     ]
    }
   ],
   "source": [
    "lm = ols('TAT_2AG_1PRINT~C(JUDGE)', df).fit()\n",
    "print(anova_lm(lm))"
   ]
  },
  {
   "cell_type": "code",
   "execution_count": 9,
   "metadata": {
    "id": "BhyqooAGqo0h",
    "outputId": "9dbeb5f8-1782-4e64-c5ad-18fae29109da"
   },
   "outputs": [
    {
     "name": "stdout",
     "output_type": "stream",
     "text": [
      "             df       sum_sq    mean_sq         F   PR(>F)\n",
      "C(JUDGE)    6.0    60.501899  10.083650  0.481253  0.82182\n",
      "Residual  193.0  4043.908101  20.952892       NaN      NaN\n"
     ]
    }
   ],
   "source": [
    "lm = ols('TAT_2AG_2RTD~C(JUDGE)', df).fit()\n",
    "print(anova_lm(lm))"
   ]
  },
  {
   "cell_type": "code",
   "execution_count": 11,
   "metadata": {
    "id": "oAKnp2Yxqo0h",
    "outputId": "f24c4661-3eb1-45ea-9be2-0569326010f4"
   },
   "outputs": [
    {
     "name": "stdout",
     "output_type": "stream",
     "text": [
      "             df        sum_sq     mean_sq         F    PR(>F)\n",
      "C(JUDGE)    6.0    682.010084  113.668347  0.577634  0.747894\n",
      "Residual  193.0  37979.064116  196.782716       NaN       NaN\n"
     ]
    }
   ],
   "source": [
    "lm = ols('TAT_2AG_3EXPOSURE~C(JUDGE)', df).fit()\n",
    "print(anova_lm(lm))"
   ]
  },
  {
   "cell_type": "code",
   "execution_count": 12,
   "metadata": {
    "id": "e0PEiK72qo0i",
    "outputId": "f4c3b90e-a09d-48ce-f9dd-01d80410315d"
   },
   "outputs": [
    {
     "name": "stdout",
     "output_type": "stream",
     "text": [
      "             df         sum_sq     mean_sq         F    PR(>F)\n",
      "C(JUDGE)    6.0    1875.197699  312.532950  0.529425  0.785529\n",
      "Residual  193.0  113932.865501  590.325728       NaN       NaN\n"
     ]
    }
   ],
   "source": [
    "lm = ols('TAT_3BUS_1DEVELOP~C(JUDGE)', df).fit()\n",
    "print(anova_lm(lm))"
   ]
  },
  {
   "cell_type": "code",
   "execution_count": 13,
   "metadata": {
    "id": "MNOvQjP3qo0i",
    "outputId": "b5266802-4c72-43c0-c746-dec1e965b612"
   },
   "outputs": [
    {
     "name": "stdout",
     "output_type": "stream",
     "text": [
      "             df        sum_sq        mean_sq        F    PR(>F)\n",
      "C(JUDGE)    6.0  6.244559e+05  104075.981006  0.50793  0.801918\n",
      "Residual  193.0  3.954610e+07  204902.053305      NaN       NaN\n"
     ]
    }
   ],
   "source": [
    "lm = ols('TAT_3BUS_2FIRE~C(JUDGE)', df).fit()\n",
    "print(anova_lm(lm))"
   ]
  },
  {
   "cell_type": "code",
   "execution_count": 14,
   "metadata": {
    "id": "JglnyWgsqo0i",
    "outputId": "fe98c2a3-999a-4cdd-90b9-a8b1f4d8ce5b"
   },
   "outputs": [
    {
     "name": "stdout",
     "output_type": "stream",
     "text": [
      "             df        sum_sq        mean_sq        F    PR(>F)\n",
      "C(JUDGE)    6.0  3.996720e+05   66611.992366  0.37652  0.893354\n",
      "Residual  193.0  3.414456e+07  176914.796842      NaN       NaN\n"
     ]
    }
   ],
   "source": [
    "lm = ols('TAT_4DIELEC_FIRE~C(JUDGE)', df).fit()\n",
    "print(anova_lm(lm))"
   ]
  },
  {
   "cell_type": "code",
   "execution_count": 15,
   "metadata": {
    "id": "dyp2ihouqo0i",
    "outputId": "5c11c75f-4df6-4bcc-aefd-13b545185a33"
   },
   "outputs": [
    {
     "name": "stdout",
     "output_type": "stream",
     "text": [
      "             df         sum_sq      mean_sq         F   PR(>F)\n",
      "C(JUDGE)    6.0    2867.692914   477.948819  0.399081  0.87902\n",
      "Residual  193.0  231141.187086  1197.622731       NaN      NaN\n"
     ]
    }
   ],
   "source": [
    "lm = ols('TAT_5MGO~C(JUDGE)', df).fit()\n",
    "print(anova_lm(lm))"
   ]
  },
  {
   "cell_type": "code",
   "execution_count": 16,
   "metadata": {
    "id": "0gsYKO2xqo0j",
    "outputId": "c9753c0e-8666-44ca-e494-e98a18e837ea"
   },
   "outputs": [
    {
     "name": "stdout",
     "output_type": "stream",
     "text": [
      "             df       sum_sq    mean_sq         F    PR(>F)\n",
      "C(JUDGE)    6.0    11.203449   1.867241  0.058125  0.999203\n",
      "Residual  193.0  6200.028101  32.124498       NaN       NaN\n"
     ]
    }
   ],
   "source": [
    "lm = ols('TAT_6PHOS_1R_1DISPENSER~C(JUDGE)', df).fit()\n",
    "print(anova_lm(lm))"
   ]
  },
  {
   "cell_type": "code",
   "execution_count": 17,
   "metadata": {
    "id": "qoxgOJY4qo0j",
    "outputId": "9cc89e85-2db5-4c9e-a791-c30ed61a82c1"
   },
   "outputs": [
    {
     "name": "stdout",
     "output_type": "stream",
     "text": [
      "             df         sum_sq     mean_sq         F    PR(>F)\n",
      "C(JUDGE)    6.0    1523.985697  253.997616  0.278061  0.946781\n",
      "Residual  193.0  176297.972791  913.460999       NaN       NaN\n"
     ]
    }
   ],
   "source": [
    "lm = ols('TAT_6PHOS_1R_2DRY~C(JUDGE)', df).fit()\n",
    "print(anova_lm(lm))"
   ]
  },
  {
   "cell_type": "code",
   "execution_count": 18,
   "metadata": {
    "id": "mWH4r8-Oqo0j",
    "outputId": "47708d51-6113-401e-d521-15d939f26d2b"
   },
   "outputs": [
    {
     "name": "stdout",
     "output_type": "stream",
     "text": [
      "             df       sum_sq    mean_sq         F    PR(>F)\n",
      "C(JUDGE)    6.0    51.942943   8.657157  0.278155  0.946738\n",
      "Residual  193.0  6006.832057  31.123482       NaN       NaN\n"
     ]
    }
   ],
   "source": [
    "lm = ols('TAT_6PHOS_2G_1DISPENSER~C(JUDGE)', df).fit()\n",
    "print(anova_lm(lm))"
   ]
  },
  {
   "cell_type": "code",
   "execution_count": 19,
   "metadata": {
    "id": "9miPLkrHqo0j",
    "outputId": "e293e448-7dad-41ba-a702-9fb5dbc005f9"
   },
   "outputs": [
    {
     "name": "stdout",
     "output_type": "stream",
     "text": [
      "             df         sum_sq     mean_sq        F    PR(>F)\n",
      "C(JUDGE)    6.0    2275.849458  379.308243  0.60887  0.723059\n",
      "Residual  193.0  120233.334492  622.970645      NaN       NaN\n"
     ]
    }
   ],
   "source": [
    "lm = ols('TAT_6PHOS_2G_2DRY~C(JUDGE)', df).fit()\n",
    "print(anova_lm(lm))"
   ]
  },
  {
   "cell_type": "code",
   "execution_count": 20,
   "metadata": {
    "id": "-nT4RgYrqo0j",
    "outputId": "5793a342-daaf-423b-f18f-0da095ebbc5d"
   },
   "outputs": [
    {
     "name": "stdout",
     "output_type": "stream",
     "text": [
      "             df       sum_sq    mean_sq         F    PR(>F)\n",
      "C(JUDGE)    6.0    31.499598   5.249933  0.159194  0.986989\n",
      "Residual  193.0  6364.803952  32.978259       NaN       NaN\n"
     ]
    }
   ],
   "source": [
    "lm = ols('TAT_6PHOS_3B_1DISPENSER~C(JUDGE)', df).fit()\n",
    "print(anova_lm(lm))"
   ]
  },
  {
   "cell_type": "code",
   "execution_count": 21,
   "metadata": {
    "id": "ePSmgV6cqo0j",
    "outputId": "c17031c3-5e3d-40b9-9239-b137002e9e49"
   },
   "outputs": [
    {
     "name": "stdout",
     "output_type": "stream",
     "text": [
      "             df        sum_sq        mean_sq         F    PR(>F)\n",
      "C(JUDGE)    6.0  8.124509e+05  135408.476256  0.626552  0.708907\n",
      "Residual  193.0  4.171058e+07  216116.975516       NaN       NaN\n"
     ]
    }
   ],
   "source": [
    "lm = ols('TAT_6PHOS_4FIRE~C(JUDGE)', df).fit()\n",
    "print(anova_lm(lm))"
   ]
  },
  {
   "cell_type": "code",
   "execution_count": 22,
   "metadata": {
    "id": "7XZkEHcJqo0k",
    "outputId": "a559af73-6485-4591-d1c2-1e0db9859d4b"
   },
   "outputs": [
    {
     "name": "stdout",
     "output_type": "stream",
     "text": [
      "             df        sum_sq        mean_sq         F    PR(>F)\n",
      "C(JUDGE)    6.0  1.149700e+06  191616.662524  0.465697  0.833164\n",
      "Residual  193.0  7.941224e+07  411462.369107       NaN       NaN\n"
     ]
    }
   ],
   "source": [
    "lm = ols('TAT_8AGING~C(JUDGE)', df).fit()\n",
    "print(anova_lm(lm))"
   ]
  },
  {
   "cell_type": "markdown",
   "metadata": {
    "id": "s6suC-F3qo0k"
   },
   "source": [
    "TAT_1BLACK_1PRINT  \n",
    "TAT_1BLACK_2RTD   \n",
    "TAT_2AG_2RTD  \n",
    "TAT_3BUS_1DEVELOP  \n",
    "TAT_4DIELEC_FIRE  \n",
    "TAT_6PHOS_1R_1DISPENSER  \n",
    "TAT_6PHOS_2G_2DRY  "
   ]
  },
  {
   "cell_type": "code",
   "execution_count": null,
   "metadata": {},
   "outputs": [],
   "source": []
  }
 ],
 "metadata": {
  "colab": {
   "name": "TAT_ANOVA.ipynb",
   "provenance": []
  },
  "kernelspec": {
   "display_name": "Python 3",
   "language": "python",
   "name": "python3"
  },
  "language_info": {
   "codemirror_mode": {
    "name": "ipython",
    "version": 3
   },
   "file_extension": ".py",
   "mimetype": "text/x-python",
   "name": "python",
   "nbconvert_exporter": "python",
   "pygments_lexer": "ipython3",
   "version": "3.7.6"
  }
 },
 "nbformat": 4,
 "nbformat_minor": 1
}
